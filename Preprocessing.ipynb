{
 "cells": [
  {
   "cell_type": "code",
   "execution_count": 1,
   "metadata": {
    "collapsed": false
   },
   "outputs": [],
   "source": [
    "import numpy as np\n",
    "import pandas as pd\n",
    "import glob\n",
    "import string\n",
    "\n",
    "from sklearn.model_selection import train_test_split\n",
    "from nltk.tag import pos_tag\n",
    "\n",
    "import matplotlib.pyplot as plt\n",
    "import seaborn as sns\n",
    "\n",
    "%matplotlib inline"
   ]
  },
  {
   "cell_type": "markdown",
   "metadata": {},
   "source": [
    "# Importing Dataset\n",
    "\n",
    "We import the CSV files"
   ]
  },
  {
   "cell_type": "code",
   "execution_count": 2,
   "metadata": {
    "collapsed": false
   },
   "outputs": [],
   "source": [
    "all_data = pd.DataFrame()\n",
    "for f in glob.glob(\"./data/*.csv\"):\n",
    "    df = pd.read_csv(f)\n",
    "    all_data = all_data.append(df,ignore_index=True)"
   ]
  },
  {
   "cell_type": "code",
   "execution_count": 3,
   "metadata": {
    "collapsed": false
   },
   "outputs": [
    {
     "name": "stdout",
     "output_type": "stream",
     "text": [
      "<class 'pandas.core.frame.DataFrame'>\n",
      "RangeIndex: 2232 entries, 0 to 2231\n",
      "Data columns (total 20 columns):\n",
      "id                       2232 non-null float64\n",
      "id_str                   2232 non-null object\n",
      "screen_name              2232 non-null object\n",
      "location                 1420 non-null object\n",
      "description              1911 non-null object\n",
      "url                      1212 non-null object\n",
      "followers_count          2232 non-null int64\n",
      "friends_count            2232 non-null int64\n",
      "listedcount              2232 non-null int64\n",
      "created_at               2232 non-null object\n",
      "favourites_count         2232 non-null int64\n",
      "verified                 2232 non-null bool\n",
      "statuses_count           2232 non-null int64\n",
      "lang                     2232 non-null object\n",
      "status                   2203 non-null object\n",
      "default_profile          2232 non-null bool\n",
      "default_profile_image    2232 non-null bool\n",
      "has_extended_profile     2154 non-null object\n",
      "name                     2232 non-null object\n",
      "bot                      2232 non-null int64\n",
      "dtypes: bool(3), float64(1), int64(6), object(10)\n",
      "memory usage: 303.0+ KB\n"
     ]
    }
   ],
   "source": [
    "all_data.info()\n",
    "all_data = all_data.sample(frac=1).reset_index(drop=True)"
   ]
  },
  {
   "cell_type": "code",
   "execution_count": 4,
   "metadata": {
    "collapsed": false
   },
   "outputs": [
    {
     "data": {
      "text/html": [
       "<div>\n",
       "<table border=\"1\" class=\"dataframe\">\n",
       "  <thead>\n",
       "    <tr style=\"text-align: right;\">\n",
       "      <th></th>\n",
       "      <th>id</th>\n",
       "      <th>id_str</th>\n",
       "      <th>screen_name</th>\n",
       "      <th>location</th>\n",
       "      <th>description</th>\n",
       "      <th>url</th>\n",
       "      <th>followers_count</th>\n",
       "      <th>friends_count</th>\n",
       "      <th>listedcount</th>\n",
       "      <th>created_at</th>\n",
       "      <th>favourites_count</th>\n",
       "      <th>verified</th>\n",
       "      <th>statuses_count</th>\n",
       "      <th>lang</th>\n",
       "      <th>status</th>\n",
       "      <th>default_profile</th>\n",
       "      <th>default_profile_image</th>\n",
       "      <th>has_extended_profile</th>\n",
       "      <th>name</th>\n",
       "      <th>bot</th>\n",
       "    </tr>\n",
       "  </thead>\n",
       "  <tbody>\n",
       "    <tr>\n",
       "      <th>0</th>\n",
       "      <td>2.295282e+09</td>\n",
       "      <td>2295281700</td>\n",
       "      <td>ClickerMaker</td>\n",
       "      <td>NaN</td>\n",
       "      <td>Once a day I generate a random [Whatever] Clic...</td>\n",
       "      <td>NaN</td>\n",
       "      <td>185</td>\n",
       "      <td>1</td>\n",
       "      <td>14</td>\n",
       "      <td>Fri Jan 17 01:37:04 +0000 2014</td>\n",
       "      <td>0</td>\n",
       "      <td>False</td>\n",
       "      <td>573</td>\n",
       "      <td>en</td>\n",
       "      <td>{u'contributors': None, u'truncated': False, u...</td>\n",
       "      <td>True</td>\n",
       "      <td>False</td>\n",
       "      <td>False</td>\n",
       "      <td>Clicker Maker</td>\n",
       "      <td>1</td>\n",
       "    </tr>\n",
       "    <tr>\n",
       "      <th>1</th>\n",
       "      <td>1.908076e+07</td>\n",
       "      <td>19080760</td>\n",
       "      <td>AFI</td>\n",
       "      <td>NaN</td>\n",
       "      <td>Pre-order The Blood Album on iTunes. https://t...</td>\n",
       "      <td>https://t.co/pPGkMEWViU</td>\n",
       "      <td>112499</td>\n",
       "      <td>9471</td>\n",
       "      <td>2038</td>\n",
       "      <td>Fri Jan 16 19:20:26 +0000 2009</td>\n",
       "      <td>1</td>\n",
       "      <td>True</td>\n",
       "      <td>625</td>\n",
       "      <td>en</td>\n",
       "      <td>{u'contributors': None, u'truncated': True, u'...</td>\n",
       "      <td>False</td>\n",
       "      <td>False</td>\n",
       "      <td>False</td>\n",
       "      <td>AFI</td>\n",
       "      <td>0</td>\n",
       "    </tr>\n",
       "    <tr>\n",
       "      <th>2</th>\n",
       "      <td>4.848983e+09</td>\n",
       "      <td>4848983413</td>\n",
       "      <td>debbyr83</td>\n",
       "      <td>Linn Creek city, MO, USA</td>\n",
       "      <td>The Mole Hole of Myrtle Beach,SC has been in b...</td>\n",
       "      <td>NaN</td>\n",
       "      <td>2</td>\n",
       "      <td>334</td>\n",
       "      <td>0</td>\n",
       "      <td>2/2/16</td>\n",
       "      <td>19</td>\n",
       "      <td>False</td>\n",
       "      <td>27</td>\n",
       "      <td>en</td>\n",
       "      <td>Status(text='Free Domain Forever: http://www.B...</td>\n",
       "      <td>True</td>\n",
       "      <td>False</td>\n",
       "      <td>False</td>\n",
       "      <td>Debby Garcia</td>\n",
       "      <td>1</td>\n",
       "    </tr>\n",
       "    <tr>\n",
       "      <th>3</th>\n",
       "      <td>3.810743e+09</td>\n",
       "      <td>3810742695</td>\n",
       "      <td>crazyl1f</td>\n",
       "      <td>NaN</td>\n",
       "      <td>NaN</td>\n",
       "      <td>NaN</td>\n",
       "      <td>2</td>\n",
       "      <td>5</td>\n",
       "      <td>0</td>\n",
       "      <td>Tue Sep 29 04:13:42 +0000 2015</td>\n",
       "      <td>0</td>\n",
       "      <td>False</td>\n",
       "      <td>2</td>\n",
       "      <td>zh-cn</td>\n",
       "      <td>{'truncated': False, 'entities': {'user_mentio...</td>\n",
       "      <td>True</td>\n",
       "      <td>True</td>\n",
       "      <td>False</td>\n",
       "      <td>Songgaoyun Deng</td>\n",
       "      <td>0</td>\n",
       "    </tr>\n",
       "  </tbody>\n",
       "</table>\n",
       "</div>"
      ],
      "text/plain": [
       "             id      id_str   screen_name                  location  \\\n",
       "0  2.295282e+09  2295281700  ClickerMaker                       NaN   \n",
       "1  1.908076e+07    19080760           AFI                       NaN   \n",
       "2  4.848983e+09  4848983413      debbyr83  Linn Creek city, MO, USA   \n",
       "3  3.810743e+09  3810742695      crazyl1f                       NaN   \n",
       "\n",
       "                                         description                      url  \\\n",
       "0  Once a day I generate a random [Whatever] Clic...                      NaN   \n",
       "1  Pre-order The Blood Album on iTunes. https://t...  https://t.co/pPGkMEWViU   \n",
       "2  The Mole Hole of Myrtle Beach,SC has been in b...                      NaN   \n",
       "3                                                NaN                      NaN   \n",
       "\n",
       "   followers_count  friends_count  listedcount  \\\n",
       "0              185              1           14   \n",
       "1           112499           9471         2038   \n",
       "2                2            334            0   \n",
       "3                2              5            0   \n",
       "\n",
       "                       created_at  favourites_count verified  statuses_count  \\\n",
       "0  Fri Jan 17 01:37:04 +0000 2014                 0    False             573   \n",
       "1  Fri Jan 16 19:20:26 +0000 2009                 1     True             625   \n",
       "2                          2/2/16                19    False              27   \n",
       "3  Tue Sep 29 04:13:42 +0000 2015                 0    False               2   \n",
       "\n",
       "    lang                                             status default_profile  \\\n",
       "0     en  {u'contributors': None, u'truncated': False, u...            True   \n",
       "1     en  {u'contributors': None, u'truncated': True, u'...           False   \n",
       "2     en  Status(text='Free Domain Forever: http://www.B...            True   \n",
       "3  zh-cn  {'truncated': False, 'entities': {'user_mentio...            True   \n",
       "\n",
       "  default_profile_image has_extended_profile             name  bot  \n",
       "0                 False                False    Clicker Maker    1  \n",
       "1                 False                False              AFI    0  \n",
       "2                 False                False     Debby Garcia    1  \n",
       "3                  True                False  Songgaoyun Deng    0  "
      ]
     },
     "execution_count": 4,
     "metadata": {},
     "output_type": "execute_result"
    }
   ],
   "source": [
    "all_data.head(4)"
   ]
  },
  {
   "cell_type": "code",
   "execution_count": 47,
   "metadata": {
    "collapsed": true
   },
   "outputs": [],
   "source": [
    "train, test = train_test_split(all_data, test_size = 0.2)"
   ]
  },
  {
   "cell_type": "code",
   "execution_count": 6,
   "metadata": {
    "collapsed": false
   },
   "outputs": [
    {
     "data": {
      "text/plain": [
       "((1785, 20), (447, 20))"
      ]
     },
     "execution_count": 6,
     "metadata": {},
     "output_type": "execute_result"
    }
   ],
   "source": [
    "train.shape , test.shape"
   ]
  },
  {
   "cell_type": "markdown",
   "metadata": {},
   "source": [
    "# Visualizing Data"
   ]
  },
  {
   "cell_type": "code",
   "execution_count": 7,
   "metadata": {
    "collapsed": false
   },
   "outputs": [
    {
     "data": {
      "text/plain": [
       "<matplotlib.axes._subplots.AxesSubplot at 0x11abee9d0>"
      ]
     },
     "execution_count": 7,
     "metadata": {},
     "output_type": "execute_result"
    },
    {
     "data": {
      "image/png": "[encoded data removed]",
      "text/plain": [
       "<matplotlib.figure.Figure at 0x11abeec90>"
      ]
     },
     "metadata": {},
     "output_type": "display_data"
    }
   ],
   "source": [
    "plt.title('Number of bot vs Number of people', y=1.1, size=15)\n",
    "sns.countplot('bot', data=train)"
   ]
  },
  {
   "cell_type": "code",
   "execution_count": 8,
   "metadata": {
    "collapsed": false
   },
   "outputs": [
    {
     "data": {
      "text/plain": [
       "<matplotlib.axes._subplots.AxesSubplot at 0x10e409f90>"
      ]
     },
     "execution_count": 8,
     "metadata": {},
     "output_type": "execute_result"
    },
    {
     "data": {
      "image/png": "[encoded data removed]",
      "text/plain": [
       "<matplotlib.figure.Figure at 0x10e41f850>"
      ]
     },
     "metadata": {},
     "output_type": "display_data"
    }
   ],
   "source": [
    "plt.title('Bot count between Verified account', size=20, y=1.1)\n",
    "sns.countplot(x = 'bot', hue='default_profile', data=train)"
   ]
  },
  {
   "cell_type": "code",
   "execution_count": 10,
   "metadata": {
    "collapsed": false
   },
   "outputs": [
    {
     "data": {
      "text/plain": [
       "<matplotlib.axes._subplots.AxesSubplot at 0x10e488390>"
      ]
     },
     "execution_count": 10,
     "metadata": {},
     "output_type": "execute_result"
    },
    {
     "data": {
      "image/png": "[encoded data removed]",
      "text/plain": [
       "<matplotlib.figure.Figure at 0x111d4f150>"
      ]
     },
     "metadata": {},
     "output_type": "display_data"
    }
   ],
   "source": [
    "plt.title('Bot rate between Verified', size=20, y=1.1)\n",
    "sns.countplot(x='verified', hue='bot', data=train)"
   ]
  },
  {
   "cell_type": "code",
   "execution_count": 11,
   "metadata": {
    "collapsed": false
   },
   "outputs": [
    {
     "data": {
      "text/plain": [
       "<matplotlib.axes._subplots.AxesSubplot at 0x111ed3b50>"
      ]
     },
     "execution_count": 11,
     "metadata": {},
     "output_type": "execute_result"
    },
    {
     "data": {
      "image/png": "[encoded data removed]",
      "text/plain": [
       "<matplotlib.figure.Figure at 0x111e2c890>"
      ]
     },
     "metadata": {},
     "output_type": "display_data"
    }
   ],
   "source": [
    "plt.title('Bot count between Verified account', size=20, y=1.1)\n",
    "sns.countplot(x = 'followers_count', hue='bot', data=train)"
   ]
  },
  {
   "cell_type": "code",
   "execution_count": 38,
   "metadata": {
    "collapsed": false
   },
   "outputs": [
    {
     "data": {
      "text/plain": [
       "<matplotlib.axes._subplots.AxesSubplot at 0x1310cfc10>"
      ]
     },
     "execution_count": 38,
     "metadata": {},
     "output_type": "execute_result"
    },
    {
     "data": {
      "image/png": "[encoded data removed]",
      "text/plain": [
       "<matplotlib.figure.Figure at 0x12bf3aa90>"
      ]
     },
     "metadata": {},
     "output_type": "display_data"
    }
   ],
   "source": [
    "plt.xlim(0, 10)\n",
    "plt.ylim(0, 10)\n",
    "sns.countplot(x = 'statuses_count', hue='bot', data=train)"
   ]
  },
  {
   "cell_type": "code",
   "execution_count": 32,
   "metadata": {
    "collapsed": false
   },
   "outputs": [
    {
     "data": {
      "text/plain": [
       "<matplotlib.axes._subplots.AxesSubplot at 0x119fcad50>"
      ]
     },
     "execution_count": 32,
     "metadata": {},
     "output_type": "execute_result"
    },
    {
     "data": {
      "image/png": "[encoded data removed]",
      "text/plain": [
       "<matplotlib.figure.Figure at 0x11a0a21d0>"
      ]
     },
     "metadata": {},
     "output_type": "display_data"
    }
   ],
   "source": [
    "plt.ylim(0, 40000)\n",
    "sns.boxplot(x='bot', y='statuses_count', data=train)"
   ]
  },
  {
   "cell_type": "code",
   "execution_count": 11,
   "metadata": {
    "collapsed": false
   },
   "outputs": [
    {
     "data": {
      "text/plain": [
       "count    1.785000e+03\n",
       "mean     9.689370e+05\n",
       "std      5.355878e+06\n",
       "min      0.000000e+00\n",
       "25%      4.500000e+01\n",
       "50%      3.430000e+02\n",
       "75%      1.307100e+04\n",
       "max      9.632156e+07\n",
       "Name: followers_count, dtype: float64"
      ]
     },
     "execution_count": 11,
     "metadata": {},
     "output_type": "execute_result"
    },
    {
     "data": {
      "image/png": "[encoded data removed]",
      "text/plain": [
       "<matplotlib.figure.Figure at 0x10f2af5d0>"
      ]
     },
     "metadata": {},
     "output_type": "display_data"
    }
   ],
   "source": [
    "sns.distplot(train['followers_count'])\n",
    "train['followers_count'].describe()"
   ]
  },
  {
   "cell_type": "code",
   "execution_count": 76,
   "metadata": {
    "collapsed": true
   },
   "outputs": [],
   "source": [
    "def lexical_diversity(text):\n",
    "  if len(text) == 0:\n",
    "    diversity = 0\n",
    "  else: \n",
    "    diversity = float(len(set(text))) / len(text)\n",
    "  return diversity\n",
    "\n",
    "def screenname_format(text):\n",
    "  if text[-2:].isdigit():\n",
    "    return True\n",
    "  else: \n",
    "    return False\n",
    "\n",
    "def screenname_length(text):\n",
    "    return len(str(text))\n",
    "\n",
    "def screenname_digitcount(text):\n",
    "    c = 0\n",
    "    for x in text:\n",
    "        if x.isdigit():\n",
    "            c+=1\n",
    "    return c"
   ]
  },
  {
   "cell_type": "code",
   "execution_count": 120,
   "metadata": {
    "collapsed": false
   },
   "outputs": [],
   "source": [
    "train.loc[:,'last_numeric'] = train.screen_name.apply(screenname_format)\n",
    "train.loc[:,'sn_length'] = train.screen_name.apply(screenname_length)\n",
    "train.loc[:,'sn_digitcount'] = train.screen_name.apply(screenname_digitcount)\n"
   ]
  },
  {
   "cell_type": "code",
   "execution_count": 124,
   "metadata": {
    "collapsed": true
   },
   "outputs": [],
   "source": [
    "test.loc[:,'last_numeric'] = test.screen_name.apply(screenname_format)\n",
    "test.loc[:,'sn_length'] = test.screen_name.apply(screenname_length)\n",
    "test.loc[:,'sn_digitcount'] = test.screen_name.apply(screenname_digitcount)"
   ]
  },
  {
   "cell_type": "code",
   "execution_count": 72,
   "metadata": {
    "collapsed": false
   },
   "outputs": [
    {
     "data": {
      "text/plain": [
       "<matplotlib.axes._subplots.AxesSubplot at 0x11e5b0390>"
      ]
     },
     "execution_count": 72,
     "metadata": {},
     "output_type": "execute_result"
    },
    {
     "data": {
      "image/png": "[encoded data removed]",
      "text/plain": [
       "<matplotlib.figure.Figure at 0x11e8c9e50>"
      ]
     },
     "metadata": {},
     "output_type": "display_data"
    }
   ],
   "source": [
    "sns.countplot(x ='sn_digitcount', hue='bot' ,data=train)"
   ]
  },
  {
   "cell_type": "code",
   "execution_count": 122,
   "metadata": {
    "collapsed": false
   },
   "outputs": [],
   "source": [
    "train.loc[:,'description'].fillna(\"\")\n",
    "train.loc[:,'desc_length'] = train.description.apply(screenname_length)"
   ]
  },
  {
   "cell_type": "code",
   "execution_count": 125,
   "metadata": {
    "collapsed": true
   },
   "outputs": [],
   "source": [
    "test.loc[:,'description'].fillna(\"\")\n",
    "test.loc[:,'desc_length'] = test.description.apply(screenname_length)"
   ]
  },
  {
   "cell_type": "code",
   "execution_count": 81,
   "metadata": {
    "collapsed": false
   },
   "outputs": [
    {
     "data": {
      "image/png": "[encoded data removed]",
      "text/plain": [
       "<matplotlib.figure.Figure at 0x1203eb090>"
      ]
     },
     "metadata": {},
     "output_type": "display_data"
    }
   ],
   "source": [
    "ax = sns.regplot(x=train['desc_length'], y=train['bot'])"
   ]
  },
  {
   "cell_type": "code",
   "execution_count": 87,
   "metadata": {
    "collapsed": false
   },
   "outputs": [
    {
     "data": {
      "text/plain": [
       "<matplotlib.axes._subplots.AxesSubplot at 0x11f1080d0>"
      ]
     },
     "execution_count": 87,
     "metadata": {},
     "output_type": "execute_result"
    },
    {
     "data": {
      "image/png": "[encoded data removed]",
      "text/plain": [
       "<matplotlib.figure.Figure at 0x11eaf8a90>"
      ]
     },
     "metadata": {},
     "output_type": "display_data"
    }
   ],
   "source": [
    "df1 = train[['desc_length','bot']]\n",
    "bot_len  = df1.ix[(df1['bot']==1)]\n",
    "sns.kdeplot(bot_len['desc_length'])"
   ]
  },
  {
   "cell_type": "code",
   "execution_count": 93,
   "metadata": {
    "collapsed": false
   },
   "outputs": [
    {
     "data": {
      "text/plain": [
       "<matplotlib.axes._subplots.AxesSubplot at 0x11fcd9610>"
      ]
     },
     "execution_count": 93,
     "metadata": {},
     "output_type": "execute_result"
    },
    {
     "data": {
      "image/png": "[encoded data removed]",
      "text/plain": [
       "<matplotlib.figure.Figure at 0x11fceb3d0>"
      ]
     },
     "metadata": {},
     "output_type": "display_data"
    }
   ],
   "source": [
    "df1 = train[['desc_length','bot']]\n",
    "nbot_len  = df1.ix[(df1['bot']==0)]\n",
    "sns.kdeplot(nbot_len['desc_length'])"
   ]
  },
  {
   "cell_type": "code",
   "execution_count": 94,
   "metadata": {
    "collapsed": false
   },
   "outputs": [
    {
     "data": {
      "text/plain": [
       "<seaborn.axisgrid.FacetGrid at 0x11fa98250>"
      ]
     },
     "execution_count": 94,
     "metadata": {},
     "output_type": "execute_result"
    },
    {
     "data": {
      "image/png": "[encoded data removed]",
      "text/plain": [
       "<matplotlib.figure.Figure at 0x11fe40190>"
      ]
     },
     "metadata": {},
     "output_type": "display_data"
    }
   ],
   "source": [
    "grid = sns.FacetGrid(train, row='verified', size=2.2, aspect=1.6)\n",
    "grid.map(sns.pointplot, 'followers_count', 'friends_count', 'bot', palette='deep')\n",
    "grid.add_legend()"
   ]
  },
  {
   "cell_type": "code",
   "execution_count": 127,
   "metadata": {
    "collapsed": true
   },
   "outputs": [],
   "source": [
    "grouped = train['screen_name']\n",
    "train['diversity'] = grouped.apply(lexical_diversity)"
   ]
  },
  {
   "cell_type": "code",
   "execution_count": 126,
   "metadata": {
    "collapsed": true
   },
   "outputs": [],
   "source": [
    "grouped = test['screen_name']\n",
    "test['diversity'] = grouped.apply(lexical_diversity)"
   ]
  },
  {
   "cell_type": "code",
   "execution_count": 13,
   "metadata": {
    "collapsed": false
   },
   "outputs": [
    {
     "name": "stderr",
     "output_type": "stream",
     "text": [
      "/Users/Vignesh/anaconda2/lib/python2.7/site-packages/ipykernel/__main__.py:2: SettingWithCopyWarning: \n",
      "A value is trying to be set on a copy of a slice from a DataFrame.\n",
      "Try using .loc[row_indexer,col_indexer] = value instead\n",
      "\n",
      "See the caveats in the documentation: http://pandas.pydata.org/pandas-docs/stable/indexing.html#indexing-view-versus-copy\n",
      "  from ipykernel import kernelapp as app\n"
     ]
    },
    {
     "data": {
      "text/plain": [
       "((845, 2), (940, 2))"
      ]
     },
     "execution_count": 13,
     "metadata": {},
     "output_type": "execute_result"
    }
   ],
   "source": [
    "df1 = train[['diversity','bot']]\n",
    "bot_diversity  = df1.ix[(df1['bot']==1)]\n",
    "Nonbot_diversity = df1.ix[(df1['bot']==0)]\n",
    "bot_diversity.shape, Nonbot_diversity.shape"
   ]
  },
  {
   "cell_type": "code",
   "execution_count": 14,
   "metadata": {
    "collapsed": false
   },
   "outputs": [
    {
     "data": {
      "text/plain": [
       "<matplotlib.axes._subplots.AxesSubplot at 0x111e2c690>"
      ]
     },
     "execution_count": 14,
     "metadata": {},
     "output_type": "execute_result"
    },
    {
     "data": {
      "image/png": "[encoded data removed]",
      "text/plain": [
       "<matplotlib.figure.Figure at 0x111f75cd0>"
      ]
     },
     "metadata": {},
     "output_type": "display_data"
    }
   ],
   "source": [
    "sns.countplot(x = Nonbot_diversity['diversity'], data=Nonbot_diversity)"
   ]
  },
  {
   "cell_type": "code",
   "execution_count": 15,
   "metadata": {
    "collapsed": false
   },
   "outputs": [
    {
     "data": {
      "text/plain": [
       "<matplotlib.axes._subplots.AxesSubplot at 0x114546a50>"
      ]
     },
     "execution_count": 15,
     "metadata": {},
     "output_type": "execute_result"
    },
    {
     "data": {
      "image/png": "[encoded data removed]",
      "text/plain": [
       "<matplotlib.figure.Figure at 0x116438c10>"
      ]
     },
     "metadata": {},
     "output_type": "display_data"
    }
   ],
   "source": [
    "sns.countplot(x = bot_diversity['diversity'], data=bot_diversity)"
   ]
  },
  {
   "cell_type": "code",
   "execution_count": null,
   "metadata": {
    "collapsed": true
   },
   "outputs": [],
   "source": []
  },
  {
   "cell_type": "markdown",
   "metadata": {},
   "source": [
    "# Transforming Features"
   ]
  },
  {
   "cell_type": "markdown",
   "metadata": {},
   "source": [
    "Since we must deal with numerical feature, we should convert all the following in a binary vector 0/1.\n",
    "1. verified \n",
    "2. default_profile \n",
    "3. default_profile_image \n",
    "4. has_extended_profile "
   ]
  },
  {
   "cell_type": "code",
   "execution_count": 7,
   "metadata": {
    "collapsed": false
   },
   "outputs": [
    {
     "data": {
      "text/plain": [
       "count    1.785000e+03\n",
       "mean     9.015671e+05\n",
       "std      4.773001e+06\n",
       "min      0.000000e+00\n",
       "25%      4.400000e+01\n",
       "50%      3.470000e+02\n",
       "75%      1.304900e+04\n",
       "max      8.568108e+07\n",
       "Name: followers_count, dtype: float64"
      ]
     },
     "execution_count": 7,
     "metadata": {},
     "output_type": "execute_result"
    }
   ],
   "source": [
    "train['followers_count'].describe()"
   ]
  },
  {
   "cell_type": "code",
   "execution_count": 8,
   "metadata": {
    "collapsed": true
   },
   "outputs": [],
   "source": [
    "def returnDates(x):\n",
    "    formated_date = ''\n",
    "    months = {'Jan':1,'Feb':2,'Mar':3,'Apr':4,'May':5,'Jun':6,'Jul':7,'Aug':8,'Sep':9,'Oct':10,'Nov':11,'Dec':12}\n",
    "    if x.startswith('\"') and x.endswith('\"'): x = x[1:-1]\n",
    "    date_split = x.split(' ')\n",
    "    if len(date_split) == 1:\n",
    "        _date = date_split[0].split('/')\n",
    "        _date[2] = '20'+_date[2]\n",
    "        formated_date = ''.join(map(str,_date))\n",
    "        #print formated_date , date_split, pd.to_datetime(formated_date, format='%m%d%Y', errors='coerce')\n",
    "    elif len(date_split) == 2:\n",
    "        _date = date_split[0].split('/')\n",
    "        formated_date = ''.join(map(str,[_date[1],_date[0],_date[2]]))\n",
    "        #print formated_date , date_split, pd.to_datetime(formated_date, format='%m%d%Y', errors='coerce')\n",
    "    elif len(date_split) == 6:\n",
    "        m = months[date_split[1]]\n",
    "        formated_date = ''.join(map(str,[m,date_split[2],date_split[5]]))\n",
    "        if formated_date[-1] == '\"': formated_date = formated_date[:-1]\n",
    "        #print formated_date, date_split, pd.to_datetime(formated_date, format='%m%d%Y', errors='coerce')\n",
    "    \n",
    "    return pd.to_datetime(formated_date, format='%m%d%Y', errors='coerce')"
   ]
  },
  {
   "cell_type": "code",
   "execution_count": 98,
   "metadata": {
    "collapsed": false
   },
   "outputs": [
    {
     "data": {
      "text/html": [
       "<div>\n",
       "<table border=\"1\" class=\"dataframe\">\n",
       "  <thead>\n",
       "    <tr style=\"text-align: right;\">\n",
       "      <th></th>\n",
       "      <th>followers_count</th>\n",
       "      <th>bot</th>\n",
       "    </tr>\n",
       "  </thead>\n",
       "  <tbody>\n",
       "    <tr>\n",
       "      <th>0</th>\n",
       "      <td>[0, 44]</td>\n",
       "      <td>0.740492</td>\n",
       "    </tr>\n",
       "    <tr>\n",
       "      <th>1</th>\n",
       "      <td>(44, 348]</td>\n",
       "      <td>0.565022</td>\n",
       "    </tr>\n",
       "    <tr>\n",
       "      <th>2</th>\n",
       "      <td>(348, 13725]</td>\n",
       "      <td>0.511211</td>\n",
       "    </tr>\n",
       "    <tr>\n",
       "      <th>3</th>\n",
       "      <td>(13725, 96321564]</td>\n",
       "      <td>0.087444</td>\n",
       "    </tr>\n",
       "  </tbody>\n",
       "</table>\n",
       "</div>"
      ],
      "text/plain": [
       "     followers_count       bot\n",
       "0            [0, 44]  0.740492\n",
       "1          (44, 348]  0.565022\n",
       "2       (348, 13725]  0.511211\n",
       "3  (13725, 96321564]  0.087444"
      ]
     },
     "execution_count": 98,
     "metadata": {},
     "output_type": "execute_result"
    }
   ],
   "source": [
    "train, test = train_test_split(all_data, test_size = 0.2)\n",
    "train.loc[:,'followers_count'] = pd.qcut(train['followers_count'], 4)\n",
    "train[['followers_count', 'bot']].groupby(['followers_count'], as_index=False).mean().sort_values(by='followers_count', ascending=True)"
   ]
  },
  {
   "cell_type": "code",
   "execution_count": 119,
   "metadata": {
    "collapsed": false
   },
   "outputs": [
    {
     "data": {
      "text/html": [
       "<div>\n",
       "<table border=\"1\" class=\"dataframe\">\n",
       "  <thead>\n",
       "    <tr style=\"text-align: right;\">\n",
       "      <th></th>\n",
       "      <th>screen_name</th>\n",
       "      <th>description</th>\n",
       "      <th>followers_count</th>\n",
       "      <th>friends_count</th>\n",
       "      <th>listedcount</th>\n",
       "      <th>favourites_count</th>\n",
       "      <th>verified</th>\n",
       "      <th>statuses_count</th>\n",
       "      <th>default_profile</th>\n",
       "      <th>default_profile_image</th>\n",
       "      <th>has_extended_profile</th>\n",
       "      <th>bot</th>\n",
       "      <th>ff_ratio</th>\n",
       "      <th>modified_date</th>\n",
       "    </tr>\n",
       "  </thead>\n",
       "  <tbody>\n",
       "    <tr>\n",
       "      <th>814</th>\n",
       "      <td>jeslyncat</td>\n",
       "      <td>\"Too much television watching got me chasing d...</td>\n",
       "      <td>2_quartile</td>\n",
       "      <td>3_quartile</td>\n",
       "      <td>3_quartile</td>\n",
       "      <td>4_quartile</td>\n",
       "      <td>False</td>\n",
       "      <td>3_quartile</td>\n",
       "      <td>False</td>\n",
       "      <td>False</td>\n",
       "      <td>False</td>\n",
       "      <td>0</td>\n",
       "      <td>1.552632</td>\n",
       "      <td>2009-06-23</td>\n",
       "    </tr>\n",
       "    <tr>\n",
       "      <th>758</th>\n",
       "      <td>imtheMDP</td>\n",
       "      <td>Financial Analyst by day, Sports Analyst by Ni...</td>\n",
       "      <td>3_quartile</td>\n",
       "      <td>4_quartile</td>\n",
       "      <td>2_quartile</td>\n",
       "      <td>4_quartile</td>\n",
       "      <td>False</td>\n",
       "      <td>4_quartile</td>\n",
       "      <td>False</td>\n",
       "      <td>False</td>\n",
       "      <td>False</td>\n",
       "      <td>0</td>\n",
       "      <td>0.276446</td>\n",
       "      <td>2009-03-06</td>\n",
       "    </tr>\n",
       "    <tr>\n",
       "      <th>693</th>\n",
       "      <td>Nathan60899955</td>\n",
       "      <td>NaN</td>\n",
       "      <td>1_quartile</td>\n",
       "      <td>2_quartile</td>\n",
       "      <td>1_quartile</td>\n",
       "      <td>1_quartile</td>\n",
       "      <td>False</td>\n",
       "      <td>1_quartile</td>\n",
       "      <td>True</td>\n",
       "      <td>True</td>\n",
       "      <td>0</td>\n",
       "      <td>1</td>\n",
       "      <td>0.081081</td>\n",
       "      <td>2017-10-02</td>\n",
       "    </tr>\n",
       "    <tr>\n",
       "      <th>167</th>\n",
       "      <td>LanceUlanoff</td>\n",
       "      <td>Chief Correspondent and Editor-at-Large of Mas...</td>\n",
       "      <td>4_quartile</td>\n",
       "      <td>4_quartile</td>\n",
       "      <td>4_quartile</td>\n",
       "      <td>4_quartile</td>\n",
       "      <td>True</td>\n",
       "      <td>4_quartile</td>\n",
       "      <td>False</td>\n",
       "      <td>False</td>\n",
       "      <td>True</td>\n",
       "      <td>0</td>\n",
       "      <td>11.261225</td>\n",
       "      <td>2007-03-19</td>\n",
       "    </tr>\n",
       "    <tr>\n",
       "      <th>1350</th>\n",
       "      <td>lettergamebot</td>\n",
       "      <td>Let's play letter games!</td>\n",
       "      <td>1_quartile</td>\n",
       "      <td>1_quartile</td>\n",
       "      <td>2_quartile</td>\n",
       "      <td>1_quartile</td>\n",
       "      <td>False</td>\n",
       "      <td>3_quartile</td>\n",
       "      <td>True</td>\n",
       "      <td>False</td>\n",
       "      <td>False</td>\n",
       "      <td>1</td>\n",
       "      <td>6.000000</td>\n",
       "      <td>2016-03-11</td>\n",
       "    </tr>\n",
       "  </tbody>\n",
       "</table>\n",
       "</div>"
      ],
      "text/plain": [
       "         screen_name                                        description  \\\n",
       "814        jeslyncat  \"Too much television watching got me chasing d...   \n",
       "758         imtheMDP  Financial Analyst by day, Sports Analyst by Ni...   \n",
       "693   Nathan60899955                                                NaN   \n",
       "167     LanceUlanoff  Chief Correspondent and Editor-at-Large of Mas...   \n",
       "1350   lettergamebot                           Let's play letter games!   \n",
       "\n",
       "     followers_count friends_count listedcount favourites_count verified  \\\n",
       "814       2_quartile    3_quartile  3_quartile       4_quartile    False   \n",
       "758       3_quartile    4_quartile  2_quartile       4_quartile    False   \n",
       "693       1_quartile    2_quartile  1_quartile       1_quartile    False   \n",
       "167       4_quartile    4_quartile  4_quartile       4_quartile     True   \n",
       "1350      1_quartile    1_quartile  2_quartile       1_quartile    False   \n",
       "\n",
       "     statuses_count default_profile default_profile_image  \\\n",
       "814      3_quartile           False                 False   \n",
       "758      4_quartile           False                 False   \n",
       "693      1_quartile            True                  True   \n",
       "167      4_quartile           False                 False   \n",
       "1350     3_quartile            True                 False   \n",
       "\n",
       "     has_extended_profile  bot   ff_ratio modified_date  \n",
       "814                 False    0   1.552632    2009-06-23  \n",
       "758                 False    0   0.276446    2009-03-06  \n",
       "693                     0    1   0.081081    2017-10-02  \n",
       "167                  True    0  11.261225    2007-03-19  \n",
       "1350                False    1   6.000000    2016-03-11  "
      ]
     },
     "execution_count": 119,
     "metadata": {},
     "output_type": "execute_result"
    }
   ],
   "source": [
    "import sys\n",
    "train, test = train_test_split(all_data, test_size = 0.2)\n",
    "def ff_ratio(df):\n",
    "    df.followers_count = df.followers_count.apply(lambda x: int(x)+1)\n",
    "    df.friends_count = df.friends_count.apply(lambda x: int(x)+1)\n",
    "    df.loc[:,'ff_ratio'] = (df.followers_count/df.friends_count)\n",
    "    return df\n",
    "    \n",
    "def simplfy_followerscount(df):\n",
    "    bins = (0, 46,358,14917,96321560,sys.maxint)\n",
    "    group_names = ['1_quartile', '2_quartile', '3_quartile', '4_quartile', '5_quartile']\n",
    "    categories = pd.cut(df.followers_count, bins, labels=group_names)\n",
    "    df.followers_count = categories\n",
    "    return df  \n",
    "\n",
    "def simplfy_friendscount(df):\n",
    "    bins = (0, 10,197,671,978964,sys.maxint)\n",
    "    group_names = ['1_quartile', '2_quartile', '3_quartile', '4_quartile', '5_quartile']\n",
    "    categories = pd.cut(df['friends_count'], bins, labels=group_names)\n",
    "    df.friends_count = categories\n",
    "    return df    \n",
    "\n",
    "def simplfy_listedcount(df):\n",
    "    df.loc[:,'listedcount']= df.listedcount.apply(lambda x: int(x)+1)\n",
    "    bins = (0, 2,18,360,222411,sys.maxint)\n",
    "    group_names = ['1_quartile', '2_quartile', '3_quartile', '4_quartile', '5_quartile']\n",
    "    categories = pd.cut(df['listedcount'], bins, labels=group_names)\n",
    "    df.loc[:,'listedcount'] = categories\n",
    "    return df    \n",
    "\n",
    "def simplfy_favouritescount(df):\n",
    "    df.loc[:,'favourites_count']= df.favourites_count.apply(lambda x: int(x)+1)\n",
    "    bins = (0,2,25,484,714021,sys.maxint)\n",
    "    group_names = ['1_quartile', '2_quartile', '3_quartile', '4_quartile', '5_quartile']\n",
    "    categories = pd.cut(df.favourites_count, bins, labels=group_names)\n",
    "    df.loc[:,'favourites_count']= categories\n",
    "    return df  \n",
    "\n",
    "def simplfy_statusescount(df):\n",
    "    df.loc[:,'statuses_count']= df.statuses_count.apply(lambda x: int(x)+1)\n",
    "    bins = (0,178,2290,10025,6863363,sys.maxint)\n",
    "    group_names = ['1_quartile', '2_quartile', '3_quartile', '4_quartile', '5_quartile']\n",
    "    categories = pd.cut(df.statuses_count, bins, labels=group_names)\n",
    "    df.loc[:,'statuses_count']= categories\n",
    "    return df \n",
    "\n",
    "def drop_features(df):\n",
    "    return df.drop(['id', 'id_str', 'location','lang','status','name','url','created_at'], axis=1)\n",
    "\n",
    "def replace_None(df):\n",
    "    df.loc[:,'has_extended_profile'] = df['has_extended_profile'].fillna(df.has_extended_profile.median())\n",
    "    return df\n",
    "\n",
    "def format_date(df):\n",
    "    df.loc[:,'modified_date'] = df.created_at.apply(returnDates)\n",
    "    return df;\n",
    "\n",
    "\n",
    "def transform_features(df):\n",
    "    df = ff_ratio(df)\n",
    "    df = simplfy_followerscount(df)\n",
    "    df = simplfy_friendscount(df)\n",
    "    df = simplfy_listedcount(df)\n",
    "    df = simplfy_favouritescount(df)\n",
    "    df = simplfy_statusescount(df)   \n",
    "    df = replace_None(df)  \n",
    "    df = format_date(df)\n",
    "    df = drop_features(df)\n",
    "    return df\n",
    "\n",
    "train = transform_features(train)\n",
    "test = transform_features(test)\n",
    "train.head()"
   ]
  },
  {
   "cell_type": "code",
   "execution_count": 128,
   "metadata": {
    "collapsed": false
   },
   "outputs": [
    {
     "data": {
      "text/plain": [
       "(array([], dtype=int64),)"
      ]
     },
     "execution_count": 128,
     "metadata": {},
     "output_type": "execute_result"
    }
   ],
   "source": [
    "np.where(pd.isnull(train.statuses_count))"
   ]
  },
  {
   "cell_type": "code",
   "execution_count": 21,
   "metadata": {
    "collapsed": false
   },
   "outputs": [
    {
     "data": {
      "image/png": "[encoded data removed]",
      "text/plain": [
       "<matplotlib.figure.Figure at 0x11a503210>"
      ]
     },
     "metadata": {},
     "output_type": "display_data"
    }
   ],
   "source": [
    "sns.barplot(x=\"favourites_count\", y=\"bot\", hue=\"default_profile\", data=train);"
   ]
  },
  {
   "cell_type": "code",
   "execution_count": 46,
   "metadata": {
    "collapsed": false
   },
   "outputs": [
    {
     "data": {
      "image/png": "[encoded data removed]",
      "text/plain": [
       "<matplotlib.figure.Figure at 0x1169a6790>"
      ]
     },
     "metadata": {},
     "output_type": "display_data"
    }
   ],
   "source": [
    "sns.barplot(x=\"favourites_count\", y=\"bot\", hue=\"listedcount\", data=train);"
   ]
  },
  {
   "cell_type": "markdown",
   "metadata": {
    "collapsed": false
   },
   "source": [
    "# Final Encoding\n",
    "\n",
    "The LabelEncoder in Scikit-learn will convert each unique string value into a number, making out data more flexible for various algorithms."
   ]
  },
  {
   "cell_type": "code",
   "execution_count": 129,
   "metadata": {
    "collapsed": false
   },
   "outputs": [
    {
     "data": {
      "text/html": [
       "<div>\n",
       "<table border=\"1\" class=\"dataframe\">\n",
       "  <thead>\n",
       "    <tr style=\"text-align: right;\">\n",
       "      <th></th>\n",
       "      <th>screen_name</th>\n",
       "      <th>description</th>\n",
       "      <th>followers_count</th>\n",
       "      <th>friends_count</th>\n",
       "      <th>listedcount</th>\n",
       "      <th>favourites_count</th>\n",
       "      <th>verified</th>\n",
       "      <th>statuses_count</th>\n",
       "      <th>default_profile</th>\n",
       "      <th>default_profile_image</th>\n",
       "      <th>has_extended_profile</th>\n",
       "      <th>bot</th>\n",
       "      <th>ff_ratio</th>\n",
       "      <th>modified_date</th>\n",
       "      <th>last_numeric</th>\n",
       "      <th>sn_length</th>\n",
       "      <th>sn_digitcount</th>\n",
       "      <th>desc_length</th>\n",
       "      <th>diversity</th>\n",
       "    </tr>\n",
       "  </thead>\n",
       "  <tbody>\n",
       "    <tr>\n",
       "      <th>814</th>\n",
       "      <td>jeslyncat</td>\n",
       "      <td>\"Too much television watching got me chasing d...</td>\n",
       "      <td>2_quartile</td>\n",
       "      <td>3_quartile</td>\n",
       "      <td>3_quartile</td>\n",
       "      <td>4_quartile</td>\n",
       "      <td>False</td>\n",
       "      <td>3_quartile</td>\n",
       "      <td>False</td>\n",
       "      <td>False</td>\n",
       "      <td>False</td>\n",
       "      <td>0</td>\n",
       "      <td>1.552632</td>\n",
       "      <td>2009-06-23</td>\n",
       "      <td>False</td>\n",
       "      <td>9</td>\n",
       "      <td>0</td>\n",
       "      <td>87</td>\n",
       "      <td>1.000000</td>\n",
       "    </tr>\n",
       "    <tr>\n",
       "      <th>758</th>\n",
       "      <td>imtheMDP</td>\n",
       "      <td>Financial Analyst by day, Sports Analyst by Ni...</td>\n",
       "      <td>3_quartile</td>\n",
       "      <td>4_quartile</td>\n",
       "      <td>2_quartile</td>\n",
       "      <td>4_quartile</td>\n",
       "      <td>False</td>\n",
       "      <td>4_quartile</td>\n",
       "      <td>False</td>\n",
       "      <td>False</td>\n",
       "      <td>False</td>\n",
       "      <td>0</td>\n",
       "      <td>0.276446</td>\n",
       "      <td>2009-03-06</td>\n",
       "      <td>False</td>\n",
       "      <td>8</td>\n",
       "      <td>0</td>\n",
       "      <td>119</td>\n",
       "      <td>1.000000</td>\n",
       "    </tr>\n",
       "    <tr>\n",
       "      <th>693</th>\n",
       "      <td>Nathan60899955</td>\n",
       "      <td>NaN</td>\n",
       "      <td>1_quartile</td>\n",
       "      <td>2_quartile</td>\n",
       "      <td>1_quartile</td>\n",
       "      <td>1_quartile</td>\n",
       "      <td>False</td>\n",
       "      <td>1_quartile</td>\n",
       "      <td>True</td>\n",
       "      <td>True</td>\n",
       "      <td>0</td>\n",
       "      <td>1</td>\n",
       "      <td>0.081081</td>\n",
       "      <td>2017-10-02</td>\n",
       "      <td>True</td>\n",
       "      <td>14</td>\n",
       "      <td>8</td>\n",
       "      <td>3</td>\n",
       "      <td>0.714286</td>\n",
       "    </tr>\n",
       "    <tr>\n",
       "      <th>167</th>\n",
       "      <td>LanceUlanoff</td>\n",
       "      <td>Chief Correspondent and Editor-at-Large of Mas...</td>\n",
       "      <td>4_quartile</td>\n",
       "      <td>4_quartile</td>\n",
       "      <td>4_quartile</td>\n",
       "      <td>4_quartile</td>\n",
       "      <td>True</td>\n",
       "      <td>4_quartile</td>\n",
       "      <td>False</td>\n",
       "      <td>False</td>\n",
       "      <td>True</td>\n",
       "      <td>0</td>\n",
       "      <td>11.261225</td>\n",
       "      <td>2007-03-19</td>\n",
       "      <td>False</td>\n",
       "      <td>12</td>\n",
       "      <td>0</td>\n",
       "      <td>128</td>\n",
       "      <td>0.750000</td>\n",
       "    </tr>\n",
       "    <tr>\n",
       "      <th>1350</th>\n",
       "      <td>lettergamebot</td>\n",
       "      <td>Let's play letter games!</td>\n",
       "      <td>1_quartile</td>\n",
       "      <td>1_quartile</td>\n",
       "      <td>2_quartile</td>\n",
       "      <td>1_quartile</td>\n",
       "      <td>False</td>\n",
       "      <td>3_quartile</td>\n",
       "      <td>True</td>\n",
       "      <td>False</td>\n",
       "      <td>False</td>\n",
       "      <td>1</td>\n",
       "      <td>6.000000</td>\n",
       "      <td>2016-03-11</td>\n",
       "      <td>False</td>\n",
       "      <td>13</td>\n",
       "      <td>0</td>\n",
       "      <td>24</td>\n",
       "      <td>0.692308</td>\n",
       "    </tr>\n",
       "  </tbody>\n",
       "</table>\n",
       "</div>"
      ],
      "text/plain": [
       "         screen_name                                        description  \\\n",
       "814        jeslyncat  \"Too much television watching got me chasing d...   \n",
       "758         imtheMDP  Financial Analyst by day, Sports Analyst by Ni...   \n",
       "693   Nathan60899955                                                NaN   \n",
       "167     LanceUlanoff  Chief Correspondent and Editor-at-Large of Mas...   \n",
       "1350   lettergamebot                           Let's play letter games!   \n",
       "\n",
       "     followers_count friends_count listedcount favourites_count verified  \\\n",
       "814       2_quartile    3_quartile  3_quartile       4_quartile    False   \n",
       "758       3_quartile    4_quartile  2_quartile       4_quartile    False   \n",
       "693       1_quartile    2_quartile  1_quartile       1_quartile    False   \n",
       "167       4_quartile    4_quartile  4_quartile       4_quartile     True   \n",
       "1350      1_quartile    1_quartile  2_quartile       1_quartile    False   \n",
       "\n",
       "     statuses_count default_profile default_profile_image  \\\n",
       "814      3_quartile           False                 False   \n",
       "758      4_quartile           False                 False   \n",
       "693      1_quartile            True                  True   \n",
       "167      4_quartile           False                 False   \n",
       "1350     3_quartile            True                 False   \n",
       "\n",
       "     has_extended_profile  bot   ff_ratio modified_date last_numeric  \\\n",
       "814                 False    0   1.552632    2009-06-23        False   \n",
       "758                 False    0   0.276446    2009-03-06        False   \n",
       "693                     0    1   0.081081    2017-10-02         True   \n",
       "167                  True    0  11.261225    2007-03-19        False   \n",
       "1350                False    1   6.000000    2016-03-11        False   \n",
       "\n",
       "      sn_length  sn_digitcount  desc_length  diversity  \n",
       "814           9              0           87   1.000000  \n",
       "758           8              0          119   1.000000  \n",
       "693          14              8            3   0.714286  \n",
       "167          12              0          128   0.750000  \n",
       "1350         13              0           24   0.692308  "
      ]
     },
     "execution_count": 129,
     "metadata": {},
     "output_type": "execute_result"
    }
   ],
   "source": [
    "train.head()"
   ]
  },
  {
   "cell_type": "code",
   "execution_count": 130,
   "metadata": {
    "collapsed": false
   },
   "outputs": [
    {
     "data": {
      "text/plain": [
       "count    1785.000000\n",
       "mean        0.800908\n",
       "std         0.117187\n",
       "min         0.214286\n",
       "25%         0.727273\n",
       "50%         0.800000\n",
       "75%         0.888889\n",
       "max         1.000000\n",
       "Name: diversity, dtype: float64"
      ]
     },
     "execution_count": 130,
     "metadata": {},
     "output_type": "execute_result"
    }
   ],
   "source": [
    "train.diversity.describe()"
   ]
  },
  {
   "cell_type": "code",
   "execution_count": 131,
   "metadata": {
    "collapsed": false
   },
   "outputs": [
    {
     "data": {
      "text/html": [
       "<div>\n",
       "<table border=\"1\" class=\"dataframe\">\n",
       "  <thead>\n",
       "    <tr style=\"text-align: right;\">\n",
       "      <th></th>\n",
       "      <th>screen_name</th>\n",
       "      <th>description</th>\n",
       "      <th>followers_count</th>\n",
       "      <th>friends_count</th>\n",
       "      <th>listedcount</th>\n",
       "      <th>favourites_count</th>\n",
       "      <th>verified</th>\n",
       "      <th>statuses_count</th>\n",
       "      <th>default_profile</th>\n",
       "      <th>default_profile_image</th>\n",
       "      <th>has_extended_profile</th>\n",
       "      <th>bot</th>\n",
       "      <th>ff_ratio</th>\n",
       "      <th>modified_date</th>\n",
       "      <th>last_numeric</th>\n",
       "      <th>sn_length</th>\n",
       "      <th>sn_digitcount</th>\n",
       "      <th>desc_length</th>\n",
       "      <th>diversity</th>\n",
       "    </tr>\n",
       "  </thead>\n",
       "  <tbody>\n",
       "    <tr>\n",
       "      <th>814</th>\n",
       "      <td>jeslyncat</td>\n",
       "      <td>\"Too much television watching got me chasing d...</td>\n",
       "      <td>1</td>\n",
       "      <td>2</td>\n",
       "      <td>2</td>\n",
       "      <td>3</td>\n",
       "      <td>0</td>\n",
       "      <td>2</td>\n",
       "      <td>0</td>\n",
       "      <td>0</td>\n",
       "      <td>0</td>\n",
       "      <td>0</td>\n",
       "      <td>848</td>\n",
       "      <td>2009-06-23</td>\n",
       "      <td>False</td>\n",
       "      <td>7</td>\n",
       "      <td>0</td>\n",
       "      <td>85</td>\n",
       "      <td>51</td>\n",
       "    </tr>\n",
       "    <tr>\n",
       "      <th>758</th>\n",
       "      <td>imtheMDP</td>\n",
       "      <td>Financial Analyst by day, Sports Analyst by Ni...</td>\n",
       "      <td>2</td>\n",
       "      <td>3</td>\n",
       "      <td>1</td>\n",
       "      <td>3</td>\n",
       "      <td>0</td>\n",
       "      <td>3</td>\n",
       "      <td>0</td>\n",
       "      <td>0</td>\n",
       "      <td>0</td>\n",
       "      <td>0</td>\n",
       "      <td>404</td>\n",
       "      <td>2009-03-06</td>\n",
       "      <td>False</td>\n",
       "      <td>6</td>\n",
       "      <td>0</td>\n",
       "      <td>117</td>\n",
       "      <td>51</td>\n",
       "    </tr>\n",
       "    <tr>\n",
       "      <th>693</th>\n",
       "      <td>Nathan60899955</td>\n",
       "      <td>NaN</td>\n",
       "      <td>0</td>\n",
       "      <td>1</td>\n",
       "      <td>0</td>\n",
       "      <td>0</td>\n",
       "      <td>0</td>\n",
       "      <td>0</td>\n",
       "      <td>1</td>\n",
       "      <td>1</td>\n",
       "      <td>0</td>\n",
       "      <td>1</td>\n",
       "      <td>223</td>\n",
       "      <td>2017-10-02</td>\n",
       "      <td>True</td>\n",
       "      <td>12</td>\n",
       "      <td>8</td>\n",
       "      <td>1</td>\n",
       "      <td>26</td>\n",
       "    </tr>\n",
       "    <tr>\n",
       "      <th>167</th>\n",
       "      <td>LanceUlanoff</td>\n",
       "      <td>Chief Correspondent and Editor-at-Large of Mas...</td>\n",
       "      <td>3</td>\n",
       "      <td>3</td>\n",
       "      <td>3</td>\n",
       "      <td>3</td>\n",
       "      <td>1</td>\n",
       "      <td>3</td>\n",
       "      <td>0</td>\n",
       "      <td>0</td>\n",
       "      <td>1</td>\n",
       "      <td>0</td>\n",
       "      <td>1068</td>\n",
       "      <td>2007-03-19</td>\n",
       "      <td>False</td>\n",
       "      <td>10</td>\n",
       "      <td>0</td>\n",
       "      <td>126</td>\n",
       "      <td>29</td>\n",
       "    </tr>\n",
       "    <tr>\n",
       "      <th>1350</th>\n",
       "      <td>lettergamebot</td>\n",
       "      <td>Let's play letter games!</td>\n",
       "      <td>0</td>\n",
       "      <td>0</td>\n",
       "      <td>1</td>\n",
       "      <td>0</td>\n",
       "      <td>0</td>\n",
       "      <td>2</td>\n",
       "      <td>1</td>\n",
       "      <td>0</td>\n",
       "      <td>0</td>\n",
       "      <td>1</td>\n",
       "      <td>1008</td>\n",
       "      <td>2016-03-11</td>\n",
       "      <td>False</td>\n",
       "      <td>11</td>\n",
       "      <td>0</td>\n",
       "      <td>22</td>\n",
       "      <td>23</td>\n",
       "    </tr>\n",
       "  </tbody>\n",
       "</table>\n",
       "</div>"
      ],
      "text/plain": [
       "         screen_name                                        description  \\\n",
       "814        jeslyncat  \"Too much television watching got me chasing d...   \n",
       "758         imtheMDP  Financial Analyst by day, Sports Analyst by Ni...   \n",
       "693   Nathan60899955                                                NaN   \n",
       "167     LanceUlanoff  Chief Correspondent and Editor-at-Large of Mas...   \n",
       "1350   lettergamebot                           Let's play letter games!   \n",
       "\n",
       "      followers_count  friends_count  listedcount  favourites_count  verified  \\\n",
       "814                 1              2            2                 3         0   \n",
       "758                 2              3            1                 3         0   \n",
       "693                 0              1            0                 0         0   \n",
       "167                 3              3            3                 3         1   \n",
       "1350                0              0            1                 0         0   \n",
       "\n",
       "      statuses_count  default_profile  default_profile_image  \\\n",
       "814                2                0                      0   \n",
       "758                3                0                      0   \n",
       "693                0                1                      1   \n",
       "167                3                0                      0   \n",
       "1350               2                1                      0   \n",
       "\n",
       "      has_extended_profile  bot  ff_ratio modified_date last_numeric  \\\n",
       "814                      0    0       848    2009-06-23        False   \n",
       "758                      0    0       404    2009-03-06        False   \n",
       "693                      0    1       223    2017-10-02         True   \n",
       "167                      1    0      1068    2007-03-19        False   \n",
       "1350                     0    1      1008    2016-03-11        False   \n",
       "\n",
       "      sn_length  sn_digitcount  desc_length  diversity  \n",
       "814           7              0           85         51  \n",
       "758           6              0          117         51  \n",
       "693          12              8            1         26  \n",
       "167          10              0          126         29  \n",
       "1350         11              0           22         23  "
      ]
     },
     "execution_count": 131,
     "metadata": {},
     "output_type": "execute_result"
    }
   ],
   "source": [
    "from sklearn import preprocessing\n",
    "def encode_features(df_train, df_test):\n",
    "    features = ['followers_count','friends_count','listedcount','favourites_count','verified','statuses_count', \\\n",
    "                'default_profile','default_profile_image','has_extended_profile','ff_ratio','sn_length','desc_length','diversity']\n",
    "    df_combined = pd.concat([df_train[features], df_test[features]])\n",
    "    \n",
    "    for feature in features:\n",
    "        le = preprocessing.LabelEncoder()\n",
    "        le = le.fit(df_combined[feature])\n",
    "        df_train.loc[:,feature] = le.transform(df_train[feature])\n",
    "        df_test.loc[:,feature] = le.transform(df_test[feature])\n",
    "    return df_train, df_test\n",
    "    \n",
    "train, test = encode_features(train, test)\n",
    "train.head()"
   ]
  },
  {
   "cell_type": "code",
   "execution_count": 21,
   "metadata": {
    "collapsed": false
   },
   "outputs": [],
   "source": [
    "train_output = pd.DataFrame(data=train, columns =list(train))\n",
    "test_output = pd.DataFrame(data=test, columns =list(test))\n",
    "\n",
    "# Use pandas to write the comma-separated output file\n",
    "train_output.to_csv(\"./cleanedData/Bot_Training.csv\", index=False)\n",
    "test_output.to_csv(\"./cleanedData/Bot_Testing.csv\", index=False)"
   ]
  },
  {
   "cell_type": "markdown",
   "metadata": {},
   "source": [
    "# Splitting up the Training Data\n",
    "\n",
    "\n",
    "First, separate the features(X) from the labels(y).\n",
    "* X_all: All features minus the value we want to predict (Bot).\n",
    "* y_all: Only the value we want to predict.\n",
    "\n",
    "Second, use Scikit-learn to randomly shuffle this data into four variables. In this case, Training 80% of the data, then testing against the other 20%.\n",
    "\n",
    "Later, this data will be reorganized into a KFold pattern to validate the effectiveness of a trained algorithm"
   ]
  },
  {
   "cell_type": "code",
   "execution_count": 132,
   "metadata": {
    "collapsed": false
   },
   "outputs": [],
   "source": [
    "from sklearn.model_selection import train_test_split\n",
    "\n",
    "X_all = train.drop(['bot','modified_date','screen_name','description','last_numeric','sn_digitcount'], axis=1)\n",
    "y_all = train['bot']\n",
    "\n",
    "num_test = 0.20\n",
    "X_train, X_test, y_train, y_test = train_test_split(X_all, y_all, test_size=num_test, random_state=23)"
   ]
  },
  {
   "cell_type": "code",
   "execution_count": 133,
   "metadata": {
    "collapsed": false
   },
   "outputs": [
    {
     "data": {
      "text/plain": [
       "((1428, 13), (1428,))"
      ]
     },
     "execution_count": 133,
     "metadata": {},
     "output_type": "execute_result"
    }
   ],
   "source": [
    "X_train.shape, y_train.shape"
   ]
  },
  {
   "cell_type": "code",
   "execution_count": 134,
   "metadata": {
    "collapsed": false
   },
   "outputs": [
    {
     "data": {
      "text/plain": [
       "((357, 13), (357,))"
      ]
     },
     "execution_count": 134,
     "metadata": {},
     "output_type": "execute_result"
    }
   ],
   "source": [
    "X_test.shape, y_test.shape"
   ]
  },
  {
   "cell_type": "code",
   "execution_count": 135,
   "metadata": {
    "collapsed": false
   },
   "outputs": [
    {
     "data": {
      "text/plain": [
       "['followers_count',\n",
       " 'friends_count',\n",
       " 'listedcount',\n",
       " 'favourites_count',\n",
       " 'verified',\n",
       " 'statuses_count',\n",
       " 'default_profile',\n",
       " 'default_profile_image',\n",
       " 'has_extended_profile',\n",
       " 'ff_ratio',\n",
       " 'sn_length',\n",
       " 'desc_length',\n",
       " 'diversity']"
      ]
     },
     "execution_count": 135,
     "metadata": {},
     "output_type": "execute_result"
    }
   ],
   "source": [
    "list(X_train)"
   ]
  },
  {
   "cell_type": "markdown",
   "metadata": {},
   "source": [
    "# Random Forest"
   ]
  },
  {
   "cell_type": "code",
   "execution_count": 136,
   "metadata": {
    "collapsed": false
   },
   "outputs": [
    {
     "data": {
      "text/plain": [
       "RandomForestClassifier(bootstrap=True, class_weight=None, criterion='entropy',\n",
       "            max_depth=10, max_features='sqrt', max_leaf_nodes=None,\n",
       "            min_impurity_split=1e-07, min_samples_leaf=5,\n",
       "            min_samples_split=5, min_weight_fraction_leaf=0.0,\n",
       "            n_estimators=9, n_jobs=1, oob_score=False, random_state=None,\n",
       "            verbose=0, warm_start=False)"
      ]
     },
     "execution_count": 136,
     "metadata": {},
     "output_type": "execute_result"
    }
   ],
   "source": [
    "from sklearn.ensemble import RandomForestClassifier\n",
    "from sklearn.metrics import make_scorer, accuracy_score\n",
    "from sklearn.model_selection import GridSearchCV\n",
    "\n",
    "\n",
    "clf = RandomForestClassifier()\n",
    "\n",
    "parameters = {'n_estimators': [4, 6, 9], \n",
    "              'max_features': ['log2', 'sqrt','auto'], \n",
    "              'criterion': ['entropy', 'gini'],\n",
    "              'max_depth': [2, 3, 5, 10], \n",
    "              'min_samples_split': [2, 3, 5],\n",
    "              'min_samples_leaf': [1,5,8]\n",
    "             }\n",
    "\n",
    "acc_scorer = make_scorer(accuracy_score)\n",
    "\n",
    "#grid search\n",
    "grid_obj = GridSearchCV(clf, parameters, scoring=acc_scorer)\n",
    "grid_obj = grid_obj.fit(X_train, y_train)\n",
    "\n",
    "# Set the clf to the best combination of parameters\n",
    "clf = grid_obj.best_estimator_\n",
    "\n",
    "clf.fit(X_train, y_train)"
   ]
  },
  {
   "cell_type": "code",
   "execution_count": 137,
   "metadata": {
    "collapsed": false
   },
   "outputs": [
    {
     "name": "stdout",
     "output_type": "stream",
     "text": [
      "0.873949579832\n"
     ]
    }
   ],
   "source": [
    "predictions = clf.predict(X_test)\n",
    "print(accuracy_score(y_test, predictions))"
   ]
  },
  {
   "cell_type": "code",
   "execution_count": 138,
   "metadata": {
    "collapsed": false
   },
   "outputs": [
    {
     "name": "stdout",
     "output_type": "stream",
     "text": [
      "Fold 1 accuracy: 0.844444444444\n",
      "Fold 2 accuracy: 0.85393258427\n",
      "Fold 3 accuracy: 0.887640449438\n",
      "Fold 4 accuracy: 0.876404494382\n",
      "Fold 5 accuracy: 0.921348314607\n",
      "Fold 6 accuracy: 0.831460674157\n",
      "Fold 7 accuracy: 0.808988764045\n",
      "Fold 8 accuracy: 0.887640449438\n",
      "Fold 9 accuracy: 0.910112359551\n",
      "Fold 10 accuracy: 0.842696629213\n",
      "Mean Accuracy: 0.866466916355\n"
     ]
    }
   ],
   "source": [
    "from sklearn.cross_validation import KFold\n",
    "\n",
    "def run_kfold(clf):\n",
    "    kf = KFold(891, n_folds=10)\n",
    "    outcomes = []\n",
    "    fold = 0\n",
    "    for train_index, test_index in kf:\n",
    "        fold += 1\n",
    "        X_train, X_test = X_all.values[train_index], X_all.values[test_index]\n",
    "        y_train, y_test = y_all.values[train_index], y_all.values[test_index]\n",
    "        clf.fit(X_train, y_train)\n",
    "        predictions = clf.predict(X_test)\n",
    "        accuracy = accuracy_score(y_test, predictions)\n",
    "        outcomes.append(accuracy)\n",
    "        print(\"Fold {0} accuracy: {1}\".format(fold, accuracy))     \n",
    "    mean_outcome = np.mean(outcomes)\n",
    "    print(\"Mean Accuracy: {0}\".format(mean_outcome)) \n",
    "\n",
    "run_kfold(clf)"
   ]
  },
  {
   "cell_type": "code",
   "execution_count": 139,
   "metadata": {
    "collapsed": false
   },
   "outputs": [
    {
     "data": {
      "text/plain": [
       "array([ 0.06034288,  0.16431486,  0.06515202,  0.17551868,  0.09633578,\n",
       "        0.03653969,  0.11120847,  0.00294853,  0.00811913,  0.15645848,\n",
       "        0.03698468,  0.05133979,  0.034737  ])"
      ]
     },
     "execution_count": 139,
     "metadata": {},
     "output_type": "execute_result"
    }
   ],
   "source": [
    "clf.feature_importances_"
   ]
  },
  {
   "cell_type": "code",
   "execution_count": 140,
   "metadata": {
    "collapsed": false
   },
   "outputs": [
    {
     "data": {
      "text/plain": [
       "['followers_count',\n",
       " 'friends_count',\n",
       " 'listedcount',\n",
       " 'favourites_count',\n",
       " 'verified',\n",
       " 'statuses_count',\n",
       " 'default_profile',\n",
       " 'default_profile_image',\n",
       " 'has_extended_profile',\n",
       " 'ff_ratio',\n",
       " 'sn_length',\n",
       " 'desc_length',\n",
       " 'diversity']"
      ]
     },
     "execution_count": 140,
     "metadata": {},
     "output_type": "execute_result"
    }
   ],
   "source": [
    "list(X_train)"
   ]
  },
  {
   "cell_type": "code",
   "execution_count": 142,
   "metadata": {
    "collapsed": false
   },
   "outputs": [
    {
     "data": {
      "text/plain": [
       "83.12"
      ]
     },
     "execution_count": 142,
     "metadata": {},
     "output_type": "execute_result"
    }
   ],
   "source": [
    "from sklearn.linear_model import LogisticRegression\n",
    "logreg = LogisticRegression()\n",
    "logreg.fit(X_train, y_train)\n",
    "Y_pred = logreg.predict(X_test)\n",
    "acc_log = round(logreg.score(X_train, y_train) * 100, 2)\n",
    "acc_log"
   ]
  },
  {
   "cell_type": "code",
   "execution_count": 143,
   "metadata": {
    "collapsed": false
   },
   "outputs": [
    {
     "data": {
      "text/plain": [
       "79.27"
      ]
     },
     "execution_count": 143,
     "metadata": {},
     "output_type": "execute_result"
    }
   ],
   "source": [
    "from sklearn.naive_bayes import GaussianNB\n",
    "gaussian = GaussianNB()\n",
    "gaussian.fit(X_train, y_train)\n",
    "Y_pred = gaussian.predict(X_test)\n",
    "acc_gaussian = round(gaussian.score(X_train, y_train) * 100, 2)\n",
    "acc_gaussian"
   ]
  },
  {
   "cell_type": "code",
   "execution_count": 145,
   "metadata": {
    "collapsed": false
   },
   "outputs": [
    {
     "name": "stdout",
     "output_type": "stream",
     "text": [
      "99.93\n",
      "Fold 1 accuracy: 0.811111111111\n",
      "Fold 2 accuracy: 0.797752808989\n",
      "Fold 3 accuracy: 0.85393258427\n",
      "Fold 4 accuracy: 0.876404494382\n",
      "Fold 5 accuracy: 0.876404494382\n",
      "Fold 6 accuracy: 0.820224719101\n",
      "Fold 7 accuracy: 0.808988764045\n",
      "Fold 8 accuracy: 0.808988764045\n",
      "Fold 9 accuracy: 0.820224719101\n",
      "Fold 10 accuracy: 0.752808988764\n",
      "Mean Accuracy: 0.822684144819\n"
     ]
    }
   ],
   "source": [
    "# Decision Tree\n",
    "from sklearn.tree import DecisionTreeClassifier\n",
    "decision_tree = DecisionTreeClassifier()\n",
    "decision_tree.fit(X_train, y_train)\n",
    "Y_pred = decision_tree.predict(X_test)\n",
    "acc_decision_tree = round(decision_tree.score(X_train, y_train) * 100, 2)\n",
    "print acc_decision_tree\n",
    "from sklearn.ensemble import RandomForestClassifier\n",
    "from sklearn.metrics import make_scorer, accuracy_score\n",
    "from sklearn.model_selection import GridSearchCV\n",
    "\n",
    "\n",
    "clf = RandomForestClassifier()\n",
    "\n",
    "parameters = {'n_estimators': [4, 6, 9], \n",
    "              'max_features': ['log2', 'sqrt','auto'], \n",
    "              'criterion': ['entropy', 'gini'],\n",
    "              'max_depth': [2, 3, 5, 10], \n",
    "              'min_samples_split': [2, 3, 5],\n",
    "              'min_samples_leaf': [1,5,8]\n",
    "             }\n",
    "\n",
    "acc_scorer = make_scorer(accuracy_score)\n",
    "\n",
    "#grid search\n",
    "grid_obj = GridSearchCV(clf, parameters, scoring=acc_scorer)\n",
    "grid_obj = grid_obj.fit(X_train, y_train)\n",
    "\n",
    "# Set the clf to the best combination of parameters\n",
    "clf = grid_obj.best_estimator_\n",
    "\n",
    "clf.fit(X_train, y_train)run_kfold(decision_tree)"
   ]
  },
  {
   "cell_type": "code",
   "execution_count": 161,
   "metadata": {
    "collapsed": false
   },
   "outputs": [
    {
     "data": {
      "text/plain": [
       "AdaBoostClassifier(algorithm='SAMME.R',\n",
       "          base_estimator=RandomForestClassifier(bootstrap=True, class_weight=None, criterion='entropy',\n",
       "            max_depth=10, max_features='sqrt', max_leaf_nodes=None,\n",
       "            min_impurity_split=1e-07, min_samples_leaf=5,\n",
       "            min_samples_split=5, min_weight_fraction_leaf=0.0,\n",
       "            n_estimators=9, n_jobs=1, oob_score=False, random_state=None,\n",
       "            verbose=0, warm_start=False),\n",
       "          learning_rate=1.0, n_estimators=50, random_state=None)"
      ]
     },
     "execution_count": 161,
     "metadata": {},
     "output_type": "execute_result"
    }
   ],
   "source": [
    "from sklearn.ensemble import AdaBoostClassifier\n",
    "from sklearn.metrics import make_scorer, accuracy_score\n",
    "from sklearn.model_selection import GridSearchCV\n",
    "\n",
    "\n",
    "Ada_clf = AdaBoostClassifier()\n",
    "\n",
    "parameters = {'n_estimators': [100, 50, 80], \n",
    "              'learning_rate': [1.0,0.5],\n",
    "              'base_estimator': [DecisionTreeClassifier(),clf]\n",
    "             }\n",
    "\n",
    "acc_scorer = make_scorer(accuracy_score)\n",
    "\n",
    "#grid search\n",
    "grid_obj = GridSearchCV(Ada_clf, parameters, scoring=acc_scorer)\n",
    "grid_obj = grid_obj.fit(X_train, y_train)\n",
    "\n",
    "# Set the clf to the best combination of parameters\n",
    "Ada_clf = grid_obj.best_estimator_\n",
    "\n",
    "Ada_clf.fit(X_train, y_train)\n"
   ]
  },
  {
   "cell_type": "code",
   "execution_count": 162,
   "metadata": {
    "collapsed": false
   },
   "outputs": [
    {
     "name": "stdout",
     "output_type": "stream",
     "text": [
      "0.873949579832\n"
     ]
    }
   ],
   "source": [
    "predictions = Ada_clf.predict(X_test)\n",
    "print(accuracy_score(y_test, predictions))"
   ]
  },
  {
   "cell_type": "code",
   "execution_count": 163,
   "metadata": {
    "collapsed": false
   },
   "outputs": [
    {
     "name": "stdout",
     "output_type": "stream",
     "text": [
      "Fold 1 accuracy: 0.833333333333\n",
      "Fold 2 accuracy: 0.85393258427\n",
      "Fold 3 accuracy: 0.898876404494\n",
      "Fold 4 accuracy: 0.876404494382\n",
      "Fold 5 accuracy: 0.898876404494\n",
      "Fold 6 accuracy: 0.85393258427\n",
      "Fold 7 accuracy: 0.820224719101\n",
      "Fold 8 accuracy: 0.921348314607\n",
      "Fold 9 accuracy: 0.921348314607\n",
      "Fold 10 accuracy: 0.808988764045\n",
      "Mean Accuracy: 0.86872659176\n"
     ]
    }
   ],
   "source": [
    "run_kfold(Ada_clf)"
   ]
  },
  {
   "cell_type": "code",
   "execution_count": 67,
   "metadata": {
    "collapsed": false
   },
   "outputs": [],
   "source": [
    "def get_Noun(x):\n",
    "    word = x.strip()\n",
    "    count = 0\n",
    "    tagged_sent = pos_tag(word.split())\n",
    "    for w in tagged_sent:\n",
    "        if w[1] == 'NNP':\n",
    "            count+=1\n",
    "        if w[1] == 'VBZ':\n",
    "            count-=1\n",
    "    return count"
   ]
  },
  {
   "cell_type": "code",
   "execution_count": 68,
   "metadata": {
    "collapsed": false
   },
   "outputs": [],
   "source": [
    "df['name'] = df['name'].fillna(\"\")\n",
    "train['NounCount'] = df['name'].apply(get_Noun)"
   ]
  },
  {
   "cell_type": "code",
   "execution_count": 69,
   "metadata": {
    "collapsed": false
   },
   "outputs": [
    {
     "data": {
      "text/plain": [
       "count    939.000000\n",
       "mean       1.436635\n",
       "std        0.932120\n",
       "min        0.000000\n",
       "25%        0.000000\n",
       "50%        2.000000\n",
       "75%        2.000000\n",
       "max        3.000000\n",
       "Name: NounCount, dtype: float64"
      ]
     },
     "execution_count": 69,
     "metadata": {},
     "output_type": "execute_result"
    }
   ],
   "source": [
    "train['NounCount'].describe()"
   ]
  },
  {
   "cell_type": "code",
   "execution_count": 70,
   "metadata": {
    "collapsed": false
   },
   "outputs": [
    {
     "data": {
      "text/plain": [
       "<matplotlib.axes._subplots.AxesSubplot at 0x11bc92fd0>"
      ]
     },
     "execution_count": 70,
     "metadata": {},
     "output_type": "execute_result"
    },
    {
     "data": {
      "image/png": "[encoded data removed]",
      "text/plain": [
       "<matplotlib.figure.Figure at 0x11bdf3e10>"
      ]
     },
     "metadata": {},
     "output_type": "display_data"
    }
   ],
   "source": [
    "plt.title('Bot count between # of Nouns in Name', size=20, y=1.1)\n",
    "sns.countplot(x = 'bot', hue='NounCount', data=train)"
   ]
  },
  {
   "cell_type": "code",
   "execution_count": 71,
   "metadata": {
    "collapsed": false
   },
   "outputs": [
    {
     "data": {
      "text/plain": [
       "Timestamp('2010-07-13 00:00:00')"
      ]
     },
     "execution_count": 71,
     "metadata": {},
     "output_type": "execute_result"
    }
   ],
   "source": [
    "train['created_at'][0]"
   ]
  },
  {
   "cell_type": "code",
   "execution_count": 21,
   "metadata": {
    "collapsed": false
   },
   "outputs": [
    {
     "ename": "KeyError",
     "evalue": "'created_at'",
     "output_type": "error",
     "traceback": [
      "\u001b[0;31m---------------------------------------------------------------------------\u001b[0m",
      "\u001b[0;31mKeyError\u001b[0m                                  Traceback (most recent call last)",
      "\u001b[0;32m<ipython-input-21-9a674f1bd8ba>\u001b[0m in \u001b[0;36m<module>\u001b[0;34m()\u001b[0m\n\u001b[1;32m      1\u001b[0m \u001b[0;32mfrom\u001b[0m \u001b[0mdatetime\u001b[0m \u001b[0;32mimport\u001b[0m \u001b[0mdate\u001b[0m\u001b[0;34m\u001b[0m\u001b[0m\n\u001b[1;32m      2\u001b[0m \u001b[0;32mimport\u001b[0m \u001b[0mcalendar\u001b[0m\u001b[0;34m\u001b[0m\u001b[0m\n\u001b[0;32m----> 3\u001b[0;31m \u001b[0;32mprint\u001b[0m \u001b[0mtype\u001b[0m\u001b[0;34m(\u001b[0m\u001b[0mtrain\u001b[0m\u001b[0;34m[\u001b[0m\u001b[0;34m'created_at'\u001b[0m\u001b[0;34m]\u001b[0m\u001b[0;34m)\u001b[0m\u001b[0;34m\u001b[0m\u001b[0m\n\u001b[0m\u001b[1;32m      4\u001b[0m \u001b[0;31m#train['days'] = train['created_at'].apply(lambda x: calendar.day_name[x.weekday()])\u001b[0m\u001b[0;34m\u001b[0m\u001b[0;34m\u001b[0m\u001b[0m\n",
      "\u001b[0;32m/Users/Vignesh/anaconda2/lib/python2.7/site-packages/pandas/core/frame.pyc\u001b[0m in \u001b[0;36m__getitem__\u001b[0;34m(self, key)\u001b[0m\n\u001b[1;32m   2057\u001b[0m             \u001b[0;32mreturn\u001b[0m \u001b[0mself\u001b[0m\u001b[0;34m.\u001b[0m\u001b[0m_getitem_multilevel\u001b[0m\u001b[0;34m(\u001b[0m\u001b[0mkey\u001b[0m\u001b[0;34m)\u001b[0m\u001b[0;34m\u001b[0m\u001b[0m\n\u001b[1;32m   2058\u001b[0m         \u001b[0;32melse\u001b[0m\u001b[0;34m:\u001b[0m\u001b[0;34m\u001b[0m\u001b[0m\n\u001b[0;32m-> 2059\u001b[0;31m             \u001b[0;32mreturn\u001b[0m \u001b[0mself\u001b[0m\u001b[0;34m.\u001b[0m\u001b[0m_getitem_column\u001b[0m\u001b[0;34m(\u001b[0m\u001b[0mkey\u001b[0m\u001b[0;34m)\u001b[0m\u001b[0;34m\u001b[0m\u001b[0m\n\u001b[0m\u001b[1;32m   2060\u001b[0m \u001b[0;34m\u001b[0m\u001b[0m\n\u001b[1;32m   2061\u001b[0m     \u001b[0;32mdef\u001b[0m \u001b[0m_getitem_column\u001b[0m\u001b[0;34m(\u001b[0m\u001b[0mself\u001b[0m\u001b[0;34m,\u001b[0m \u001b[0mkey\u001b[0m\u001b[0;34m)\u001b[0m\u001b[0;34m:\u001b[0m\u001b[0;34m\u001b[0m\u001b[0m\n",
      "\u001b[0;32m/Users/Vignesh/anaconda2/lib/python2.7/site-packages/pandas/core/frame.pyc\u001b[0m in \u001b[0;36m_getitem_column\u001b[0;34m(self, key)\u001b[0m\n\u001b[1;32m   2064\u001b[0m         \u001b[0;31m# get column\u001b[0m\u001b[0;34m\u001b[0m\u001b[0;34m\u001b[0m\u001b[0m\n\u001b[1;32m   2065\u001b[0m         \u001b[0;32mif\u001b[0m \u001b[0mself\u001b[0m\u001b[0;34m.\u001b[0m\u001b[0mcolumns\u001b[0m\u001b[0;34m.\u001b[0m\u001b[0mis_unique\u001b[0m\u001b[0;34m:\u001b[0m\u001b[0;34m\u001b[0m\u001b[0m\n\u001b[0;32m-> 2066\u001b[0;31m             \u001b[0;32mreturn\u001b[0m \u001b[0mself\u001b[0m\u001b[0;34m.\u001b[0m\u001b[0m_get_item_cache\u001b[0m\u001b[0;34m(\u001b[0m\u001b[0mkey\u001b[0m\u001b[0;34m)\u001b[0m\u001b[0;34m\u001b[0m\u001b[0m\n\u001b[0m\u001b[1;32m   2067\u001b[0m \u001b[0;34m\u001b[0m\u001b[0m\n\u001b[1;32m   2068\u001b[0m         \u001b[0;31m# duplicate columns & possible reduce dimensionality\u001b[0m\u001b[0;34m\u001b[0m\u001b[0;34m\u001b[0m\u001b[0m\n",
      "\u001b[0;32m/Users/Vignesh/anaconda2/lib/python2.7/site-packages/pandas/core/generic.pyc\u001b[0m in \u001b[0;36m_get_item_cache\u001b[0;34m(self, item)\u001b[0m\n\u001b[1;32m   1384\u001b[0m         \u001b[0mres\u001b[0m \u001b[0;34m=\u001b[0m \u001b[0mcache\u001b[0m\u001b[0;34m.\u001b[0m\u001b[0mget\u001b[0m\u001b[0;34m(\u001b[0m\u001b[0mitem\u001b[0m\u001b[0;34m)\u001b[0m\u001b[0;34m\u001b[0m\u001b[0m\n\u001b[1;32m   1385\u001b[0m         \u001b[0;32mif\u001b[0m \u001b[0mres\u001b[0m \u001b[0;32mis\u001b[0m \u001b[0mNone\u001b[0m\u001b[0;34m:\u001b[0m\u001b[0;34m\u001b[0m\u001b[0m\n\u001b[0;32m-> 1386\u001b[0;31m             \u001b[0mvalues\u001b[0m \u001b[0;34m=\u001b[0m \u001b[0mself\u001b[0m\u001b[0;34m.\u001b[0m\u001b[0m_data\u001b[0m\u001b[0;34m.\u001b[0m\u001b[0mget\u001b[0m\u001b[0;34m(\u001b[0m\u001b[0mitem\u001b[0m\u001b[0;34m)\u001b[0m\u001b[0;34m\u001b[0m\u001b[0m\n\u001b[0m\u001b[1;32m   1387\u001b[0m             \u001b[0mres\u001b[0m \u001b[0;34m=\u001b[0m \u001b[0mself\u001b[0m\u001b[0;34m.\u001b[0m\u001b[0m_box_item_values\u001b[0m\u001b[0;34m(\u001b[0m\u001b[0mitem\u001b[0m\u001b[0;34m,\u001b[0m \u001b[0mvalues\u001b[0m\u001b[0;34m)\u001b[0m\u001b[0;34m\u001b[0m\u001b[0m\n\u001b[1;32m   1388\u001b[0m             \u001b[0mcache\u001b[0m\u001b[0;34m[\u001b[0m\u001b[0mitem\u001b[0m\u001b[0;34m]\u001b[0m \u001b[0;34m=\u001b[0m \u001b[0mres\u001b[0m\u001b[0;34m\u001b[0m\u001b[0m\n",
      "\u001b[0;32m/Users/Vignesh/anaconda2/lib/python2.7/site-packages/pandas/core/internals.pyc\u001b[0m in \u001b[0;36mget\u001b[0;34m(self, item, fastpath)\u001b[0m\n\u001b[1;32m   3541\u001b[0m \u001b[0;34m\u001b[0m\u001b[0m\n\u001b[1;32m   3542\u001b[0m             \u001b[0;32mif\u001b[0m \u001b[0;32mnot\u001b[0m \u001b[0misnull\u001b[0m\u001b[0;34m(\u001b[0m\u001b[0mitem\u001b[0m\u001b[0;34m)\u001b[0m\u001b[0;34m:\u001b[0m\u001b[0;34m\u001b[0m\u001b[0m\n\u001b[0;32m-> 3543\u001b[0;31m                 \u001b[0mloc\u001b[0m \u001b[0;34m=\u001b[0m \u001b[0mself\u001b[0m\u001b[0;34m.\u001b[0m\u001b[0mitems\u001b[0m\u001b[0;34m.\u001b[0m\u001b[0mget_loc\u001b[0m\u001b[0;34m(\u001b[0m\u001b[0mitem\u001b[0m\u001b[0;34m)\u001b[0m\u001b[0;34m\u001b[0m\u001b[0m\n\u001b[0m\u001b[1;32m   3544\u001b[0m             \u001b[0;32melse\u001b[0m\u001b[0;34m:\u001b[0m\u001b[0;34m\u001b[0m\u001b[0m\n\u001b[1;32m   3545\u001b[0m                 \u001b[0mindexer\u001b[0m \u001b[0;34m=\u001b[0m \u001b[0mnp\u001b[0m\u001b[0;34m.\u001b[0m\u001b[0marange\u001b[0m\u001b[0;34m(\u001b[0m\u001b[0mlen\u001b[0m\u001b[0;34m(\u001b[0m\u001b[0mself\u001b[0m\u001b[0;34m.\u001b[0m\u001b[0mitems\u001b[0m\u001b[0;34m)\u001b[0m\u001b[0;34m)\u001b[0m\u001b[0;34m[\u001b[0m\u001b[0misnull\u001b[0m\u001b[0;34m(\u001b[0m\u001b[0mself\u001b[0m\u001b[0;34m.\u001b[0m\u001b[0mitems\u001b[0m\u001b[0;34m)\u001b[0m\u001b[0;34m]\u001b[0m\u001b[0;34m\u001b[0m\u001b[0m\n",
      "\u001b[0;32m/Users/Vignesh/anaconda2/lib/python2.7/site-packages/pandas/indexes/base.pyc\u001b[0m in \u001b[0;36mget_loc\u001b[0;34m(self, key, method, tolerance)\u001b[0m\n\u001b[1;32m   2134\u001b[0m                 \u001b[0;32mreturn\u001b[0m \u001b[0mself\u001b[0m\u001b[0;34m.\u001b[0m\u001b[0m_engine\u001b[0m\u001b[0;34m.\u001b[0m\u001b[0mget_loc\u001b[0m\u001b[0;34m(\u001b[0m\u001b[0mkey\u001b[0m\u001b[0;34m)\u001b[0m\u001b[0;34m\u001b[0m\u001b[0m\n\u001b[1;32m   2135\u001b[0m             \u001b[0;32mexcept\u001b[0m \u001b[0mKeyError\u001b[0m\u001b[0;34m:\u001b[0m\u001b[0;34m\u001b[0m\u001b[0m\n\u001b[0;32m-> 2136\u001b[0;31m                 \u001b[0;32mreturn\u001b[0m \u001b[0mself\u001b[0m\u001b[0;34m.\u001b[0m\u001b[0m_engine\u001b[0m\u001b[0;34m.\u001b[0m\u001b[0mget_loc\u001b[0m\u001b[0;34m(\u001b[0m\u001b[0mself\u001b[0m\u001b[0;34m.\u001b[0m\u001b[0m_maybe_cast_indexer\u001b[0m\u001b[0;34m(\u001b[0m\u001b[0mkey\u001b[0m\u001b[0;34m)\u001b[0m\u001b[0;34m)\u001b[0m\u001b[0;34m\u001b[0m\u001b[0m\n\u001b[0m\u001b[1;32m   2137\u001b[0m \u001b[0;34m\u001b[0m\u001b[0m\n\u001b[1;32m   2138\u001b[0m         \u001b[0mindexer\u001b[0m \u001b[0;34m=\u001b[0m \u001b[0mself\u001b[0m\u001b[0;34m.\u001b[0m\u001b[0mget_indexer\u001b[0m\u001b[0;34m(\u001b[0m\u001b[0;34m[\u001b[0m\u001b[0mkey\u001b[0m\u001b[0;34m]\u001b[0m\u001b[0;34m,\u001b[0m \u001b[0mmethod\u001b[0m\u001b[0;34m=\u001b[0m\u001b[0mmethod\u001b[0m\u001b[0;34m,\u001b[0m \u001b[0mtolerance\u001b[0m\u001b[0;34m=\u001b[0m\u001b[0mtolerance\u001b[0m\u001b[0;34m)\u001b[0m\u001b[0;34m\u001b[0m\u001b[0m\n",
      "\u001b[0;32mpandas/index.pyx\u001b[0m in \u001b[0;36mpandas.index.IndexEngine.get_loc (pandas/index.c:4433)\u001b[0;34m()\u001b[0m\n",
      "\u001b[0;32mpandas/index.pyx\u001b[0m in \u001b[0;36mpandas.index.IndexEngine.get_loc (pandas/index.c:4279)\u001b[0;34m()\u001b[0m\n",
      "\u001b[0;32mpandas/src/hashtable_class_helper.pxi\u001b[0m in \u001b[0;36mpandas.hashtable.PyObjectHashTable.get_item (pandas/hashtable.c:13742)\u001b[0;34m()\u001b[0m\n",
      "\u001b[0;32mpandas/src/hashtable_class_helper.pxi\u001b[0m in \u001b[0;36mpandas.hashtable.PyObjectHashTable.get_item (pandas/hashtable.c:13696)\u001b[0;34m()\u001b[0m\n",
      "\u001b[0;31mKeyError\u001b[0m: 'created_at'"
     ]
    }
   ],
   "source": [
    "from datetime import date\n",
    "import calendar\n",
    "print type(train['created_at'])\n",
    "train['days'] = train['created_at'].apply(lambda x: calendar.day_name[x.weekday()])"
   ]
  },
  {
   "cell_type": "code",
   "execution_count": 74,
   "metadata": {
    "collapsed": false
   },
   "outputs": [
    {
     "data": {
      "text/plain": [
       "count         1785\n",
       "unique           7\n",
       "top       Thursday\n",
       "freq           291\n",
       "Name: days, dtype: object"
      ]
     },
     "execution_count": 74,
     "metadata": {},
     "output_type": "execute_result"
    }
   ],
   "source": [
    "train['days'].describe()"
   ]
  },
  {
   "cell_type": "code",
   "execution_count": 77,
   "metadata": {
    "collapsed": false
   },
   "outputs": [
    {
     "data": {
      "text/plain": [
       "<matplotlib.axes._subplots.AxesSubplot at 0x11c2ba050>"
      ]
     },
     "execution_count": 77,
     "metadata": {},
     "output_type": "execute_result"
    },
    {
     "data": {
      "image/png": "[encoded data removed]",
      "text/plain": [
       "<matplotlib.figure.Figure at 0x11bd51a90>"
      ]
     },
     "metadata": {},
     "output_type": "display_data"
    }
   ],
   "source": [
    "plt.title('Bot count between # of Days', size=40, y=1.1)\n",
    "sns.countplot(x = 'days', hue='bot', data=train)"
   ]
  },
  {
   "cell_type": "code",
   "execution_count": 9,
   "metadata": {
    "collapsed": false
   },
   "outputs": [
    {
     "data": {
      "text/html": [
       "<div>\n",
       "<table border=\"1\" class=\"dataframe\">\n",
       "  <thead>\n",
       "    <tr style=\"text-align: right;\">\n",
       "      <th></th>\n",
       "      <th>id</th>\n",
       "      <th>id_str</th>\n",
       "      <th>screen_name</th>\n",
       "      <th>location</th>\n",
       "      <th>description</th>\n",
       "      <th>url</th>\n",
       "      <th>followers_count</th>\n",
       "      <th>friends_count</th>\n",
       "      <th>listedcount</th>\n",
       "      <th>created_at</th>\n",
       "      <th>favourites_count</th>\n",
       "      <th>verified</th>\n",
       "      <th>statuses_count</th>\n",
       "      <th>lang</th>\n",
       "      <th>status</th>\n",
       "      <th>default_profile</th>\n",
       "      <th>default_profile_image</th>\n",
       "      <th>has_extended_profile</th>\n",
       "      <th>name</th>\n",
       "      <th>bot</th>\n",
       "    </tr>\n",
       "  </thead>\n",
       "  <tbody>\n",
       "    <tr>\n",
       "      <th>2084</th>\n",
       "      <td>5.817313e+07</td>\n",
       "      <td>58173133</td>\n",
       "      <td>Maheshbhupathi</td>\n",
       "      <td>��T: 19.057273,72.825963</td>\n",
       "      <td>An Outlier,Twice over!</td>\n",
       "      <td>https://t.co/hOkJ2t0a4I</td>\n",
       "      <td>947045</td>\n",
       "      <td>271</td>\n",
       "      <td>2618</td>\n",
       "      <td>7/19/09</td>\n",
       "      <td>88</td>\n",
       "      <td>True</td>\n",
       "      <td>4905</td>\n",
       "      <td>en</td>\n",
       "      <td>Status(contributors=None, truncated=False, tex...</td>\n",
       "      <td>False</td>\n",
       "      <td>False</td>\n",
       "      <td>False</td>\n",
       "      <td>Mahesh Bhupathi</td>\n",
       "      <td>0</td>\n",
       "    </tr>\n",
       "    <tr>\n",
       "      <th>1798</th>\n",
       "      <td>1.453254e+07</td>\n",
       "      <td>14532539</td>\n",
       "      <td>tonyromo</td>\n",
       "      <td>Dallas, TX</td>\n",
       "      <td>Official twitter account of Dallas Cowboys QB ...</td>\n",
       "      <td>NaN</td>\n",
       "      <td>351335</td>\n",
       "      <td>19</td>\n",
       "      <td>1221</td>\n",
       "      <td>4/25/08</td>\n",
       "      <td>395</td>\n",
       "      <td>True</td>\n",
       "      <td>25</td>\n",
       "      <td>en</td>\n",
       "      <td>Status(contributors=None, truncated=False, tex...</td>\n",
       "      <td>False</td>\n",
       "      <td>False</td>\n",
       "      <td>False</td>\n",
       "      <td>Tony Romo</td>\n",
       "      <td>0</td>\n",
       "    </tr>\n",
       "    <tr>\n",
       "      <th>354</th>\n",
       "      <td>2.205977e+09</td>\n",
       "      <td>2205976656</td>\n",
       "      <td>magicpixx</td>\n",
       "      <td>NaN</td>\n",
       "      <td>Follow me for algorithmically-curated pictures...</td>\n",
       "      <td>NaN</td>\n",
       "      <td>10250</td>\n",
       "      <td>10378</td>\n",
       "      <td>194</td>\n",
       "      <td>Thu Nov 21 01:14:23 +0000 2013</td>\n",
       "      <td>211</td>\n",
       "      <td>False</td>\n",
       "      <td>262067</td>\n",
       "      <td>en</td>\n",
       "      <td>{u'contributors': None, u'truncated': False, u...</td>\n",
       "      <td>True</td>\n",
       "      <td>False</td>\n",
       "      <td>False</td>\n",
       "      <td>Magic Pics</td>\n",
       "      <td>1</td>\n",
       "    </tr>\n",
       "  </tbody>\n",
       "</table>\n",
       "</div>"
      ],
      "text/plain": [
       "                id      id_str     screen_name                  location  \\\n",
       "2084  5.817313e+07    58173133  Maheshbhupathi  ��T: 19.057273,72.825963   \n",
       "1798  1.453254e+07    14532539        tonyromo                Dallas, TX   \n",
       "354   2.205977e+09  2205976656       magicpixx                       NaN   \n",
       "\n",
       "                                            description  \\\n",
       "2084                             An Outlier,Twice over!   \n",
       "1798  Official twitter account of Dallas Cowboys QB ...   \n",
       "354   Follow me for algorithmically-curated pictures...   \n",
       "\n",
       "                          url  followers_count  friends_count  listedcount  \\\n",
       "2084  https://t.co/hOkJ2t0a4I           947045            271         2618   \n",
       "1798                      NaN           351335             19         1221   \n",
       "354                       NaN            10250          10378          194   \n",
       "\n",
       "                          created_at  favourites_count verified  \\\n",
       "2084                         7/19/09                88     True   \n",
       "1798                         4/25/08               395     True   \n",
       "354   Thu Nov 21 01:14:23 +0000 2013               211    False   \n",
       "\n",
       "      statuses_count lang                                             status  \\\n",
       "2084            4905   en  Status(contributors=None, truncated=False, tex...   \n",
       "1798              25   en  Status(contributors=None, truncated=False, tex...   \n",
       "354           262067   en  {u'contributors': None, u'truncated': False, u...   \n",
       "\n",
       "     default_profile default_profile_image has_extended_profile  \\\n",
       "2084           False                 False                False   \n",
       "1798           False                 False                False   \n",
       "354             True                 False                False   \n",
       "\n",
       "                 name  bot  \n",
       "2084  Mahesh Bhupathi    0  \n",
       "1798        Tony Romo    0  \n",
       "354        Magic Pics    1  "
      ]
     },
     "execution_count": 9,
     "metadata": {},
     "output_type": "execute_result"
    }
   ],
   "source": []
  },
  {
   "cell_type": "code",
   "execution_count": 19,
   "metadata": {
    "collapsed": false
   },
   "outputs": [
    {
     "name": "stdout",
     "output_type": "stream",
     "text": [
      "(1785, 20)\n",
      "(1785, 9)\n",
      "(1785,)\n"
     ]
    },
    {
     "name": "stderr",
     "output_type": "stream",
     "text": [
      "/Users/Vignesh/anaconda2/lib/python2.7/site-packages/ipykernel/__main__.py:2: SettingWithCopyWarning: \n",
      "A value is trying to be set on a copy of a slice from a DataFrame.\n",
      "Try using .loc[row_indexer,col_indexer] = value instead\n",
      "\n",
      "See the caveats in the documentation: http://pandas.pydata.org/pandas-docs/stable/indexing.html#indexing-view-versus-copy\n",
      "  from ipykernel import kernelapp as app\n",
      "/Users/Vignesh/anaconda2/lib/python2.7/site-packages/ipykernel/__main__.py:8: SettingWithCopyWarning: \n",
      "A value is trying to be set on a copy of a slice from a DataFrame\n",
      "\n",
      "See the caveats in the documentation: http://pandas.pydata.org/pandas-docs/stable/indexing.html#indexing-view-versus-copy\n"
     ]
    },
    {
     "data": {
      "text/html": [
       "<div>\n",
       "<table border=\"1\" class=\"dataframe\">\n",
       "  <thead>\n",
       "    <tr style=\"text-align: right;\">\n",
       "      <th></th>\n",
       "      <th>followers_count</th>\n",
       "      <th>friends_count</th>\n",
       "      <th>listedcount</th>\n",
       "      <th>favourites_count</th>\n",
       "      <th>verified</th>\n",
       "      <th>statuses_count</th>\n",
       "      <th>default_profile</th>\n",
       "      <th>default_profile_image</th>\n",
       "      <th>has_extended_profile</th>\n",
       "    </tr>\n",
       "  </thead>\n",
       "  <tbody>\n",
       "    <tr>\n",
       "      <th>57</th>\n",
       "      <td>1047</td>\n",
       "      <td>299</td>\n",
       "      <td>28</td>\n",
       "      <td>958</td>\n",
       "      <td>False</td>\n",
       "      <td>3098</td>\n",
       "      <td>False</td>\n",
       "      <td>False</td>\n",
       "      <td>False</td>\n",
       "    </tr>\n",
       "    <tr>\n",
       "      <th>1361</th>\n",
       "      <td>35</td>\n",
       "      <td>134</td>\n",
       "      <td>7</td>\n",
       "      <td>17</td>\n",
       "      <td>False</td>\n",
       "      <td>989</td>\n",
       "      <td>False</td>\n",
       "      <td>False</td>\n",
       "      <td>False</td>\n",
       "    </tr>\n",
       "    <tr>\n",
       "      <th>1141</th>\n",
       "      <td>4</td>\n",
       "      <td>28</td>\n",
       "      <td>0</td>\n",
       "      <td>0</td>\n",
       "      <td>False</td>\n",
       "      <td>2</td>\n",
       "      <td>True</td>\n",
       "      <td>False</td>\n",
       "      <td>True</td>\n",
       "    </tr>\n",
       "  </tbody>\n",
       "</table>\n",
       "</div>"
      ],
      "text/plain": [
       "      followers_count  friends_count  listedcount  favourites_count verified  \\\n",
       "57               1047            299           28               958    False   \n",
       "1361               35            134            7                17    False   \n",
       "1141                4             28            0                 0    False   \n",
       "\n",
       "      statuses_count default_profile default_profile_image  \\\n",
       "57              3098           False                 False   \n",
       "1361             989           False                 False   \n",
       "1141               2            True                 False   \n",
       "\n",
       "     has_extended_profile  \n",
       "57                  False  \n",
       "1361                False  \n",
       "1141                 True  "
      ]
     },
     "execution_count": 19,
     "metadata": {},
     "output_type": "execute_result"
    }
   ],
   "source": []
  },
  {
   "cell_type": "code",
   "execution_count": 20,
   "metadata": {
    "collapsed": false
   },
   "outputs": [
    {
     "ename": "ValueError",
     "evalue": "could not convert string to float: False",
     "output_type": "error",
     "traceback": [
      "\u001b[0;31m---------------------------------------------------------------------------\u001b[0m",
      "\u001b[0;31mValueError\u001b[0m                                Traceback (most recent call last)",
      "\u001b[0;32m<ipython-input-20-1d38681daeee>\u001b[0m in \u001b[0;36m<module>\u001b[0;34m()\u001b[0m\n\u001b[0;32m----> 1\u001b[0;31m \u001b[0mcross_val_score\u001b[0m\u001b[0;34m(\u001b[0m\u001b[0mclf\u001b[0m\u001b[0;34m,\u001b[0m \u001b[0mtrain\u001b[0m\u001b[0;34m,\u001b[0m \u001b[0mbot\u001b[0m\u001b[0;34m,\u001b[0m \u001b[0mcv\u001b[0m\u001b[0;34m=\u001b[0m\u001b[0;36m2\u001b[0m\u001b[0;34m)\u001b[0m\u001b[0;34m\u001b[0m\u001b[0m\n\u001b[0m",
      "\u001b[0;32m/Users/Vignesh/anaconda2/lib/python2.7/site-packages/sklearn/model_selection/_validation.pyc\u001b[0m in \u001b[0;36mcross_val_score\u001b[0;34m(estimator, X, y, groups, scoring, cv, n_jobs, verbose, fit_params, pre_dispatch)\u001b[0m\n\u001b[1;32m    138\u001b[0m                                               \u001b[0mtrain\u001b[0m\u001b[0;34m,\u001b[0m \u001b[0mtest\u001b[0m\u001b[0;34m,\u001b[0m \u001b[0mverbose\u001b[0m\u001b[0;34m,\u001b[0m \u001b[0mNone\u001b[0m\u001b[0;34m,\u001b[0m\u001b[0;34m\u001b[0m\u001b[0m\n\u001b[1;32m    139\u001b[0m                                               fit_params)\n\u001b[0;32m--> 140\u001b[0;31m                       for train, test in cv_iter)\n\u001b[0m\u001b[1;32m    141\u001b[0m     \u001b[0;32mreturn\u001b[0m \u001b[0mnp\u001b[0m\u001b[0;34m.\u001b[0m\u001b[0marray\u001b[0m\u001b[0;34m(\u001b[0m\u001b[0mscores\u001b[0m\u001b[0;34m)\u001b[0m\u001b[0;34m[\u001b[0m\u001b[0;34m:\u001b[0m\u001b[0;34m,\u001b[0m \u001b[0;36m0\u001b[0m\u001b[0;34m]\u001b[0m\u001b[0;34m\u001b[0m\u001b[0m\n\u001b[1;32m    142\u001b[0m \u001b[0;34m\u001b[0m\u001b[0m\n",
      "\u001b[0;32m/Users/Vignesh/anaconda2/lib/python2.7/site-packages/sklearn/externals/joblib/parallel.pyc\u001b[0m in \u001b[0;36m__call__\u001b[0;34m(self, iterable)\u001b[0m\n\u001b[1;32m    756\u001b[0m             \u001b[0;31m# was dispatched. In particular this covers the edge\u001b[0m\u001b[0;34m\u001b[0m\u001b[0;34m\u001b[0m\u001b[0m\n\u001b[1;32m    757\u001b[0m             \u001b[0;31m# case of Parallel used with an exhausted iterator.\u001b[0m\u001b[0;34m\u001b[0m\u001b[0;34m\u001b[0m\u001b[0m\n\u001b[0;32m--> 758\u001b[0;31m             \u001b[0;32mwhile\u001b[0m \u001b[0mself\u001b[0m\u001b[0;34m.\u001b[0m\u001b[0mdispatch_one_batch\u001b[0m\u001b[0;34m(\u001b[0m\u001b[0miterator\u001b[0m\u001b[0;34m)\u001b[0m\u001b[0;34m:\u001b[0m\u001b[0;34m\u001b[0m\u001b[0m\n\u001b[0m\u001b[1;32m    759\u001b[0m                 \u001b[0mself\u001b[0m\u001b[0;34m.\u001b[0m\u001b[0m_iterating\u001b[0m \u001b[0;34m=\u001b[0m \u001b[0mTrue\u001b[0m\u001b[0;34m\u001b[0m\u001b[0m\n\u001b[1;32m    760\u001b[0m             \u001b[0;32melse\u001b[0m\u001b[0;34m:\u001b[0m\u001b[0;34m\u001b[0m\u001b[0m\n",
      "\u001b[0;32m/Users/Vignesh/anaconda2/lib/python2.7/site-packages/sklearn/externals/joblib/parallel.pyc\u001b[0m in \u001b[0;36mdispatch_one_batch\u001b[0;34m(self, iterator)\u001b[0m\n\u001b[1;32m    606\u001b[0m                 \u001b[0;32mreturn\u001b[0m \u001b[0mFalse\u001b[0m\u001b[0;34m\u001b[0m\u001b[0m\n\u001b[1;32m    607\u001b[0m             \u001b[0;32melse\u001b[0m\u001b[0;34m:\u001b[0m\u001b[0;34m\u001b[0m\u001b[0m\n\u001b[0;32m--> 608\u001b[0;31m                 \u001b[0mself\u001b[0m\u001b[0;34m.\u001b[0m\u001b[0m_dispatch\u001b[0m\u001b[0;34m(\u001b[0m\u001b[0mtasks\u001b[0m\u001b[0;34m)\u001b[0m\u001b[0;34m\u001b[0m\u001b[0m\n\u001b[0m\u001b[1;32m    609\u001b[0m                 \u001b[0;32mreturn\u001b[0m \u001b[0mTrue\u001b[0m\u001b[0;34m\u001b[0m\u001b[0m\n\u001b[1;32m    610\u001b[0m \u001b[0;34m\u001b[0m\u001b[0m\n",
      "\u001b[0;32m/Users/Vignesh/anaconda2/lib/python2.7/site-packages/sklearn/externals/joblib/parallel.pyc\u001b[0m in \u001b[0;36m_dispatch\u001b[0;34m(self, batch)\u001b[0m\n\u001b[1;32m    569\u001b[0m         \u001b[0mdispatch_timestamp\u001b[0m \u001b[0;34m=\u001b[0m \u001b[0mtime\u001b[0m\u001b[0;34m.\u001b[0m\u001b[0mtime\u001b[0m\u001b[0;34m(\u001b[0m\u001b[0;34m)\u001b[0m\u001b[0;34m\u001b[0m\u001b[0m\n\u001b[1;32m    570\u001b[0m         \u001b[0mcb\u001b[0m \u001b[0;34m=\u001b[0m \u001b[0mBatchCompletionCallBack\u001b[0m\u001b[0;34m(\u001b[0m\u001b[0mdispatch_timestamp\u001b[0m\u001b[0;34m,\u001b[0m \u001b[0mlen\u001b[0m\u001b[0;34m(\u001b[0m\u001b[0mbatch\u001b[0m\u001b[0;34m)\u001b[0m\u001b[0;34m,\u001b[0m \u001b[0mself\u001b[0m\u001b[0;34m)\u001b[0m\u001b[0;34m\u001b[0m\u001b[0m\n\u001b[0;32m--> 571\u001b[0;31m         \u001b[0mjob\u001b[0m \u001b[0;34m=\u001b[0m \u001b[0mself\u001b[0m\u001b[0;34m.\u001b[0m\u001b[0m_backend\u001b[0m\u001b[0;34m.\u001b[0m\u001b[0mapply_async\u001b[0m\u001b[0;34m(\u001b[0m\u001b[0mbatch\u001b[0m\u001b[0;34m,\u001b[0m \u001b[0mcallback\u001b[0m\u001b[0;34m=\u001b[0m\u001b[0mcb\u001b[0m\u001b[0;34m)\u001b[0m\u001b[0;34m\u001b[0m\u001b[0m\n\u001b[0m\u001b[1;32m    572\u001b[0m         \u001b[0mself\u001b[0m\u001b[0;34m.\u001b[0m\u001b[0m_jobs\u001b[0m\u001b[0;34m.\u001b[0m\u001b[0mappend\u001b[0m\u001b[0;34m(\u001b[0m\u001b[0mjob\u001b[0m\u001b[0;34m)\u001b[0m\u001b[0;34m\u001b[0m\u001b[0m\n\u001b[1;32m    573\u001b[0m \u001b[0;34m\u001b[0m\u001b[0m\n",
      "\u001b[0;32m/Users/Vignesh/anaconda2/lib/python2.7/site-packages/sklearn/externals/joblib/_parallel_backends.pyc\u001b[0m in \u001b[0;36mapply_async\u001b[0;34m(self, func, callback)\u001b[0m\n\u001b[1;32m    107\u001b[0m     \u001b[0;32mdef\u001b[0m \u001b[0mapply_async\u001b[0m\u001b[0;34m(\u001b[0m\u001b[0mself\u001b[0m\u001b[0;34m,\u001b[0m \u001b[0mfunc\u001b[0m\u001b[0;34m,\u001b[0m \u001b[0mcallback\u001b[0m\u001b[0;34m=\u001b[0m\u001b[0mNone\u001b[0m\u001b[0;34m)\u001b[0m\u001b[0;34m:\u001b[0m\u001b[0;34m\u001b[0m\u001b[0m\n\u001b[1;32m    108\u001b[0m         \u001b[0;34m\"\"\"Schedule a func to be run\"\"\"\u001b[0m\u001b[0;34m\u001b[0m\u001b[0m\n\u001b[0;32m--> 109\u001b[0;31m         \u001b[0mresult\u001b[0m \u001b[0;34m=\u001b[0m \u001b[0mImmediateResult\u001b[0m\u001b[0;34m(\u001b[0m\u001b[0mfunc\u001b[0m\u001b[0;34m)\u001b[0m\u001b[0;34m\u001b[0m\u001b[0m\n\u001b[0m\u001b[1;32m    110\u001b[0m         \u001b[0;32mif\u001b[0m \u001b[0mcallback\u001b[0m\u001b[0;34m:\u001b[0m\u001b[0;34m\u001b[0m\u001b[0m\n\u001b[1;32m    111\u001b[0m             \u001b[0mcallback\u001b[0m\u001b[0;34m(\u001b[0m\u001b[0mresult\u001b[0m\u001b[0;34m)\u001b[0m\u001b[0;34m\u001b[0m\u001b[0m\n",
      "\u001b[0;32m/Users/Vignesh/anaconda2/lib/python2.7/site-packages/sklearn/externals/joblib/_parallel_backends.pyc\u001b[0m in \u001b[0;36m__init__\u001b[0;34m(self, batch)\u001b[0m\n\u001b[1;32m    324\u001b[0m         \u001b[0;31m# Don't delay the application, to avoid keeping the input\u001b[0m\u001b[0;34m\u001b[0m\u001b[0;34m\u001b[0m\u001b[0m\n\u001b[1;32m    325\u001b[0m         \u001b[0;31m# arguments in memory\u001b[0m\u001b[0;34m\u001b[0m\u001b[0;34m\u001b[0m\u001b[0m\n\u001b[0;32m--> 326\u001b[0;31m         \u001b[0mself\u001b[0m\u001b[0;34m.\u001b[0m\u001b[0mresults\u001b[0m \u001b[0;34m=\u001b[0m \u001b[0mbatch\u001b[0m\u001b[0;34m(\u001b[0m\u001b[0;34m)\u001b[0m\u001b[0;34m\u001b[0m\u001b[0m\n\u001b[0m\u001b[1;32m    327\u001b[0m \u001b[0;34m\u001b[0m\u001b[0m\n\u001b[1;32m    328\u001b[0m     \u001b[0;32mdef\u001b[0m \u001b[0mget\u001b[0m\u001b[0;34m(\u001b[0m\u001b[0mself\u001b[0m\u001b[0;34m)\u001b[0m\u001b[0;34m:\u001b[0m\u001b[0;34m\u001b[0m\u001b[0m\n",
      "\u001b[0;32m/Users/Vignesh/anaconda2/lib/python2.7/site-packages/sklearn/externals/joblib/parallel.pyc\u001b[0m in \u001b[0;36m__call__\u001b[0;34m(self)\u001b[0m\n\u001b[1;32m    129\u001b[0m \u001b[0;34m\u001b[0m\u001b[0m\n\u001b[1;32m    130\u001b[0m     \u001b[0;32mdef\u001b[0m \u001b[0m__call__\u001b[0m\u001b[0;34m(\u001b[0m\u001b[0mself\u001b[0m\u001b[0;34m)\u001b[0m\u001b[0;34m:\u001b[0m\u001b[0;34m\u001b[0m\u001b[0m\n\u001b[0;32m--> 131\u001b[0;31m         \u001b[0;32mreturn\u001b[0m \u001b[0;34m[\u001b[0m\u001b[0mfunc\u001b[0m\u001b[0;34m(\u001b[0m\u001b[0;34m*\u001b[0m\u001b[0margs\u001b[0m\u001b[0;34m,\u001b[0m \u001b[0;34m**\u001b[0m\u001b[0mkwargs\u001b[0m\u001b[0;34m)\u001b[0m \u001b[0;32mfor\u001b[0m \u001b[0mfunc\u001b[0m\u001b[0;34m,\u001b[0m \u001b[0margs\u001b[0m\u001b[0;34m,\u001b[0m \u001b[0mkwargs\u001b[0m \u001b[0;32min\u001b[0m \u001b[0mself\u001b[0m\u001b[0;34m.\u001b[0m\u001b[0mitems\u001b[0m\u001b[0;34m]\u001b[0m\u001b[0;34m\u001b[0m\u001b[0m\n\u001b[0m\u001b[1;32m    132\u001b[0m \u001b[0;34m\u001b[0m\u001b[0m\n\u001b[1;32m    133\u001b[0m     \u001b[0;32mdef\u001b[0m \u001b[0m__len__\u001b[0m\u001b[0;34m(\u001b[0m\u001b[0mself\u001b[0m\u001b[0;34m)\u001b[0m\u001b[0;34m:\u001b[0m\u001b[0;34m\u001b[0m\u001b[0m\n",
      "\u001b[0;32m/Users/Vignesh/anaconda2/lib/python2.7/site-packages/sklearn/model_selection/_validation.pyc\u001b[0m in \u001b[0;36m_fit_and_score\u001b[0;34m(estimator, X, y, scorer, train, test, verbose, parameters, fit_params, return_train_score, return_parameters, return_n_test_samples, return_times, error_score)\u001b[0m\n\u001b[1;32m    236\u001b[0m             \u001b[0mestimator\u001b[0m\u001b[0;34m.\u001b[0m\u001b[0mfit\u001b[0m\u001b[0;34m(\u001b[0m\u001b[0mX_train\u001b[0m\u001b[0;34m,\u001b[0m \u001b[0;34m**\u001b[0m\u001b[0mfit_params\u001b[0m\u001b[0;34m)\u001b[0m\u001b[0;34m\u001b[0m\u001b[0m\n\u001b[1;32m    237\u001b[0m         \u001b[0;32melse\u001b[0m\u001b[0;34m:\u001b[0m\u001b[0;34m\u001b[0m\u001b[0m\n\u001b[0;32m--> 238\u001b[0;31m             \u001b[0mestimator\u001b[0m\u001b[0;34m.\u001b[0m\u001b[0mfit\u001b[0m\u001b[0;34m(\u001b[0m\u001b[0mX_train\u001b[0m\u001b[0;34m,\u001b[0m \u001b[0my_train\u001b[0m\u001b[0;34m,\u001b[0m \u001b[0;34m**\u001b[0m\u001b[0mfit_params\u001b[0m\u001b[0;34m)\u001b[0m\u001b[0;34m\u001b[0m\u001b[0m\n\u001b[0m\u001b[1;32m    239\u001b[0m \u001b[0;34m\u001b[0m\u001b[0m\n\u001b[1;32m    240\u001b[0m     \u001b[0;32mexcept\u001b[0m \u001b[0mException\u001b[0m \u001b[0;32mas\u001b[0m \u001b[0me\u001b[0m\u001b[0;34m:\u001b[0m\u001b[0;34m\u001b[0m\u001b[0m\n",
      "\u001b[0;32m/Users/Vignesh/anaconda2/lib/python2.7/site-packages/sklearn/tree/tree.pyc\u001b[0m in \u001b[0;36mfit\u001b[0;34m(self, X, y, sample_weight, check_input, X_idx_sorted)\u001b[0m\n\u001b[1;32m    737\u001b[0m             \u001b[0msample_weight\u001b[0m\u001b[0;34m=\u001b[0m\u001b[0msample_weight\u001b[0m\u001b[0;34m,\u001b[0m\u001b[0;34m\u001b[0m\u001b[0m\n\u001b[1;32m    738\u001b[0m             \u001b[0mcheck_input\u001b[0m\u001b[0;34m=\u001b[0m\u001b[0mcheck_input\u001b[0m\u001b[0;34m,\u001b[0m\u001b[0;34m\u001b[0m\u001b[0m\n\u001b[0;32m--> 739\u001b[0;31m             X_idx_sorted=X_idx_sorted)\n\u001b[0m\u001b[1;32m    740\u001b[0m         \u001b[0;32mreturn\u001b[0m \u001b[0mself\u001b[0m\u001b[0;34m\u001b[0m\u001b[0m\n\u001b[1;32m    741\u001b[0m \u001b[0;34m\u001b[0m\u001b[0m\n",
      "\u001b[0;32m/Users/Vignesh/anaconda2/lib/python2.7/site-packages/sklearn/tree/tree.pyc\u001b[0m in \u001b[0;36mfit\u001b[0;34m(self, X, y, sample_weight, check_input, X_idx_sorted)\u001b[0m\n\u001b[1;32m    120\u001b[0m         \u001b[0mrandom_state\u001b[0m \u001b[0;34m=\u001b[0m \u001b[0mcheck_random_state\u001b[0m\u001b[0;34m(\u001b[0m\u001b[0mself\u001b[0m\u001b[0;34m.\u001b[0m\u001b[0mrandom_state\u001b[0m\u001b[0;34m)\u001b[0m\u001b[0;34m\u001b[0m\u001b[0m\n\u001b[1;32m    121\u001b[0m         \u001b[0;32mif\u001b[0m \u001b[0mcheck_input\u001b[0m\u001b[0;34m:\u001b[0m\u001b[0;34m\u001b[0m\u001b[0m\n\u001b[0;32m--> 122\u001b[0;31m             \u001b[0mX\u001b[0m \u001b[0;34m=\u001b[0m \u001b[0mcheck_array\u001b[0m\u001b[0;34m(\u001b[0m\u001b[0mX\u001b[0m\u001b[0;34m,\u001b[0m \u001b[0mdtype\u001b[0m\u001b[0;34m=\u001b[0m\u001b[0mDTYPE\u001b[0m\u001b[0;34m,\u001b[0m \u001b[0maccept_sparse\u001b[0m\u001b[0;34m=\u001b[0m\u001b[0;34m\"csc\"\u001b[0m\u001b[0;34m)\u001b[0m\u001b[0;34m\u001b[0m\u001b[0m\n\u001b[0m\u001b[1;32m    123\u001b[0m             \u001b[0my\u001b[0m \u001b[0;34m=\u001b[0m \u001b[0mcheck_array\u001b[0m\u001b[0;34m(\u001b[0m\u001b[0my\u001b[0m\u001b[0;34m,\u001b[0m \u001b[0mensure_2d\u001b[0m\u001b[0;34m=\u001b[0m\u001b[0mFalse\u001b[0m\u001b[0;34m,\u001b[0m \u001b[0mdtype\u001b[0m\u001b[0;34m=\u001b[0m\u001b[0mNone\u001b[0m\u001b[0;34m)\u001b[0m\u001b[0;34m\u001b[0m\u001b[0m\n\u001b[1;32m    124\u001b[0m             \u001b[0;32mif\u001b[0m \u001b[0missparse\u001b[0m\u001b[0;34m(\u001b[0m\u001b[0mX\u001b[0m\u001b[0;34m)\u001b[0m\u001b[0;34m:\u001b[0m\u001b[0;34m\u001b[0m\u001b[0m\n",
      "\u001b[0;32m/Users/Vignesh/anaconda2/lib/python2.7/site-packages/sklearn/utils/validation.pyc\u001b[0m in \u001b[0;36mcheck_array\u001b[0;34m(array, accept_sparse, dtype, order, copy, force_all_finite, ensure_2d, allow_nd, ensure_min_samples, ensure_min_features, warn_on_dtype, estimator)\u001b[0m\n\u001b[1;32m    380\u001b[0m                                       force_all_finite)\n\u001b[1;32m    381\u001b[0m     \u001b[0;32melse\u001b[0m\u001b[0;34m:\u001b[0m\u001b[0;34m\u001b[0m\u001b[0m\n\u001b[0;32m--> 382\u001b[0;31m         \u001b[0marray\u001b[0m \u001b[0;34m=\u001b[0m \u001b[0mnp\u001b[0m\u001b[0;34m.\u001b[0m\u001b[0marray\u001b[0m\u001b[0;34m(\u001b[0m\u001b[0marray\u001b[0m\u001b[0;34m,\u001b[0m \u001b[0mdtype\u001b[0m\u001b[0;34m=\u001b[0m\u001b[0mdtype\u001b[0m\u001b[0;34m,\u001b[0m \u001b[0morder\u001b[0m\u001b[0;34m=\u001b[0m\u001b[0morder\u001b[0m\u001b[0;34m,\u001b[0m \u001b[0mcopy\u001b[0m\u001b[0;34m=\u001b[0m\u001b[0mcopy\u001b[0m\u001b[0;34m)\u001b[0m\u001b[0;34m\u001b[0m\u001b[0m\n\u001b[0m\u001b[1;32m    383\u001b[0m \u001b[0;34m\u001b[0m\u001b[0m\n\u001b[1;32m    384\u001b[0m         \u001b[0;32mif\u001b[0m \u001b[0mensure_2d\u001b[0m\u001b[0;34m:\u001b[0m\u001b[0;34m\u001b[0m\u001b[0m\n",
      "\u001b[0;31mValueError\u001b[0m: could not convert string to float: False"
     ]
    }
   ],
   "source": [
    "cross_val_score(clf, train, bot, cv=2)"
   ]
  },
  {
   "cell_type": "code",
   "execution_count": 28,
   "metadata": {
    "collapsed": true
   },
   "outputs": [],
   "source": [
    "from sklearn.datasets import load_iris\n",
    "from sklearn import tree\n",
    "clf = tree.DecisionTreeClassifier()\n",
    "iris = load_iris()\n",
    "clf = clf.fit(iris.data, iris.target)\n",
    "tree.export_graphviz(clf,out_file='tree.dot') "
   ]
  },
  {
   "cell_type": "code",
   "execution_count": null,
   "metadata": {
    "collapsed": true
   },
   "outputs": [],
   "source": []
  }
 ],
 "metadata": {
  "kernelspec": {
   "display_name": "Python 2",
   "language": "python",
   "name": "python2"
  },
  "language_info": {
   "codemirror_mode": {
    "name": "ipython",
    "version": 2
   },
   "file_extension": ".py",
   "mimetype": "text/x-python",
   "name": "python",
   "nbconvert_exporter": "python",
   "pygments_lexer": "ipython2",
   "version": "2.7.13"
  }
 },
 "nbformat": 4,
 "nbformat_minor": 2
}
