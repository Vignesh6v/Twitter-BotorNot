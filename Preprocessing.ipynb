{
 "cells": [
  {
   "cell_type": "code",
   "execution_count": 40,
   "metadata": {
    "collapsed": false
   },
   "outputs": [],
   "source": [
    "import numpy as np\n",
    "import pandas as pd\n",
    "import glob\n",
    "import string\n",
    "\n",
    "from sklearn.model_selection import train_test_split\n",
    "from nltk.tag import pos_tag\n",
    "\n",
    "import matplotlib.pyplot as plt\n",
    "import seaborn as sns\n",
    "\n",
    "%matplotlib inline"
   ]
  },
  {
   "cell_type": "markdown",
   "metadata": {},
   "source": [
    "# Importing Dataset\n",
    "\n",
    "We import the CSV files"
   ]
  },
  {
   "cell_type": "code",
   "execution_count": 2,
   "metadata": {
    "collapsed": false
   },
   "outputs": [],
   "source": [
    "all_data = pd.DataFrame()\n",
    "for f in glob.glob(\"./data/*.csv\"):\n",
    "    df = pd.read_csv(f)\n",
    "    all_data = all_data.append(df,ignore_index=True)"
   ]
  },
  {
   "cell_type": "code",
   "execution_count": 3,
   "metadata": {
    "collapsed": false
   },
   "outputs": [
    {
     "name": "stdout",
     "output_type": "stream",
     "text": [
      "<class 'pandas.core.frame.DataFrame'>\n",
      "RangeIndex: 2232 entries, 0 to 2231\n",
      "Data columns (total 20 columns):\n",
      "id                       2232 non-null float64\n",
      "id_str                   2232 non-null object\n",
      "screen_name              2232 non-null object\n",
      "location                 1420 non-null object\n",
      "description              1911 non-null object\n",
      "url                      1212 non-null object\n",
      "followers_count          2232 non-null int64\n",
      "friends_count            2232 non-null int64\n",
      "listedcount              2232 non-null int64\n",
      "created_at               2232 non-null object\n",
      "favourites_count         2232 non-null int64\n",
      "verified                 2232 non-null bool\n",
      "statuses_count           2232 non-null int64\n",
      "lang                     2232 non-null object\n",
      "status                   2203 non-null object\n",
      "default_profile          2232 non-null bool\n",
      "default_profile_image    2232 non-null bool\n",
      "has_extended_profile     2154 non-null object\n",
      "name                     2232 non-null object\n",
      "bot                      2232 non-null int64\n",
      "dtypes: bool(3), float64(1), int64(6), object(10)\n",
      "memory usage: 303.0+ KB\n"
     ]
    }
   ],
   "source": [
    "all_data.info()\n",
    "all_data = all_data.sample(frac=1).reset_index(drop=True)"
   ]
  },
  {
   "cell_type": "code",
   "execution_count": 4,
   "metadata": {
    "collapsed": false
   },
   "outputs": [
    {
     "data": {
      "text/html": [
       "<div>\n",
       "<table border=\"1\" class=\"dataframe\">\n",
       "  <thead>\n",
       "    <tr style=\"text-align: right;\">\n",
       "      <th></th>\n",
       "      <th>id</th>\n",
       "      <th>id_str</th>\n",
       "      <th>screen_name</th>\n",
       "      <th>location</th>\n",
       "      <th>description</th>\n",
       "      <th>url</th>\n",
       "      <th>followers_count</th>\n",
       "      <th>friends_count</th>\n",
       "      <th>listedcount</th>\n",
       "      <th>created_at</th>\n",
       "      <th>favourites_count</th>\n",
       "      <th>verified</th>\n",
       "      <th>statuses_count</th>\n",
       "      <th>lang</th>\n",
       "      <th>status</th>\n",
       "      <th>default_profile</th>\n",
       "      <th>default_profile_image</th>\n",
       "      <th>has_extended_profile</th>\n",
       "      <th>name</th>\n",
       "      <th>bot</th>\n",
       "    </tr>\n",
       "  </thead>\n",
       "  <tbody>\n",
       "    <tr>\n",
       "      <th>0</th>\n",
       "      <td>1.663453e+08</td>\n",
       "      <td>166345340</td>\n",
       "      <td>paolitagdiaz</td>\n",
       "      <td>Ponta Grossa, ParanՍ</td>\n",
       "      <td>Argentina morando no Brasil.</td>\n",
       "      <td>NaN</td>\n",
       "      <td>136</td>\n",
       "      <td>300</td>\n",
       "      <td>5</td>\n",
       "      <td>7/13/10</td>\n",
       "      <td>95</td>\n",
       "      <td>False</td>\n",
       "      <td>1748</td>\n",
       "      <td>es</td>\n",
       "      <td>null</td>\n",
       "      <td>False</td>\n",
       "      <td>False</td>\n",
       "      <td>False</td>\n",
       "      <td>Paola  Diaz</td>\n",
       "      <td>0</td>\n",
       "    </tr>\n",
       "    <tr>\n",
       "      <th>1</th>\n",
       "      <td>1.654802e+07</td>\n",
       "      <td>16548023</td>\n",
       "      <td>9GAG</td>\n",
       "      <td>Universe</td>\n",
       "      <td>9GAG is the best content platform for millenni...</td>\n",
       "      <td>http://t.co/B5GZFPUXYM</td>\n",
       "      <td>8740007</td>\n",
       "      <td>9</td>\n",
       "      <td>9992</td>\n",
       "      <td>10/1/08</td>\n",
       "      <td>1127</td>\n",
       "      <td>True</td>\n",
       "      <td>36200</td>\n",
       "      <td>en</td>\n",
       "      <td>Status(id_str='841393552085135360', contributo...</td>\n",
       "      <td>False</td>\n",
       "      <td>False</td>\n",
       "      <td>False</td>\n",
       "      <td>9GAG</td>\n",
       "      <td>0</td>\n",
       "    </tr>\n",
       "    <tr>\n",
       "      <th>2</th>\n",
       "      <td>9.236775e+07</td>\n",
       "      <td>92367751</td>\n",
       "      <td>jessicaalba</td>\n",
       "      <td>NaN</td>\n",
       "      <td>Mom of 2, Founder of The Honest Company, amate...</td>\n",
       "      <td>https://t.co/spEzR79he1</td>\n",
       "      <td>9515386</td>\n",
       "      <td>1329</td>\n",
       "      <td>0</td>\n",
       "      <td>Tue Nov 24 21:17:31 +0000 2009</td>\n",
       "      <td>1141</td>\n",
       "      <td>True</td>\n",
       "      <td>5942</td>\n",
       "      <td>en</td>\n",
       "      <td>{u'contributors': None, u'truncated': False, u...</td>\n",
       "      <td>False</td>\n",
       "      <td>False</td>\n",
       "      <td>False</td>\n",
       "      <td>Jessica Alba</td>\n",
       "      <td>0</td>\n",
       "    </tr>\n",
       "    <tr>\n",
       "      <th>3</th>\n",
       "      <td>1.539694e+09</td>\n",
       "      <td>1539693919</td>\n",
       "      <td>NSA_PRISMbot</td>\n",
       "      <td>We Are Everywhere.</td>\n",
       "      <td>An experiment in speculative surveillance.</td>\n",
       "      <td>NaN</td>\n",
       "      <td>680</td>\n",
       "      <td>36</td>\n",
       "      <td>79</td>\n",
       "      <td>6/22/13</td>\n",
       "      <td>6</td>\n",
       "      <td>False</td>\n",
       "      <td>7068</td>\n",
       "      <td>en</td>\n",
       "      <td>Status(contributors=None, truncated=False, tex...</td>\n",
       "      <td>True</td>\n",
       "      <td>False</td>\n",
       "      <td>False</td>\n",
       "      <td>NSA PRISM</td>\n",
       "      <td>0</td>\n",
       "    </tr>\n",
       "  </tbody>\n",
       "</table>\n",
       "</div>"
      ],
      "text/plain": [
       "             id      id_str   screen_name              location  \\\n",
       "0  1.663453e+08   166345340  paolitagdiaz  Ponta Grossa, ParanՍ   \n",
       "1  1.654802e+07    16548023          9GAG              Universe   \n",
       "2  9.236775e+07    92367751   jessicaalba                   NaN   \n",
       "3  1.539694e+09  1539693919  NSA_PRISMbot    We Are Everywhere.   \n",
       "\n",
       "                                         description                      url  \\\n",
       "0                       Argentina morando no Brasil.                      NaN   \n",
       "1  9GAG is the best content platform for millenni...   http://t.co/B5GZFPUXYM   \n",
       "2  Mom of 2, Founder of The Honest Company, amate...  https://t.co/spEzR79he1   \n",
       "3         An experiment in speculative surveillance.                      NaN   \n",
       "\n",
       "   followers_count  friends_count  listedcount  \\\n",
       "0              136            300            5   \n",
       "1          8740007              9         9992   \n",
       "2          9515386           1329            0   \n",
       "3              680             36           79   \n",
       "\n",
       "                       created_at  favourites_count verified  statuses_count  \\\n",
       "0                         7/13/10                95    False            1748   \n",
       "1                         10/1/08              1127     True           36200   \n",
       "2  Tue Nov 24 21:17:31 +0000 2009              1141     True            5942   \n",
       "3                         6/22/13                 6    False            7068   \n",
       "\n",
       "  lang                                             status default_profile  \\\n",
       "0   es                                               null           False   \n",
       "1   en  Status(id_str='841393552085135360', contributo...           False   \n",
       "2   en  {u'contributors': None, u'truncated': False, u...           False   \n",
       "3   en  Status(contributors=None, truncated=False, tex...            True   \n",
       "\n",
       "  default_profile_image has_extended_profile          name  bot  \n",
       "0                 False                False   Paola  Diaz    0  \n",
       "1                 False                False          9GAG    0  \n",
       "2                 False                False  Jessica Alba    0  \n",
       "3                 False                False     NSA PRISM    0  "
      ]
     },
     "execution_count": 4,
     "metadata": {},
     "output_type": "execute_result"
    }
   ],
   "source": [
    "all_data.head(4)"
   ]
  },
  {
   "cell_type": "code",
   "execution_count": 5,
   "metadata": {
    "collapsed": true
   },
   "outputs": [],
   "source": [
    "train, test = train_test_split(all_data, test_size = 0.2)"
   ]
  },
  {
   "cell_type": "code",
   "execution_count": 6,
   "metadata": {
    "collapsed": false
   },
   "outputs": [
    {
     "data": {
      "text/plain": [
       "((1785, 20), (447, 20))"
      ]
     },
     "execution_count": 6,
     "metadata": {},
     "output_type": "execute_result"
    }
   ],
   "source": [
    "train.shape , test.shape"
   ]
  },
  {
   "cell_type": "markdown",
   "metadata": {},
   "source": [
    "# Visualizing Data"
   ]
  },
  {
   "cell_type": "code",
   "execution_count": 7,
   "metadata": {
    "collapsed": false
   },
   "outputs": [
    {
     "data": {
      "text/plain": [
       "<matplotlib.axes._subplots.AxesSubplot at 0x10e99a890>"
      ]
     },
     "execution_count": 7,
     "metadata": {},
     "output_type": "execute_result"
    },
    {
     "data": {
      "image/png": "[encoded data removed]",
      "text/plain": [
       "<matplotlib.figure.Figure at 0x10e99a150>"
      ]
     },
     "metadata": {},
     "output_type": "display_data"
    }
   ],
   "source": [
    "plt.title('Number of bot vs Number of people', y=1.1, size=15)\n",
    "sns.countplot('bot', data=train)"
   ]
  },
  {
   "cell_type": "code",
   "execution_count": 8,
   "metadata": {
    "collapsed": false
   },
   "outputs": [
    {
     "data": {
      "text/plain": [
       "<matplotlib.axes._subplots.AxesSubplot at 0x10f042450>"
      ]
     },
     "execution_count": 8,
     "metadata": {},
     "output_type": "execute_result"
    },
    {
     "data": {
      "image/png": "[encoded data removed]",
      "text/plain": [
       "<matplotlib.figure.Figure at 0x10ef9fa90>"
      ]
     },
     "metadata": {},
     "output_type": "display_data"
    }
   ],
   "source": [
    "plt.title('Bot count between Verified account', size=20, y=1.1)\n",
    "sns.countplot(x = 'bot', hue='verified', data=train)"
   ]
  },
  {
   "cell_type": "code",
   "execution_count": 9,
   "metadata": {
    "collapsed": false
   },
   "outputs": [
    {
     "data": {
      "text/plain": [
       "<matplotlib.axes._subplots.AxesSubplot at 0x10f080e90>"
      ]
     },
     "execution_count": 9,
     "metadata": {},
     "output_type": "execute_result"
    },
    {
     "data": {
      "image/png": "[encoded data removed]",
      "text/plain": [
       "<matplotlib.figure.Figure at 0x10f141390>"
      ]
     },
     "metadata": {},
     "output_type": "display_data"
    }
   ],
   "source": [
    "plt.title('Bot rate between Verified', size=20, y=1.1)\n",
    "sns.barplot(x='verified', y='bot', data=train)"
   ]
  },
  {
   "cell_type": "code",
   "execution_count": 10,
   "metadata": {
    "collapsed": false
   },
   "outputs": [
    {
     "data": {
      "text/plain": [
       "<matplotlib.axes._subplots.AxesSubplot at 0x10f135bd0>"
      ]
     },
     "execution_count": 10,
     "metadata": {},
     "output_type": "execute_result"
    },
    {
     "data": {
      "image/png": "[encoded data removed]",
      "text/plain": [
       "<matplotlib.figure.Figure at 0x10eff35d0>"
      ]
     },
     "metadata": {},
     "output_type": "display_data"
    }
   ],
   "source": [
    "sns.boxplot(x='bot', y='favourites_count', data=train)"
   ]
  },
  {
   "cell_type": "code",
   "execution_count": 11,
   "metadata": {
    "collapsed": false
   },
   "outputs": [
    {
     "data": {
      "text/plain": [
       "count    1.785000e+03\n",
       "mean     9.689370e+05\n",
       "std      5.355878e+06\n",
       "min      0.000000e+00\n",
       "25%      4.500000e+01\n",
       "50%      3.430000e+02\n",
       "75%      1.307100e+04\n",
       "max      9.632156e+07\n",
       "Name: followers_count, dtype: float64"
      ]
     },
     "execution_count": 11,
     "metadata": {},
     "output_type": "execute_result"
    },
    {
     "data": {
      "image/png": "[encoded data removed]",
      "text/plain": [
       "<matplotlib.figure.Figure at 0x10f2af5d0>"
      ]
     },
     "metadata": {},
     "output_type": "display_data"
    }
   ],
   "source": [
    "sns.distplot(train['followers_count'])\n",
    "train['followers_count'].describe()"
   ]
  },
  {
   "cell_type": "markdown",
   "metadata": {},
   "source": [
    "# Transforming Features"
   ]
  },
  {
   "cell_type": "markdown",
   "metadata": {},
   "source": [
    "Since we must deal with numerical feature, we should convert all the following in a binary vector 0/1.\n",
    "1. verified \n",
    "2. default_profile \n",
    "3. default_profile_image \n",
    "4. has_extended_profile "
   ]
  },
  {
   "cell_type": "code",
   "execution_count": 12,
   "metadata": {
    "collapsed": false
   },
   "outputs": [
    {
     "data": {
      "text/plain": [
       "count      1785\n",
       "unique        2\n",
       "top       False\n",
       "freq        982\n",
       "Name: default_profile, dtype: object"
      ]
     },
     "execution_count": 12,
     "metadata": {},
     "output_type": "execute_result"
    }
   ],
   "source": [
    "train['default_profile'].describe()"
   ]
  },
  {
   "cell_type": "code",
   "execution_count": 7,
   "metadata": {
    "collapsed": true
   },
   "outputs": [],
   "source": [
    "def returnDates(x):\n",
    "    formated_date = ''\n",
    "    months = {'Jan':1,'Feb':2,'Mar':3,'Apr':4,'May':5,'Jun':6,'Jul':7,'Aug':8,'Sep':9,'Oct':10,'Nov':11,'Dec':12}\n",
    "    if x.startswith('\"') and x.endswith('\"'): x = x[1:-1]\n",
    "    date_split = x.split(' ')\n",
    "    if len(date_split) == 1:\n",
    "        _date = date_split[0].split('/')\n",
    "        _date[2] = '20'+_date[2]\n",
    "        formated_date = ''.join(map(str,_date))\n",
    "        #print formated_date , date_split, pd.to_datetime(formated_date, format='%m%d%Y', errors='coerce')\n",
    "    elif len(date_split) == 2:\n",
    "        _date = date_split[0].split('/')\n",
    "        formated_date = ''.join(map(str,[_date[1],_date[0],_date[2]]))\n",
    "        #print formated_date , date_split, pd.to_datetime(formated_date, format='%m%d%Y', errors='coerce')\n",
    "    elif len(date_split) == 6:\n",
    "        m = months[date_split[1]]\n",
    "        formated_date = ''.join(map(str,[m,date_split[2],date_split[5]]))\n",
    "        if formated_date[-1] == '\"': formated_date = formated_date[:-1]\n",
    "        #print formated_date, date_split, pd.to_datetime(formated_date, format='%m%d%Y', errors='coerce')\n",
    "    \n",
    "    return pd.to_datetime(formated_date, format='%m%d%Y', errors='coerce')"
   ]
  },
  {
   "cell_type": "code",
   "execution_count": 9,
   "metadata": {
    "collapsed": false
   },
   "outputs": [
    {
     "data": {
      "text/html": [
       "<div>\n",
       "<table border=\"1\" class=\"dataframe\">\n",
       "  <thead>\n",
       "    <tr style=\"text-align: right;\">\n",
       "      <th></th>\n",
       "      <th>screen_name</th>\n",
       "      <th>description</th>\n",
       "      <th>url</th>\n",
       "      <th>followers_count</th>\n",
       "      <th>friends_count</th>\n",
       "      <th>listedcount</th>\n",
       "      <th>created_at</th>\n",
       "      <th>favourites_count</th>\n",
       "      <th>verified</th>\n",
       "      <th>statuses_count</th>\n",
       "      <th>status</th>\n",
       "      <th>default_profile</th>\n",
       "      <th>default_profile_image</th>\n",
       "      <th>has_extended_profile</th>\n",
       "      <th>name</th>\n",
       "      <th>bot</th>\n",
       "    </tr>\n",
       "  </thead>\n",
       "  <tbody>\n",
       "    <tr>\n",
       "      <th>2085</th>\n",
       "      <td>Saloni146</td>\n",
       "      <td>NaN</td>\n",
       "      <td>NaN</td>\n",
       "      <td>2_quartile</td>\n",
       "      <td>2_quartile</td>\n",
       "      <td>Unknown</td>\n",
       "      <td>2014-03-22</td>\n",
       "      <td>4_quartile</td>\n",
       "      <td>False</td>\n",
       "      <td>1_quartile</td>\n",
       "      <td>Status(created_at=datetime.datetime(2016, 12, ...</td>\n",
       "      <td>True</td>\n",
       "      <td>False</td>\n",
       "      <td>False</td>\n",
       "      <td>Saloni Singh</td>\n",
       "      <td>0</td>\n",
       "    </tr>\n",
       "    <tr>\n",
       "      <th>1664</th>\n",
       "      <td>xbangtan1</td>\n",
       "      <td>Giving you a free follow and you can help me b...</td>\n",
       "      <td>NaN</td>\n",
       "      <td>2_quartile</td>\n",
       "      <td>4_quartile</td>\n",
       "      <td>Unknown</td>\n",
       "      <td>2016-07-06</td>\n",
       "      <td>2_quartile</td>\n",
       "      <td>False</td>\n",
       "      <td>1_quartile</td>\n",
       "      <td>{'truncated': False, 'entities': {'user_mentio...</td>\n",
       "      <td>True</td>\n",
       "      <td>False</td>\n",
       "      <td>False</td>\n",
       "      <td>free follow read bio</td>\n",
       "      <td>1</td>\n",
       "    </tr>\n",
       "    <tr>\n",
       "      <th>375</th>\n",
       "      <td>thedreamstream</td>\n",
       "      <td>So we all love hearing about other ppls dreams...</td>\n",
       "      <td>NaN</td>\n",
       "      <td>2_quartile</td>\n",
       "      <td>3_quartile</td>\n",
       "      <td>2_quartile</td>\n",
       "      <td>2009-06-27</td>\n",
       "      <td>1_quartile</td>\n",
       "      <td>False</td>\n",
       "      <td>3_quartile</td>\n",
       "      <td>Status(created_at=datetime.datetime(2010, 1, 2...</td>\n",
       "      <td>False</td>\n",
       "      <td>False</td>\n",
       "      <td>False</td>\n",
       "      <td>The Dream Stream</td>\n",
       "      <td>1</td>\n",
       "    </tr>\n",
       "    <tr>\n",
       "      <th>1984</th>\n",
       "      <td>Stroke9</td>\n",
       "      <td>Band. Backpacks. Beers.</td>\n",
       "      <td>https://t.co/FvKfaF9lb3</td>\n",
       "      <td>4_quartile</td>\n",
       "      <td>3_quartile</td>\n",
       "      <td>4_quartile</td>\n",
       "      <td>2009-02-06</td>\n",
       "      <td>4_quartile</td>\n",
       "      <td>True</td>\n",
       "      <td>3_quartile</td>\n",
       "      <td>{u'contributors': None, u'truncated': False, u...</td>\n",
       "      <td>False</td>\n",
       "      <td>False</td>\n",
       "      <td>False</td>\n",
       "      <td>Stroke 9</td>\n",
       "      <td>0</td>\n",
       "    </tr>\n",
       "    <tr>\n",
       "      <th>1618</th>\n",
       "      <td>HEoxt25</td>\n",
       "      <td>The Association of Ontario Midwives is the pro...</td>\n",
       "      <td>NaN</td>\n",
       "      <td>1_quartile</td>\n",
       "      <td>3_quartile</td>\n",
       "      <td>Unknown</td>\n",
       "      <td>2016-10-14</td>\n",
       "      <td>3_quartile</td>\n",
       "      <td>False</td>\n",
       "      <td>1_quartile</td>\n",
       "      <td>null</td>\n",
       "      <td>True</td>\n",
       "      <td>False</td>\n",
       "      <td>False</td>\n",
       "      <td>HEoxt25</td>\n",
       "      <td>1</td>\n",
       "    </tr>\n",
       "  </tbody>\n",
       "</table>\n",
       "</div>"
      ],
      "text/plain": [
       "         screen_name                                        description  \\\n",
       "2085       Saloni146                                                NaN   \n",
       "1664       xbangtan1  Giving you a free follow and you can help me b...   \n",
       "375   thedreamstream  So we all love hearing about other ppls dreams...   \n",
       "1984         Stroke9                            Band. Backpacks. Beers.   \n",
       "1618         HEoxt25  The Association of Ontario Midwives is the pro...   \n",
       "\n",
       "                          url followers_count friends_count listedcount  \\\n",
       "2085                      NaN      2_quartile    2_quartile     Unknown   \n",
       "1664                      NaN      2_quartile    4_quartile     Unknown   \n",
       "375                       NaN      2_quartile    3_quartile  2_quartile   \n",
       "1984  https://t.co/FvKfaF9lb3      4_quartile    3_quartile  4_quartile   \n",
       "1618                      NaN      1_quartile    3_quartile     Unknown   \n",
       "\n",
       "     created_at favourites_count verified statuses_count  \\\n",
       "2085 2014-03-22       4_quartile    False     1_quartile   \n",
       "1664 2016-07-06       2_quartile    False     1_quartile   \n",
       "375  2009-06-27       1_quartile    False     3_quartile   \n",
       "1984 2009-02-06       4_quartile     True     3_quartile   \n",
       "1618 2016-10-14       3_quartile    False     1_quartile   \n",
       "\n",
       "                                                 status default_profile  \\\n",
       "2085  Status(created_at=datetime.datetime(2016, 12, ...            True   \n",
       "1664  {'truncated': False, 'entities': {'user_mentio...            True   \n",
       "375   Status(created_at=datetime.datetime(2010, 1, 2...           False   \n",
       "1984  {u'contributors': None, u'truncated': False, u...           False   \n",
       "1618                                               null            True   \n",
       "\n",
       "     default_profile_image has_extended_profile                  name  bot  \n",
       "2085                 False                False          Saloni Singh    0  \n",
       "1664                 False                False  free follow read bio    1  \n",
       "375                  False                False      The Dream Stream    1  \n",
       "1984                 False                False              Stroke 9    0  \n",
       "1618                 False                False               HEoxt25    1  "
      ]
     },
     "execution_count": 9,
     "metadata": {},
     "output_type": "execute_result"
    }
   ],
   "source": [
    "def simplfy_followerscount(df):\n",
    "    df.followers_count = df.followers_count.fillna(-0.5)\n",
    "    bins = (-1, 0, 46,358,14917,96321560)\n",
    "    group_names = ['Unknown', '1_quartile', '2_quartile', '3_quartile', '4_quartile']\n",
    "    categories = pd.cut(df.followers_count, bins, labels=group_names)\n",
    "    df.followers_count = categories\n",
    "    return df  \n",
    "\n",
    "def simplfy_friendscount(df):\n",
    "    df['friends_count'] = df['friends_count'].fillna(-0.5)\n",
    "    bins = (-1, 0, 10,197,671,978964)\n",
    "    group_names = ['Unknown', '1_quartile', '2_quartile', '3_quartile', '4_quartile']\n",
    "    categories = pd.cut(df['friends_count'], bins, labels=group_names)\n",
    "    df['friends_count'] = categories\n",
    "    return df    \n",
    "\n",
    "def simplfy_listedcount(df):\n",
    "    df['listedcount'] = df['listedcount'].fillna(-0.5)\n",
    "    bins = (-1, 0, 1,18,360,222411)\n",
    "    group_names = ['Unknown', '1_quartile', '2_quartile', '3_quartile', '4_quartile']\n",
    "    categories = pd.cut(df['listedcount'], bins, labels=group_names)\n",
    "    df['listedcount'] = categories\n",
    "    return df    \n",
    "\n",
    "def simplfy_favouritescount(df):\n",
    "    df['favourites_count'] = df['favourites_count'].fillna(-0.5)\n",
    "    bins = (-1,0,25,484,714021)\n",
    "    group_names = ['1_quartile', '2_quartile', '3_quartile', '4_quartile']\n",
    "    categories = pd.cut(df['favourites_count'], bins, labels=group_names)\n",
    "    df['favourites_count'] = categories\n",
    "    return df  \n",
    "\n",
    "def simplfy_statusescount(df):\n",
    "    df['statuses_count'] = df['statuses_count'].fillna(-0.5)\n",
    "    bins = (-1, 0,178,2290,10025,6863363)\n",
    "    group_names = ['Unknown', '1_quartile', '2_quartile', '3_quartile', '4_quartile']\n",
    "    categories = pd.cut(df['statuses_count'], bins, labels=group_names)\n",
    "    df['statuses_count'] = categories\n",
    "    return df \n",
    "\n",
    "def drop_features(df):\n",
    "    return df.drop(['id', 'id_str', 'location','lang'], axis=1)\n",
    "\n",
    "def replace_None(df):\n",
    "    df['has_extended_profile'] = df['has_extended_profile'].fillna('N/A')\n",
    "    df['status'] = df['status'].fillna('N/A')\n",
    "    return df\n",
    "\n",
    "def format_date(df):\n",
    "    df['created_at'] = df['created_at'].apply(returnDates)\n",
    "    return df;\n",
    "\n",
    "def transform_features(df):\n",
    "    df = simplfy_followerscount(df)\n",
    "    df = simplfy_friendscount(df)\n",
    "    df = simplfy_listedcount(df)\n",
    "    df = simplfy_favouritescount(df)\n",
    "    df = simplfy_statusescount(df)   \n",
    "    df = drop_features(df)\n",
    "    df = replace_None(df)  \n",
    "    df = format_date(df)\n",
    "    return df\n",
    "\n",
    "train = transform_features(train)\n",
    "test = transform_features(test)\n",
    "train.head()"
   ]
  },
  {
   "cell_type": "code",
   "execution_count": 10,
   "metadata": {
    "collapsed": false
   },
   "outputs": [
    {
     "data": {
      "image/png": "[encoded data removed]",
      "text/plain": [
       "<matplotlib.figure.Figure at 0x112ff4990>"
      ]
     },
     "metadata": {},
     "output_type": "display_data"
    }
   ],
   "source": [
    "sns.barplot(x=\"favourites_count\", y=\"bot\", hue=\"default_profile\", data=train);"
   ]
  },
  {
   "cell_type": "code",
   "execution_count": 11,
   "metadata": {
    "collapsed": false
   },
   "outputs": [
    {
     "data": {
      "image/png": "[encoded data removed]",
      "text/plain": [
       "<matplotlib.figure.Figure at 0x113334ad0>"
      ]
     },
     "metadata": {},
     "output_type": "display_data"
    }
   ],
   "source": [
    "sns.barplot(x=\"favourites_count\", y=\"bot\", hue=\"listedcount\", data=train);"
   ]
  },
  {
   "cell_type": "markdown",
   "metadata": {
    "collapsed": false
   },
   "source": [
    "# Final Encoding\n",
    "\n",
    "The LabelEncoder in Scikit-learn will convert each unique string value into a number, making out data more flexible for various algorithms."
   ]
  },
  {
   "cell_type": "code",
   "execution_count": 12,
   "metadata": {
    "collapsed": false
   },
   "outputs": [
    {
     "name": "stderr",
     "output_type": "stream",
     "text": [
      "/Users/Vignesh/anaconda2/lib/python2.7/site-packages/numpy/lib/arraysetops.py:259: FutureWarning: numpy equal will not check object identity in the future. The comparison did not return the same result as suggested by the identity (`is`)) and will change.\n",
      "  return aux[:-1][aux[1:] == aux[:-1]]\n"
     ]
    },
    {
     "data": {
      "text/html": [
       "<div>\n",
       "<table border=\"1\" class=\"dataframe\">\n",
       "  <thead>\n",
       "    <tr style=\"text-align: right;\">\n",
       "      <th></th>\n",
       "      <th>screen_name</th>\n",
       "      <th>description</th>\n",
       "      <th>url</th>\n",
       "      <th>followers_count</th>\n",
       "      <th>friends_count</th>\n",
       "      <th>listedcount</th>\n",
       "      <th>created_at</th>\n",
       "      <th>favourites_count</th>\n",
       "      <th>verified</th>\n",
       "      <th>statuses_count</th>\n",
       "      <th>status</th>\n",
       "      <th>default_profile</th>\n",
       "      <th>default_profile_image</th>\n",
       "      <th>has_extended_profile</th>\n",
       "      <th>name</th>\n",
       "      <th>bot</th>\n",
       "    </tr>\n",
       "  </thead>\n",
       "  <tbody>\n",
       "    <tr>\n",
       "      <th>2085</th>\n",
       "      <td>Saloni146</td>\n",
       "      <td>NaN</td>\n",
       "      <td>NaN</td>\n",
       "      <td>2</td>\n",
       "      <td>1</td>\n",
       "      <td>4</td>\n",
       "      <td>2014-03-22</td>\n",
       "      <td>3</td>\n",
       "      <td>0</td>\n",
       "      <td>0</td>\n",
       "      <td>Status(created_at=datetime.datetime(2016, 12, ...</td>\n",
       "      <td>1</td>\n",
       "      <td>0</td>\n",
       "      <td>0</td>\n",
       "      <td>Saloni Singh</td>\n",
       "      <td>0</td>\n",
       "    </tr>\n",
       "    <tr>\n",
       "      <th>1664</th>\n",
       "      <td>xbangtan1</td>\n",
       "      <td>Giving you a free follow and you can help me b...</td>\n",
       "      <td>NaN</td>\n",
       "      <td>2</td>\n",
       "      <td>3</td>\n",
       "      <td>4</td>\n",
       "      <td>2016-07-06</td>\n",
       "      <td>1</td>\n",
       "      <td>0</td>\n",
       "      <td>0</td>\n",
       "      <td>{'truncated': False, 'entities': {'user_mentio...</td>\n",
       "      <td>1</td>\n",
       "      <td>0</td>\n",
       "      <td>0</td>\n",
       "      <td>free follow read bio</td>\n",
       "      <td>1</td>\n",
       "    </tr>\n",
       "    <tr>\n",
       "      <th>375</th>\n",
       "      <td>thedreamstream</td>\n",
       "      <td>So we all love hearing about other ppls dreams...</td>\n",
       "      <td>NaN</td>\n",
       "      <td>2</td>\n",
       "      <td>2</td>\n",
       "      <td>1</td>\n",
       "      <td>2009-06-27</td>\n",
       "      <td>0</td>\n",
       "      <td>0</td>\n",
       "      <td>2</td>\n",
       "      <td>Status(created_at=datetime.datetime(2010, 1, 2...</td>\n",
       "      <td>0</td>\n",
       "      <td>0</td>\n",
       "      <td>0</td>\n",
       "      <td>The Dream Stream</td>\n",
       "      <td>1</td>\n",
       "    </tr>\n",
       "    <tr>\n",
       "      <th>1984</th>\n",
       "      <td>Stroke9</td>\n",
       "      <td>Band. Backpacks. Beers.</td>\n",
       "      <td>https://t.co/FvKfaF9lb3</td>\n",
       "      <td>4</td>\n",
       "      <td>2</td>\n",
       "      <td>3</td>\n",
       "      <td>2009-02-06</td>\n",
       "      <td>3</td>\n",
       "      <td>1</td>\n",
       "      <td>2</td>\n",
       "      <td>{u'contributors': None, u'truncated': False, u...</td>\n",
       "      <td>0</td>\n",
       "      <td>0</td>\n",
       "      <td>0</td>\n",
       "      <td>Stroke 9</td>\n",
       "      <td>0</td>\n",
       "    </tr>\n",
       "    <tr>\n",
       "      <th>1618</th>\n",
       "      <td>HEoxt25</td>\n",
       "      <td>The Association of Ontario Midwives is the pro...</td>\n",
       "      <td>NaN</td>\n",
       "      <td>1</td>\n",
       "      <td>2</td>\n",
       "      <td>4</td>\n",
       "      <td>2016-10-14</td>\n",
       "      <td>2</td>\n",
       "      <td>0</td>\n",
       "      <td>0</td>\n",
       "      <td>null</td>\n",
       "      <td>1</td>\n",
       "      <td>0</td>\n",
       "      <td>0</td>\n",
       "      <td>HEoxt25</td>\n",
       "      <td>1</td>\n",
       "    </tr>\n",
       "  </tbody>\n",
       "</table>\n",
       "</div>"
      ],
      "text/plain": [
       "         screen_name                                        description  \\\n",
       "2085       Saloni146                                                NaN   \n",
       "1664       xbangtan1  Giving you a free follow and you can help me b...   \n",
       "375   thedreamstream  So we all love hearing about other ppls dreams...   \n",
       "1984         Stroke9                            Band. Backpacks. Beers.   \n",
       "1618         HEoxt25  The Association of Ontario Midwives is the pro...   \n",
       "\n",
       "                          url  followers_count  friends_count  listedcount  \\\n",
       "2085                      NaN                2              1            4   \n",
       "1664                      NaN                2              3            4   \n",
       "375                       NaN                2              2            1   \n",
       "1984  https://t.co/FvKfaF9lb3                4              2            3   \n",
       "1618                      NaN                1              2            4   \n",
       "\n",
       "     created_at  favourites_count  verified  statuses_count  \\\n",
       "2085 2014-03-22                 3         0               0   \n",
       "1664 2016-07-06                 1         0               0   \n",
       "375  2009-06-27                 0         0               2   \n",
       "1984 2009-02-06                 3         1               2   \n",
       "1618 2016-10-14                 2         0               0   \n",
       "\n",
       "                                                 status  default_profile  \\\n",
       "2085  Status(created_at=datetime.datetime(2016, 12, ...                1   \n",
       "1664  {'truncated': False, 'entities': {'user_mentio...                1   \n",
       "375   Status(created_at=datetime.datetime(2010, 1, 2...                0   \n",
       "1984  {u'contributors': None, u'truncated': False, u...                0   \n",
       "1618                                               null                1   \n",
       "\n",
       "      default_profile_image  has_extended_profile                  name  bot  \n",
       "2085                      0                     0          Saloni Singh    0  \n",
       "1664                      0                     0  free follow read bio    1  \n",
       "375                       0                     0      The Dream Stream    1  \n",
       "1984                      0                     0              Stroke 9    0  \n",
       "1618                      0                     0               HEoxt25    1  "
      ]
     },
     "execution_count": 12,
     "metadata": {},
     "output_type": "execute_result"
    }
   ],
   "source": [
    "from sklearn import preprocessing\n",
    "def encode_features(df_train, df_test):\n",
    "    features = ['followers_count','friends_count','listedcount','favourites_count','verified','statuses_count', \\\n",
    "                'default_profile','default_profile_image','has_extended_profile']\n",
    "    df_combined = pd.concat([df_train[features], df_test[features]])\n",
    "    \n",
    "    for feature in features:\n",
    "        le = preprocessing.LabelEncoder()\n",
    "        le = le.fit(df_combined[feature])\n",
    "        df_train[feature] = le.transform(df_train[feature])\n",
    "        df_test[feature] = le.transform(df_test[feature])\n",
    "    return df_train, df_test\n",
    "    \n",
    "train, test = encode_features(train, test)\n",
    "train.head()"
   ]
  },
  {
   "cell_type": "code",
   "execution_count": 21,
   "metadata": {
    "collapsed": false
   },
   "outputs": [],
   "source": [
    "train_output = pd.DataFrame(data=train, columns =list(train))\n",
    "test_output = pd.DataFrame(data=test, columns =list(test))\n",
    "\n",
    "# Use pandas to write the comma-separated output file\n",
    "train_output.to_csv(\"./cleanedData/Bot_Training.csv\", index=False)\n",
    "test_output.to_csv(\"./cleanedData/Bot_Testing.csv\", index=False)"
   ]
  },
  {
   "cell_type": "markdown",
   "metadata": {},
   "source": [
    "# Splitting up the Training Data\n",
    "\n",
    "\n",
    "First, separate the features(X) from the labels(y).\n",
    "* X_all: All features minus the value we want to predict (Bot).\n",
    "* y_all: Only the value we want to predict.\n",
    "\n",
    "Second, use Scikit-learn to randomly shuffle this data into four variables. In this case, Training 80% of the data, then testing against the other 20%.\n",
    "\n",
    "Later, this data will be reorganized into a KFold pattern to validate the effectiveness of a trained algorithm"
   ]
  },
  {
   "cell_type": "code",
   "execution_count": 13,
   "metadata": {
    "collapsed": true
   },
   "outputs": [],
   "source": [
    "from sklearn.model_selection import train_test_split\n",
    "\n",
    "X_all = train.drop(['bot', 'screen_name'], axis=1)\n",
    "y_all = train['bot']\n",
    "\n",
    "num_test = 0.20\n",
    "X_train, X_test, y_train, y_test = train_test_split(X_all, y_all, test_size=num_test, random_state=23)"
   ]
  },
  {
   "cell_type": "code",
   "execution_count": 14,
   "metadata": {
    "collapsed": false
   },
   "outputs": [
    {
     "data": {
      "text/plain": [
       "((1428, 14), (1428,))"
      ]
     },
     "execution_count": 14,
     "metadata": {},
     "output_type": "execute_result"
    }
   ],
   "source": [
    "X_train.shape, y_train.shape"
   ]
  },
  {
   "cell_type": "code",
   "execution_count": 15,
   "metadata": {
    "collapsed": false
   },
   "outputs": [
    {
     "data": {
      "text/plain": [
       "((357, 14), (357,))"
      ]
     },
     "execution_count": 15,
     "metadata": {},
     "output_type": "execute_result"
    }
   ],
   "source": [
    "X_test.shape, y_test.shape"
   ]
  },
  {
   "cell_type": "code",
   "execution_count": 67,
   "metadata": {
    "collapsed": false
   },
   "outputs": [],
   "source": [
    "def get_Noun(x):\n",
    "    word = x.strip()\n",
    "    count = 0\n",
    "    tagged_sent = pos_tag(word.split())\n",
    "    for w in tagged_sent:\n",
    "        if w[1] == 'NNP':\n",
    "            count+=1\n",
    "        if w[1] == 'VBZ':\n",
    "            count-=1\n",
    "    return count"
   ]
  },
  {
   "cell_type": "code",
   "execution_count": 68,
   "metadata": {
    "collapsed": false
   },
   "outputs": [],
   "source": [
    "df['name'] = df['name'].fillna(\"\")\n",
    "train['NounCount'] = df['name'].apply(get_Noun)"
   ]
  },
  {
   "cell_type": "code",
   "execution_count": 69,
   "metadata": {
    "collapsed": false
   },
   "outputs": [
    {
     "data": {
      "text/plain": [
       "count    939.000000\n",
       "mean       1.436635\n",
       "std        0.932120\n",
       "min        0.000000\n",
       "25%        0.000000\n",
       "50%        2.000000\n",
       "75%        2.000000\n",
       "max        3.000000\n",
       "Name: NounCount, dtype: float64"
      ]
     },
     "execution_count": 69,
     "metadata": {},
     "output_type": "execute_result"
    }
   ],
   "source": [
    "train['NounCount'].describe()"
   ]
  },
  {
   "cell_type": "code",
   "execution_count": 70,
   "metadata": {
    "collapsed": false
   },
   "outputs": [
    {
     "data": {
      "text/plain": [
       "<matplotlib.axes._subplots.AxesSubplot at 0x11bc92fd0>"
      ]
     },
     "execution_count": 70,
     "metadata": {},
     "output_type": "execute_result"
    },
    {
     "data": {
      "image/png": "[encoded data removed]",
      "text/plain": [
       "<matplotlib.figure.Figure at 0x11bdf3e10>"
      ]
     },
     "metadata": {},
     "output_type": "display_data"
    }
   ],
   "source": [
    "plt.title('Bot count between # of Nouns in Name', size=20, y=1.1)\n",
    "sns.countplot(x = 'bot', hue='NounCount', data=train)"
   ]
  },
  {
   "cell_type": "code",
   "execution_count": 71,
   "metadata": {
    "collapsed": false
   },
   "outputs": [
    {
     "data": {
      "text/plain": [
       "Timestamp('2010-07-13 00:00:00')"
      ]
     },
     "execution_count": 71,
     "metadata": {},
     "output_type": "execute_result"
    }
   ],
   "source": [
    "train['created_at'][0]"
   ]
  },
  {
   "cell_type": "code",
   "execution_count": 73,
   "metadata": {
    "collapsed": false
   },
   "outputs": [],
   "source": [
    "from datetime import date\n",
    "import calendar\n",
    "train['days'] = train['created_at'].apply(lambda x: calendar.day_name[x.weekday()])"
   ]
  },
  {
   "cell_type": "code",
   "execution_count": 74,
   "metadata": {
    "collapsed": false
   },
   "outputs": [
    {
     "data": {
      "text/plain": [
       "count         1785\n",
       "unique           7\n",
       "top       Thursday\n",
       "freq           291\n",
       "Name: days, dtype: object"
      ]
     },
     "execution_count": 74,
     "metadata": {},
     "output_type": "execute_result"
    }
   ],
   "source": [
    "train['days'].describe()"
   ]
  },
  {
   "cell_type": "code",
   "execution_count": 77,
   "metadata": {
    "collapsed": false
   },
   "outputs": [
    {
     "data": {
      "text/plain": [
       "<matplotlib.axes._subplots.AxesSubplot at 0x11c2ba050>"
      ]
     },
     "execution_count": 77,
     "metadata": {},
     "output_type": "execute_result"
    },
    {
     "data": {
      "image/png": "[encoded data removed]",
      "text/plain": [
       "<matplotlib.figure.Figure at 0x11bd51a90>"
      ]
     },
     "metadata": {},
     "output_type": "display_data"
    }
   ],
   "source": [
    "plt.title('Bot count between # of Days', size=40, y=1.1)\n",
    "sns.countplot(x = 'days', hue='bot', data=train)"
   ]
  },
  {
   "cell_type": "code",
   "execution_count": null,
   "metadata": {
    "collapsed": true
   },
   "outputs": [],
   "source": []
  }
 ],
 "metadata": {
  "kernelspec": {
   "display_name": "Python 2",
   "language": "python",
   "name": "python2"
  },
  "language_info": {
   "codemirror_mode": {
    "name": "ipython",
    "version": 2
   },
   "file_extension": ".py",
   "mimetype": "text/x-python",
   "name": "python",
   "nbconvert_exporter": "python",
   "pygments_lexer": "ipython2",
   "version": "2.7.13"
  }
 },
 "nbformat": 4,
 "nbformat_minor": 2
}
