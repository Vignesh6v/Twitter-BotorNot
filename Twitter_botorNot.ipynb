{
 "cells": [
  {
   "cell_type": "markdown",
   "metadata": {},
   "source": [
    "# Twitter Data Preprocessing\n",
    "\n",
    "Importing all libraries. "
   ]
  },
  {
   "cell_type": "code",
   "execution_count": 210,
   "metadata": {
    "collapsed": false
   },
   "outputs": [],
   "source": [
    "# Imports\n",
    "\n",
    "import glob\n",
    "import string\n",
    "\n",
    "# pandas\n",
    "import pandas as pd\n",
    "from pandas import Series,DataFrame\n",
    "\n",
    "# numpy, matplotlib, seaborn\n",
    "import numpy as np\n",
    "from scipy import interp\n",
    "from itertools import cycle\n",
    "import matplotlib.pyplot as plt\n",
    "import seaborn as sns\n",
    "sns.set_style('whitegrid')\n",
    "%matplotlib inline\n",
    "\n",
    "# nltk\n",
    "from nltk.tag import pos_tag\n",
    "import nltk\n",
    "\n",
    "# machine learning\n",
    "from sklearn.linear_model import LogisticRegression\n",
    "from sklearn.ensemble import RandomForestClassifier\n",
    "from sklearn.model_selection import StratifiedKFold\n",
    "from sklearn.feature_selection import RFECV\n",
    "from sklearn.tree import DecisionTreeClassifier, export_graphviz\n",
    "\n",
    "#metrics\n",
    "from sklearn.model_selection import train_test_split\n",
    "from sklearn.metrics import make_scorer, accuracy_score, confusion_matrix\n",
    "from sklearn.metrics import precision_recall_fscore_support, classification_report\n",
    "from sklearn.model_selection import GridSearchCV, cross_val_score\n",
    "from sklearn.metrics import roc_curve, auc\n",
    "from sklearn.model_selection import StratifiedKFold"
   ]
  },
  {
   "cell_type": "markdown",
   "metadata": {},
   "source": [
    "# Importing Dataset\n",
    "We import the CSV files"
   ]
  },
  {
   "cell_type": "code",
   "execution_count": 174,
   "metadata": {
    "collapsed": true
   },
   "outputs": [],
   "source": [
    "all_data = pd.DataFrame()\n",
    "for f in glob.glob(\"./data/*.csv\"):\n",
    "    df = pd.read_csv(f)\n",
    "    all_data = all_data.append(df,ignore_index=True)"
   ]
  },
  {
   "cell_type": "code",
   "execution_count": 175,
   "metadata": {
    "collapsed": false
   },
   "outputs": [
    {
     "name": "stdout",
     "output_type": "stream",
     "text": [
      "<class 'pandas.core.frame.DataFrame'>\n",
      "RangeIndex: 2226 entries, 0 to 2225\n",
      "Data columns (total 20 columns):\n",
      "id                       2226 non-null float64\n",
      "id_str                   2226 non-null float64\n",
      "screen_name              2226 non-null object\n",
      "location                 1391 non-null object\n",
      "description              1908 non-null object\n",
      "url                      1112 non-null object\n",
      "followers_count          2226 non-null int64\n",
      "friends_count            2226 non-null int64\n",
      "listedcount              2226 non-null int64\n",
      "created_at               2226 non-null object\n",
      "favourites_count         2226 non-null int64\n",
      "verified                 2226 non-null bool\n",
      "statuses_count           2226 non-null int64\n",
      "lang                     2226 non-null object\n",
      "status                   2151 non-null object\n",
      "default_profile          2226 non-null bool\n",
      "default_profile_image    2226 non-null bool\n",
      "has_extended_profile     2226 non-null bool\n",
      "name                     2226 non-null object\n",
      "bot                      2226 non-null int64\n",
      "dtypes: bool(4), float64(2), int64(6), object(8)\n",
      "memory usage: 287.0+ KB\n"
     ]
    }
   ],
   "source": [
    "all_data.info()\n",
    "all_data = all_data.sample(frac=1).reset_index(drop=True)"
   ]
  },
  {
   "cell_type": "code",
   "execution_count": 176,
   "metadata": {
    "collapsed": false
   },
   "outputs": [
    {
     "data": {
      "text/html": [
       "<div>\n",
       "<table border=\"1\" class=\"dataframe\">\n",
       "  <thead>\n",
       "    <tr style=\"text-align: right;\">\n",
       "      <th></th>\n",
       "      <th>id</th>\n",
       "      <th>id_str</th>\n",
       "      <th>screen_name</th>\n",
       "      <th>location</th>\n",
       "      <th>description</th>\n",
       "      <th>url</th>\n",
       "      <th>followers_count</th>\n",
       "      <th>friends_count</th>\n",
       "      <th>listedcount</th>\n",
       "      <th>created_at</th>\n",
       "      <th>favourites_count</th>\n",
       "      <th>verified</th>\n",
       "      <th>statuses_count</th>\n",
       "      <th>lang</th>\n",
       "      <th>status</th>\n",
       "      <th>default_profile</th>\n",
       "      <th>default_profile_image</th>\n",
       "      <th>has_extended_profile</th>\n",
       "      <th>name</th>\n",
       "      <th>bot</th>\n",
       "    </tr>\n",
       "  </thead>\n",
       "  <tbody>\n",
       "    <tr>\n",
       "      <th>0</th>\n",
       "      <td>6708952.0</td>\n",
       "      <td>6708952.0</td>\n",
       "      <td>SteveCase</td>\n",
       "      <td>Washington DC</td>\n",
       "      <td>Author of The Third Wave: An Entrepreneur's Vi...</td>\n",
       "      <td>https://t.co/fKbrxjPNU4</td>\n",
       "      <td>788439</td>\n",
       "      <td>5297</td>\n",
       "      <td>10473</td>\n",
       "      <td>6/10/07 5:23</td>\n",
       "      <td>0</td>\n",
       "      <td>True</td>\n",
       "      <td>42990</td>\n",
       "      <td>en</td>\n",
       "      <td>Status(contributors=None, truncated=False, tex...</td>\n",
       "      <td>False</td>\n",
       "      <td>False</td>\n",
       "      <td>False</td>\n",
       "      <td>Steve Case</td>\n",
       "      <td>0</td>\n",
       "    </tr>\n",
       "  </tbody>\n",
       "</table>\n",
       "</div>"
      ],
      "text/plain": [
       "          id     id_str screen_name       location  \\\n",
       "0  6708952.0  6708952.0   SteveCase  Washington DC   \n",
       "\n",
       "                                         description                      url  \\\n",
       "0  Author of The Third Wave: An Entrepreneur's Vi...  https://t.co/fKbrxjPNU4   \n",
       "\n",
       "   followers_count  friends_count  listedcount    created_at  \\\n",
       "0           788439           5297        10473  6/10/07 5:23   \n",
       "\n",
       "   favourites_count verified  statuses_count lang  \\\n",
       "0                 0     True           42990   en   \n",
       "\n",
       "                                              status default_profile  \\\n",
       "0  Status(contributors=None, truncated=False, tex...           False   \n",
       "\n",
       "  default_profile_image has_extended_profile        name  bot  \n",
       "0                 False                False  Steve Case    0  "
      ]
     },
     "execution_count": 176,
     "metadata": {},
     "output_type": "execute_result"
    }
   ],
   "source": [
    "all_data.head(1)"
   ]
  },
  {
   "cell_type": "code",
   "execution_count": 177,
   "metadata": {
    "collapsed": true
   },
   "outputs": [],
   "source": [
    "train, test = train_test_split(all_data, test_size = 0.2)"
   ]
  },
  {
   "cell_type": "code",
   "execution_count": 178,
   "metadata": {
    "collapsed": false
   },
   "outputs": [
    {
     "data": {
      "text/plain": [
       "((1780, 20), (446, 20))"
      ]
     },
     "execution_count": 178,
     "metadata": {},
     "output_type": "execute_result"
    }
   ],
   "source": [
    "train.shape , test.shape"
   ]
  },
  {
   "cell_type": "markdown",
   "metadata": {},
   "source": [
    "# Visualizing Data"
   ]
  },
  {
   "cell_type": "code",
   "execution_count": 7,
   "metadata": {
    "collapsed": false
   },
   "outputs": [
    {
     "data": {
      "text/plain": [
       "<matplotlib.axes._subplots.AxesSubplot at 0x10f16d790>"
      ]
     },
     "execution_count": 7,
     "metadata": {},
     "output_type": "execute_result"
    },
    {
     "data": {
      "image/png": "[encoded data removed]",
      "text/plain": [
       "<matplotlib.figure.Figure at 0x11a930910>"
      ]
     },
     "metadata": {},
     "output_type": "display_data"
    }
   ],
   "source": [
    "plt.title('Number of bot vs Number of people', y=1.1, size=15)\n",
    "sns.countplot('bot', data=train)"
   ]
  },
  {
   "cell_type": "code",
   "execution_count": 9,
   "metadata": {
    "collapsed": false
   },
   "outputs": [
    {
     "data": {
      "text/plain": [
       "<matplotlib.axes._subplots.AxesSubplot at 0x11ddd1cd0>"
      ]
     },
     "execution_count": 9,
     "metadata": {},
     "output_type": "execute_result"
    },
    {
     "data": {
      "image/png": "[encoded data removed]",
      "text/plain": [
       "<matplotlib.figure.Figure at 0x11dd2cc50>"
      ]
     },
     "metadata": {},
     "output_type": "display_data"
    }
   ],
   "source": [
    "plt.title('Bot count between default_profile Picture', size=20, y=1.1)\n",
    "sns.countplot(x = 'bot', hue='default_profile', data=train)"
   ]
  },
  {
   "cell_type": "code",
   "execution_count": 32,
   "metadata": {
    "collapsed": false
   },
   "outputs": [
    {
     "data": {
      "text/plain": [
       "<matplotlib.axes._subplots.AxesSubplot at 0x119aa9250>"
      ]
     },
     "execution_count": 32,
     "metadata": {},
     "output_type": "execute_result"
    },
    {
     "data": {
      "image/png": "[encoded data removed]",
      "text/plain": [
       "<matplotlib.figure.Figure at 0x1197caa50>"
      ]
     },
     "metadata": {},
     "output_type": "display_data"
    }
   ],
   "source": [
    "plt.title('Followers Count for Bot', size=20, y=1.1)\n",
    "df1 = train[['followers_count','bot']]\n",
    "bot_len  = df1.ix[(df1['bot']==1)]\n",
    "sns.distplot(bot_len['followers_count'], rug=True, hist=False)"
   ]
  },
  {
   "cell_type": "code",
   "execution_count": 33,
   "metadata": {
    "collapsed": false
   },
   "outputs": [
    {
     "data": {
      "text/plain": [
       "<matplotlib.axes._subplots.AxesSubplot at 0x11645c090>"
      ]
     },
     "execution_count": 33,
     "metadata": {},
     "output_type": "execute_result"
    },
    {
     "data": {
      "image/png": "[encoded data removed]",
      "text/plain": [
       "<matplotlib.figure.Figure at 0x116457b50>"
      ]
     },
     "metadata": {},
     "output_type": "display_data"
    }
   ],
   "source": [
    "plt.title('Followers Count for Human', size=20, y=1.1)\n",
    "df1 = train[['followers_count','bot']]\n",
    "bot_len  = df1.ix[(df1['bot']==0)]\n",
    "sns.distplot(bot_len['followers_count'], rug=True, hist=False)"
   ]
  },
  {
   "cell_type": "code",
   "execution_count": 44,
   "metadata": {
    "collapsed": false
   },
   "outputs": [
    {
     "data": {
      "image/png": "[encoded data removed]",
      "text/plain": [
       "<matplotlib.figure.Figure at 0x117ba6e10>"
      ]
     },
     "metadata": {},
     "output_type": "display_data"
    }
   ],
   "source": [
    "ax = sns.stripplot(x=\"verified\", y=\"friends_count\", hue=\"bot\",data=train)"
   ]
  },
  {
   "cell_type": "code",
   "execution_count": 34,
   "metadata": {
    "collapsed": false
   },
   "outputs": [
    {
     "data": {
      "text/plain": [
       "<seaborn.axisgrid.FacetGrid at 0x1258b4d10>"
      ]
     },
     "execution_count": 34,
     "metadata": {},
     "output_type": "execute_result"
    },
    {
     "data": {
      "image/png": "[encoded data removed]",
      "text/plain": [
       "<matplotlib.figure.Figure at 0x129ddcfd0>"
      ]
     },
     "metadata": {},
     "output_type": "display_data"
    }
   ],
   "source": [
    "import seaborn as sns\n",
    "sns.set(style=\"ticks\", context=\"talk\")\n",
    "pal = sns.cubehelix_palette(4, 1.5, .75, light=.6, dark=.2)\n",
    "g = sns.lmplot(x=\"statuses_count\", y=\"followers_count\", hue=\"bot\", data=train,\n",
    "               palette=pal, size=7)\n",
    "g.set_axis_labels(\"statuses_count\", \"followers_count\")"
   ]
  },
  {
   "cell_type": "code",
   "execution_count": 40,
   "metadata": {
    "collapsed": false
   },
   "outputs": [
    {
     "data": {
      "text/plain": [
       "<seaborn.axisgrid.FacetGrid at 0x129018a90>"
      ]
     },
     "execution_count": 40,
     "metadata": {},
     "output_type": "execute_result"
    },
    {
     "data": {
      "image/png": "[encoded data removed]",
      "text/plain": [
       "<matplotlib.figure.Figure at 0x125578410>"
      ]
     },
     "metadata": {},
     "output_type": "display_data"
    }
   ],
   "source": [
    "sns.set(style=\"whitegrid\")\n",
    "# Draw a nested barplot to show survival for class and sex\n",
    "g = sns.factorplot(x=\"default_profile_image\", y=\"bot\", hue=\"default_profile\", data=train, size=6, kind=\"bar\", palette=\"muted\")\n",
    "g.despine(left=True)\n",
    "g.set_ylabels(\"bot probability\")"
   ]
  },
  {
   "cell_type": "code",
   "execution_count": 20,
   "metadata": {
    "collapsed": false
   },
   "outputs": [
    {
     "data": {
      "image/png": "[encoded data removed]",
      "text/plain": [
       "<matplotlib.figure.Figure at 0x1162d4390>"
      ]
     },
     "metadata": {},
     "output_type": "display_data"
    }
   ],
   "source": [
    "sns.set(style=\"ticks\")\n",
    "sns.countplot(x=\"has_extended_profile\", hue=\"bot\", data=test, palette=\"Set3\")\n",
    "sns.despine(offset=10, trim=True)"
   ]
  },
  {
   "cell_type": "code",
   "execution_count": 28,
   "metadata": {
    "collapsed": false
   },
   "outputs": [
    {
     "data": {
      "image/png": "[encoded data removed]",
      "text/plain": [
       "<matplotlib.figure.Figure at 0x1199c73d0>"
      ]
     },
     "metadata": {},
     "output_type": "display_data"
    }
   ],
   "source": [
    "f, (ax1, ax2) = plt.subplots(2, 1, sharex=True, figsize=(10,4))\n",
    "\n",
    "bins = 2\n",
    "\n",
    "ax1.scatter(train.listedcount[train.bot == 1],train.favourites_count[train.bot == 1],c='r')\n",
    "ax1.set_title('Bot')\n",
    "\n",
    "ax2.scatter( train.listedcount[train.bot == 0],train.favourites_count[train.bot == 0],c='g')\n",
    "ax2.set_title('Human')\n",
    "\n",
    "plt.xlabel('Favourites_count')\n",
    "plt.ylabel('Frequency')\n",
    "plt.show()"
   ]
  },
  {
   "cell_type": "markdown",
   "metadata": {},
   "source": [
    "# Transforming Features"
   ]
  },
  {
   "cell_type": "code",
   "execution_count": 35,
   "metadata": {
    "collapsed": true
   },
   "outputs": [],
   "source": [
    "def returnDates(x,valid):\n",
    "    formated_date = ''\n",
    "    months = {'Jan':1,'Feb':2,'Mar':3,'Apr':4,'May':5,'Jun':6,'Jul':7,'Aug':8,'Sep':9,'Oct':10,'Nov':11,'Dec':12}    \n",
    "    if x.startswith('\"') and x.endswith('\"'): x = x[1:-1]\n",
    "    if x.startswith(\"'\") and x.endswith(\"'\"): x = x[1:-1]\n",
    "    if x.startswith(\"'\"): x = x[1:]\n",
    "    date_split = x.split(' ')\n",
    "    if len(date_split) == 2:\n",
    "        _date = date_split[0].split('/')\n",
    "        _date[2] = '20'+_date[2]\n",
    "        formated_date = '/'.join(map(str,_date))\n",
    "        time = date_split[1]\n",
    "        #print formated_date , date_split, pd.to_datetime(formated_date, format='%m/%d/%Y', errors='coerce')\n",
    "    \n",
    "    elif len(date_split) == 6:\n",
    "        m = months[date_split[1]]\n",
    "        formated_date = '/'.join(map(str,[m,date_split[2],date_split[5]]))\n",
    "        if formated_date[-1] == '\"': formated_date = formated_date[:-1]\n",
    "        #print formated_date, date_split, pd.to_datetime(formated_date, format='%m/%d/%Y', errors='coerce')    \n",
    "    \n",
    "    if valid:\n",
    "        return pd.to_datetime(formated_date, format='%m/%d/%Y', errors='coerce')\n",
    "    else:\n",
    "        return pd.to_datetime(time,format='%H:%M').hour"
   ]
  },
  {
   "cell_type": "code",
   "execution_count": 179,
   "metadata": {
    "collapsed": true
   },
   "outputs": [],
   "source": [
    "def lexical_diversity(text):\n",
    "  if len(text) == 0:\n",
    "    diversity = 0\n",
    "  else: \n",
    "    diversity = float(len(set(text))) / len(text)\n",
    "  return diversity"
   ]
  },
  {
   "cell_type": "code",
   "execution_count": 180,
   "metadata": {
    "collapsed": false
   },
   "outputs": [
    {
     "name": "stderr",
     "output_type": "stream",
     "text": [
      "/Users/Vignesh/anaconda2/lib/python2.7/site-packages/ipykernel/__main__.py:38: SettingWithCopyWarning: \n",
      "A value is trying to be set on a copy of a slice from a DataFrame.\n",
      "Try using .loc[row_indexer,col_indexer] = value instead\n",
      "\n",
      "See the caveats in the documentation: http://pandas.pydata.org/pandas-docs/stable/indexing.html#indexing-view-versus-copy\n"
     ]
    },
    {
     "data": {
      "text/html": [
       "<div>\n",
       "<table border=\"1\" class=\"dataframe\">\n",
       "  <thead>\n",
       "    <tr style=\"text-align: right;\">\n",
       "      <th></th>\n",
       "      <th>screen_name</th>\n",
       "      <th>description</th>\n",
       "      <th>url</th>\n",
       "      <th>followers_count</th>\n",
       "      <th>friends_count</th>\n",
       "      <th>listedcount</th>\n",
       "      <th>favourites_count</th>\n",
       "      <th>verified</th>\n",
       "      <th>statuses_count</th>\n",
       "      <th>default_profile</th>\n",
       "      <th>default_profile_image</th>\n",
       "      <th>has_extended_profile</th>\n",
       "      <th>name</th>\n",
       "      <th>bot</th>\n",
       "      <th>modified_date</th>\n",
       "      <th>modified_hour</th>\n",
       "      <th>sn_length</th>\n",
       "      <th>desc_length</th>\n",
       "      <th>diversity</th>\n",
       "      <th>null_url</th>\n",
       "    </tr>\n",
       "  </thead>\n",
       "  <tbody>\n",
       "    <tr>\n",
       "      <th>2073</th>\n",
       "      <td>kazi_quaide</td>\n",
       "      <td>NaN</td>\n",
       "      <td>NaN</td>\n",
       "      <td>1</td>\n",
       "      <td>20</td>\n",
       "      <td>1</td>\n",
       "      <td>1</td>\n",
       "      <td>False</td>\n",
       "      <td>1</td>\n",
       "      <td>True</td>\n",
       "      <td>True</td>\n",
       "      <td>False</td>\n",
       "      <td>Kazi Quaide Azam</td>\n",
       "      <td>1</td>\n",
       "      <td>2017-03-05</td>\n",
       "      <td>14</td>\n",
       "      <td>11</td>\n",
       "      <td>3</td>\n",
       "      <td>0.818182</td>\n",
       "      <td>0</td>\n",
       "    </tr>\n",
       "    <tr>\n",
       "      <th>1782</th>\n",
       "      <td>JordinSparks</td>\n",
       "      <td>_��_ Romans 12 _��_ Herbalife  _���_��_ https:...</td>\n",
       "      <td>https://t.co/y8tPbfdT0H</td>\n",
       "      <td>4223758</td>\n",
       "      <td>5527</td>\n",
       "      <td>15781</td>\n",
       "      <td>667</td>\n",
       "      <td>True</td>\n",
       "      <td>44964</td>\n",
       "      <td>False</td>\n",
       "      <td>False</td>\n",
       "      <td>False</td>\n",
       "      <td>Jordin Sparks</td>\n",
       "      <td>0</td>\n",
       "      <td>2009-01-26</td>\n",
       "      <td>20</td>\n",
       "      <td>12</td>\n",
       "      <td>75</td>\n",
       "      <td>0.916667</td>\n",
       "      <td>1</td>\n",
       "    </tr>\n",
       "    <tr>\n",
       "      <th>271</th>\n",
       "      <td>DanicaPatrick</td>\n",
       "      <td>If you want to get to know me away from the tr...</td>\n",
       "      <td>http://t.co/cx33RX2uyr</td>\n",
       "      <td>1708907</td>\n",
       "      <td>270</td>\n",
       "      <td>13537</td>\n",
       "      <td>121</td>\n",
       "      <td>True</td>\n",
       "      <td>4724</td>\n",
       "      <td>False</td>\n",
       "      <td>False</td>\n",
       "      <td>False</td>\n",
       "      <td>Danica Patrick</td>\n",
       "      <td>0</td>\n",
       "      <td>2009-02-18</td>\n",
       "      <td>23</td>\n",
       "      <td>13</td>\n",
       "      <td>101</td>\n",
       "      <td>0.692308</td>\n",
       "      <td>1</td>\n",
       "    </tr>\n",
       "    <tr>\n",
       "      <th>1635</th>\n",
       "      <td>baeksehuniie</td>\n",
       "      <td>free follow from @itskaisehun go follow !</td>\n",
       "      <td>NaN</td>\n",
       "      <td>1557</td>\n",
       "      <td>4868</td>\n",
       "      <td>1</td>\n",
       "      <td>96</td>\n",
       "      <td>False</td>\n",
       "      <td>113</td>\n",
       "      <td>True</td>\n",
       "      <td>False</td>\n",
       "      <td>False</td>\n",
       "      <td>#Read Bio</td>\n",
       "      <td>1</td>\n",
       "      <td>2016-03-11</td>\n",
       "      <td>6</td>\n",
       "      <td>12</td>\n",
       "      <td>41</td>\n",
       "      <td>0.750000</td>\n",
       "      <td>0</td>\n",
       "    </tr>\n",
       "    <tr>\n",
       "      <th>903</th>\n",
       "      <td>tbrady14</td>\n",
       "      <td>Silver Fox Pro Rugby Player for @LeicesterTigers</td>\n",
       "      <td>NaN</td>\n",
       "      <td>102773</td>\n",
       "      <td>754</td>\n",
       "      <td>288</td>\n",
       "      <td>1517</td>\n",
       "      <td>True</td>\n",
       "      <td>3735</td>\n",
       "      <td>True</td>\n",
       "      <td>False</td>\n",
       "      <td>False</td>\n",
       "      <td>Tom Brady</td>\n",
       "      <td>0</td>\n",
       "      <td>2012-02-09</td>\n",
       "      <td>22</td>\n",
       "      <td>8</td>\n",
       "      <td>48</td>\n",
       "      <td>1.000000</td>\n",
       "      <td>0</td>\n",
       "    </tr>\n",
       "  </tbody>\n",
       "</table>\n",
       "</div>"
      ],
      "text/plain": [
       "        screen_name                                        description  \\\n",
       "2073    kazi_quaide                                                NaN   \n",
       "1782   JordinSparks  _��_ Romans 12 _��_ Herbalife  _���_��_ https:...   \n",
       "271   DanicaPatrick  If you want to get to know me away from the tr...   \n",
       "1635   baeksehuniie          free follow from @itskaisehun go follow !   \n",
       "903        tbrady14   Silver Fox Pro Rugby Player for @LeicesterTigers   \n",
       "\n",
       "                          url  followers_count  friends_count  listedcount  \\\n",
       "2073                      NaN                1             20            1   \n",
       "1782  https://t.co/y8tPbfdT0H          4223758           5527        15781   \n",
       "271    http://t.co/cx33RX2uyr          1708907            270        13537   \n",
       "1635                      NaN             1557           4868            1   \n",
       "903                       NaN           102773            754          288   \n",
       "\n",
       "      favourites_count verified  statuses_count default_profile  \\\n",
       "2073                 1    False               1            True   \n",
       "1782               667     True           44964           False   \n",
       "271                121     True            4724           False   \n",
       "1635                96    False             113            True   \n",
       "903               1517     True            3735            True   \n",
       "\n",
       "     default_profile_image has_extended_profile              name  bot  \\\n",
       "2073                  True                False  Kazi Quaide Azam    1   \n",
       "1782                 False                False     Jordin Sparks    0   \n",
       "271                  False                False    Danica Patrick    0   \n",
       "1635                 False                False         #Read Bio    1   \n",
       "903                  False                False         Tom Brady    0   \n",
       "\n",
       "     modified_date  modified_hour  sn_length  desc_length  diversity  null_url  \n",
       "2073    2017-03-05             14         11            3   0.818182         0  \n",
       "1782    2009-01-26             20         12           75   0.916667         1  \n",
       "271     2009-02-18             23         13          101   0.692308         1  \n",
       "1635    2016-03-11              6         12           41   0.750000         0  \n",
       "903     2012-02-09             22          8           48   1.000000         0  "
      ]
     },
     "execution_count": 180,
     "metadata": {},
     "output_type": "execute_result"
    }
   ],
   "source": [
    "def simplfy_followerscount(df):\n",
    "    df.followers_count = df.followers_count.apply(lambda x: int(x)+1)\n",
    "    return df  \n",
    "\n",
    "def simplfy_friendscount(df):\n",
    "    df.friends_count = df.friends_count.apply(lambda x: int(x)+1)\n",
    "    return df    \n",
    "\n",
    "def simplfy_listedcount(df):\n",
    "    df.loc[:,'listedcount']= df.listedcount.apply(lambda x: int(x)+1)\n",
    "    return df    \n",
    "\n",
    "def simplfy_favouritescount(df):\n",
    "    df.loc[:,'favourites_count']= df.favourites_count.apply(lambda x: int(x)+1)\n",
    "    return df  \n",
    "\n",
    "def simplfy_statusescount(df):\n",
    "    df.loc[:,'statuses_count']= df.statuses_count.apply(lambda x: int(x)+1)\n",
    "    return df \n",
    "\n",
    "def drop_features(df):\n",
    "    return df.drop(['id', 'id_str', 'location','lang','status','created_at'], axis=1)\n",
    "\n",
    "def replace_None(df):\n",
    "    df.loc[:,'has_extended_profile'] = df['has_extended_profile'].fillna(df.has_extended_profile.median())\n",
    "    return df\n",
    "\n",
    "def format_date(df):\n",
    "    df.loc[:,'modified_date'] = df.created_at.apply(lambda x: returnDates(x,True))\n",
    "    df.loc[:,'modified_hour'] = df.created_at.apply(lambda x: returnDates(x,False))\n",
    "    return df\n",
    "\n",
    "def diversity(df):\n",
    "    df.loc[:,'description'].fillna(\"\")    \n",
    "    df.loc[:,'sn_length'] = df.screen_name.apply(lambda text: len(str(text)))\n",
    "    df.loc[:,'desc_length'] = df.description.apply(lambda text: len(str(text)))\n",
    "    grouped = df['screen_name']\n",
    "    df['diversity'] = grouped.apply(lexical_diversity)\n",
    "    df.loc[:,'null_url'] = df.url.apply(lambda x: 1 if (str(x).find('http'))!=-1 else 0)\n",
    "    return df\n",
    "\n",
    "\n",
    "def transform_features(df):\n",
    "    df = simplfy_followerscount(df)\n",
    "    df = simplfy_friendscount(df)\n",
    "    df = simplfy_listedcount(df)\n",
    "    df = simplfy_favouritescount(df)\n",
    "    df = simplfy_statusescount(df)   \n",
    "    df = replace_None(df)  \n",
    "    df = format_date(df)\n",
    "    df = diversity(df)\n",
    "    df = drop_features(df)\n",
    "    return df\n",
    "\n",
    "train = transform_features(train)\n",
    "test = transform_features(test)\n",
    "train.head()"
   ]
  },
  {
   "cell_type": "code",
   "execution_count": 68,
   "metadata": {
    "collapsed": false
   },
   "outputs": [
    {
     "data": {
      "image/png": "[encoded data removed]",
      "text/plain": [
       "<matplotlib.figure.Figure at 0x11f28b150>"
      ]
     },
     "metadata": {},
     "output_type": "display_data"
    }
   ],
   "source": [
    "f, (ax1, ax2) = plt.subplots(2, 1, sharex=True, figsize=(10,4))\n",
    "\n",
    "bins = 30\n",
    "\n",
    "ax1.hist(train.modified_hour[train.bot == 1])\n",
    "ax1.set_title('Bot')\n",
    "\n",
    "ax2.hist(train.modified_hour[train.bot == 0])\n",
    "ax2.set_title('Human')\n",
    "\n",
    "plt.xlabel('Hours')\n",
    "plt.ylabel('Frequency of each hour')\n",
    "plt.show()"
   ]
  },
  {
   "cell_type": "code",
   "execution_count": 74,
   "metadata": {
    "collapsed": false
   },
   "outputs": [
    {
     "data": {
      "text/plain": [
       "<matplotlib.text.Text at 0x11f23f310>"
      ]
     },
     "execution_count": 74,
     "metadata": {},
     "output_type": "execute_result"
    },
    {
     "data": {
      "image/png": "[encoded data removed]",
      "text/plain": [
       "<matplotlib.figure.Figure at 0x11f63b090>"
      ]
     },
     "metadata": {},
     "output_type": "display_data"
    }
   ],
   "source": [
    "df1 = train[['diversity','bot']]\n",
    "bot_ = df1.ix[(df1['bot']==1)]\n",
    "Nonbot_ = df1.ix[(df1['bot']==0)]\n",
    "from scipy.stats import norm\n",
    "ax = sns.distplot(bot_['diversity'], fit=norm, kde=False)\n",
    "plt.title('Distribution of ScreenName for bot')"
   ]
  },
  {
   "cell_type": "code",
   "execution_count": 75,
   "metadata": {
    "collapsed": false
   },
   "outputs": [
    {
     "data": {
      "text/plain": [
       "<matplotlib.text.Text at 0x119aa1150>"
      ]
     },
     "execution_count": 75,
     "metadata": {},
     "output_type": "execute_result"
    },
    {
     "data": {
      "image/png": "[encoded data removed]",
      "text/plain": [
       "<matplotlib.figure.Figure at 0x11f044650>"
      ]
     },
     "metadata": {},
     "output_type": "display_data"
    }
   ],
   "source": [
    "ax = sns.distplot(Nonbot_['diversity'], fit=norm, kde=False)\n",
    "plt.title('Distribution of ScreenName for Human')"
   ]
  },
  {
   "cell_type": "code",
   "execution_count": 66,
   "metadata": {
    "collapsed": false
   },
   "outputs": [
    {
     "data": {
      "text/plain": [
       "<matplotlib.text.Text at 0x11f05af50>"
      ]
     },
     "execution_count": 66,
     "metadata": {},
     "output_type": "execute_result"
    },
    {
     "data": {
      "image/png": "[encoded data removed]",
      "text/plain": [
       "<matplotlib.figure.Figure at 0x117a37050>"
      ]
     },
     "metadata": {},
     "output_type": "display_data"
    }
   ],
   "source": [
    "sns.countplot(x ='null_url', hue='bot' ,data=train)\n",
    "plt.title(\"No.of Empty URLs\")"
   ]
  },
  {
   "cell_type": "markdown",
   "metadata": {},
   "source": [
    "# Final Encoding\n",
    "\n",
    "The LabelEncoder in Scikit-learn will convert each unique string value into a number, making out data more flexible for various algorithms."
   ]
  },
  {
   "cell_type": "code",
   "execution_count": 181,
   "metadata": {
    "collapsed": false
   },
   "outputs": [
    {
     "data": {
      "text/html": [
       "<div>\n",
       "<table border=\"1\" class=\"dataframe\">\n",
       "  <thead>\n",
       "    <tr style=\"text-align: right;\">\n",
       "      <th></th>\n",
       "      <th>screen_name</th>\n",
       "      <th>description</th>\n",
       "      <th>url</th>\n",
       "      <th>followers_count</th>\n",
       "      <th>friends_count</th>\n",
       "      <th>listedcount</th>\n",
       "      <th>favourites_count</th>\n",
       "      <th>verified</th>\n",
       "      <th>statuses_count</th>\n",
       "      <th>default_profile</th>\n",
       "      <th>default_profile_image</th>\n",
       "      <th>has_extended_profile</th>\n",
       "      <th>name</th>\n",
       "      <th>bot</th>\n",
       "      <th>modified_date</th>\n",
       "      <th>modified_hour</th>\n",
       "      <th>sn_length</th>\n",
       "      <th>desc_length</th>\n",
       "      <th>diversity</th>\n",
       "      <th>null_url</th>\n",
       "    </tr>\n",
       "  </thead>\n",
       "  <tbody>\n",
       "    <tr>\n",
       "      <th>2073</th>\n",
       "      <td>kazi_quaide</td>\n",
       "      <td>NaN</td>\n",
       "      <td>NaN</td>\n",
       "      <td>0</td>\n",
       "      <td>19</td>\n",
       "      <td>0</td>\n",
       "      <td>0</td>\n",
       "      <td>0</td>\n",
       "      <td>0</td>\n",
       "      <td>1</td>\n",
       "      <td>1</td>\n",
       "      <td>0</td>\n",
       "      <td>Kazi Quaide Azam</td>\n",
       "      <td>1</td>\n",
       "      <td>2017-03-05</td>\n",
       "      <td>14</td>\n",
       "      <td>11</td>\n",
       "      <td>3</td>\n",
       "      <td>30</td>\n",
       "      <td>0</td>\n",
       "    </tr>\n",
       "    <tr>\n",
       "      <th>1782</th>\n",
       "      <td>JordinSparks</td>\n",
       "      <td>_��_ Romans 12 _��_ Herbalife  _���_��_ https:...</td>\n",
       "      <td>https://t.co/y8tPbfdT0H</td>\n",
       "      <td>1249</td>\n",
       "      <td>914</td>\n",
       "      <td>624</td>\n",
       "      <td>329</td>\n",
       "      <td>1</td>\n",
       "      <td>1539</td>\n",
       "      <td>0</td>\n",
       "      <td>0</td>\n",
       "      <td>0</td>\n",
       "      <td>Jordin Sparks</td>\n",
       "      <td>0</td>\n",
       "      <td>2009-01-26</td>\n",
       "      <td>20</td>\n",
       "      <td>12</td>\n",
       "      <td>75</td>\n",
       "      <td>39</td>\n",
       "      <td>1</td>\n",
       "    </tr>\n",
       "    <tr>\n",
       "      <th>271</th>\n",
       "      <td>DanicaPatrick</td>\n",
       "      <td>If you want to get to know me away from the tr...</td>\n",
       "      <td>http://t.co/cx33RX2uyr</td>\n",
       "      <td>1170</td>\n",
       "      <td>241</td>\n",
       "      <td>609</td>\n",
       "      <td>113</td>\n",
       "      <td>1</td>\n",
       "      <td>861</td>\n",
       "      <td>0</td>\n",
       "      <td>0</td>\n",
       "      <td>0</td>\n",
       "      <td>Danica Patrick</td>\n",
       "      <td>0</td>\n",
       "      <td>2009-02-18</td>\n",
       "      <td>23</td>\n",
       "      <td>13</td>\n",
       "      <td>101</td>\n",
       "      <td>20</td>\n",
       "      <td>1</td>\n",
       "    </tr>\n",
       "    <tr>\n",
       "      <th>1635</th>\n",
       "      <td>baeksehuniie</td>\n",
       "      <td>free follow from @itskaisehun go follow !</td>\n",
       "      <td>NaN</td>\n",
       "      <td>533</td>\n",
       "      <td>898</td>\n",
       "      <td>0</td>\n",
       "      <td>93</td>\n",
       "      <td>0</td>\n",
       "      <td>99</td>\n",
       "      <td>1</td>\n",
       "      <td>0</td>\n",
       "      <td>0</td>\n",
       "      <td>#Read Bio</td>\n",
       "      <td>1</td>\n",
       "      <td>2016-03-11</td>\n",
       "      <td>6</td>\n",
       "      <td>12</td>\n",
       "      <td>41</td>\n",
       "      <td>25</td>\n",
       "      <td>0</td>\n",
       "    </tr>\n",
       "    <tr>\n",
       "      <th>903</th>\n",
       "      <td>tbrady14</td>\n",
       "      <td>Silver Fox Pro Rugby Player for @LeicesterTigers</td>\n",
       "      <td>NaN</td>\n",
       "      <td>954</td>\n",
       "      <td>538</td>\n",
       "      <td>187</td>\n",
       "      <td>466</td>\n",
       "      <td>1</td>\n",
       "      <td>780</td>\n",
       "      <td>1</td>\n",
       "      <td>0</td>\n",
       "      <td>0</td>\n",
       "      <td>Tom Brady</td>\n",
       "      <td>0</td>\n",
       "      <td>2012-02-09</td>\n",
       "      <td>22</td>\n",
       "      <td>8</td>\n",
       "      <td>48</td>\n",
       "      <td>43</td>\n",
       "      <td>0</td>\n",
       "    </tr>\n",
       "  </tbody>\n",
       "</table>\n",
       "</div>"
      ],
      "text/plain": [
       "        screen_name                                        description  \\\n",
       "2073    kazi_quaide                                                NaN   \n",
       "1782   JordinSparks  _��_ Romans 12 _��_ Herbalife  _���_��_ https:...   \n",
       "271   DanicaPatrick  If you want to get to know me away from the tr...   \n",
       "1635   baeksehuniie          free follow from @itskaisehun go follow !   \n",
       "903        tbrady14   Silver Fox Pro Rugby Player for @LeicesterTigers   \n",
       "\n",
       "                          url  followers_count  friends_count  listedcount  \\\n",
       "2073                      NaN                0             19            0   \n",
       "1782  https://t.co/y8tPbfdT0H             1249            914          624   \n",
       "271    http://t.co/cx33RX2uyr             1170            241          609   \n",
       "1635                      NaN              533            898            0   \n",
       "903                       NaN              954            538          187   \n",
       "\n",
       "      favourites_count  verified  statuses_count  default_profile  \\\n",
       "2073                 0         0               0                1   \n",
       "1782               329         1            1539                0   \n",
       "271                113         1             861                0   \n",
       "1635                93         0              99                1   \n",
       "903                466         1             780                1   \n",
       "\n",
       "      default_profile_image  has_extended_profile              name  bot  \\\n",
       "2073                      1                     0  Kazi Quaide Azam    1   \n",
       "1782                      0                     0     Jordin Sparks    0   \n",
       "271                       0                     0    Danica Patrick    0   \n",
       "1635                      0                     0         #Read Bio    1   \n",
       "903                       0                     0         Tom Brady    0   \n",
       "\n",
       "     modified_date  modified_hour  sn_length  desc_length  diversity  null_url  \n",
       "2073    2017-03-05             14         11            3         30         0  \n",
       "1782    2009-01-26             20         12           75         39         1  \n",
       "271     2009-02-18             23         13          101         20         1  \n",
       "1635    2016-03-11              6         12           41         25         0  \n",
       "903     2012-02-09             22          8           48         43         0  "
      ]
     },
     "execution_count": 181,
     "metadata": {},
     "output_type": "execute_result"
    }
   ],
   "source": [
    "from sklearn import preprocessing\n",
    "def encode_features(df_train, df_test):\n",
    "    features = ['followers_count','friends_count','listedcount','favourites_count','verified','statuses_count', \\\n",
    "                'default_profile','default_profile_image','has_extended_profile',\\\n",
    "                'diversity','null_url','modified_hour']\n",
    "    df_combined = pd.concat([df_train[features], df_test[features]])\n",
    "    \n",
    "    for feature in features:\n",
    "        le = preprocessing.LabelEncoder()\n",
    "        le = le.fit(df_combined[feature])\n",
    "        df_train.loc[:,feature] = le.transform(df_train[feature])\n",
    "        df_test.loc[:,feature] = le.transform(df_test[feature])\n",
    "    return df_train, df_test\n",
    "    \n",
    "train, test = encode_features(train, test)\n",
    "train.head()"
   ]
  },
  {
   "cell_type": "code",
   "execution_count": 184,
   "metadata": {
    "collapsed": true
   },
   "outputs": [],
   "source": [
    "X_all = train.drop(['screen_name','description','description','url','name','modified_date','bot'], axis=1)\n",
    "y_all = train['bot']"
   ]
  },
  {
   "cell_type": "code",
   "execution_count": 185,
   "metadata": {
    "collapsed": false
   },
   "outputs": [
    {
     "data": {
      "text/plain": [
       "((1780, 14), (1780,))"
      ]
     },
     "execution_count": 185,
     "metadata": {},
     "output_type": "execute_result"
    }
   ],
   "source": [
    "X_all.shape, y_all.shape"
   ]
  },
  {
   "cell_type": "code",
   "execution_count": 186,
   "metadata": {
    "collapsed": false
   },
   "outputs": [
    {
     "data": {
      "text/html": [
       "<div>\n",
       "<table border=\"1\" class=\"dataframe\">\n",
       "  <thead>\n",
       "    <tr style=\"text-align: right;\">\n",
       "      <th></th>\n",
       "      <th>followers_count</th>\n",
       "      <th>friends_count</th>\n",
       "      <th>listedcount</th>\n",
       "      <th>favourites_count</th>\n",
       "      <th>verified</th>\n",
       "      <th>statuses_count</th>\n",
       "      <th>default_profile</th>\n",
       "      <th>default_profile_image</th>\n",
       "      <th>has_extended_profile</th>\n",
       "      <th>modified_hour</th>\n",
       "      <th>sn_length</th>\n",
       "      <th>desc_length</th>\n",
       "      <th>diversity</th>\n",
       "      <th>null_url</th>\n",
       "    </tr>\n",
       "  </thead>\n",
       "  <tbody>\n",
       "    <tr>\n",
       "      <th>2073</th>\n",
       "      <td>0</td>\n",
       "      <td>19</td>\n",
       "      <td>0</td>\n",
       "      <td>0</td>\n",
       "      <td>0</td>\n",
       "      <td>0</td>\n",
       "      <td>1</td>\n",
       "      <td>1</td>\n",
       "      <td>0</td>\n",
       "      <td>14</td>\n",
       "      <td>11</td>\n",
       "      <td>3</td>\n",
       "      <td>30</td>\n",
       "      <td>0</td>\n",
       "    </tr>\n",
       "  </tbody>\n",
       "</table>\n",
       "</div>"
      ],
      "text/plain": [
       "      followers_count  friends_count  listedcount  favourites_count  verified  \\\n",
       "2073                0             19            0                 0         0   \n",
       "\n",
       "      statuses_count  default_profile  default_profile_image  \\\n",
       "2073               0                1                      1   \n",
       "\n",
       "      has_extended_profile  modified_hour  sn_length  desc_length  diversity  \\\n",
       "2073                     0             14         11            3         30   \n",
       "\n",
       "      null_url  \n",
       "2073         0  "
      ]
     },
     "execution_count": 186,
     "metadata": {},
     "output_type": "execute_result"
    }
   ],
   "source": [
    "X_all.head(1)"
   ]
  },
  {
   "cell_type": "markdown",
   "metadata": {
    "collapsed": true
   },
   "source": [
    "# Feature Selection\n",
    "\n",
    "Feature selection is a process where you automatically select those features in your data that contribute most to the prediction variable or output in which you are interested.\n",
    "\n",
    "Having too many irrelevant features in your data can decrease the accuracy of the models. Three benefits of performing feature selection before modeling your data are:\n",
    "\n",
    "* Reduces Overfitting\n",
    "* Improves Accuracy\n",
    "* Reduces Training"
   ]
  },
  {
   "cell_type": "markdown",
   "metadata": {},
   "source": [
    "###  Recursive Feature Elimination\n",
    "The Recursive Feature Elimination (RFE) method is a feature selection approach. It works by recursively removing attributes and building a model on those attributes that remain."
   ]
  },
  {
   "cell_type": "code",
   "execution_count": 187,
   "metadata": {
    "collapsed": false
   },
   "outputs": [
    {
     "name": "stdout",
     "output_type": "stream",
     "text": [
      "Optimal number of features : 6\n"
     ]
    },
    {
     "data": {
      "image/png": "[encoded data removed]",
      "text/plain": [
       "<matplotlib.figure.Figure at 0x11a2c1a50>"
      ]
     },
     "metadata": {},
     "output_type": "display_data"
    }
   ],
   "source": [
    "# Create the RFE object and compute a cross-validated score.\n",
    "model = ExtraTreesClassifier()\n",
    "rfecv = RFECV(estimator=model, step=1, cv=StratifiedKFold(5),scoring='accuracy')\n",
    "rfecv.fit(X_all, y_all)\n",
    "\n",
    "print(\"Optimal number of features : %d\" % rfecv.n_features_)\n",
    "\n",
    "# Plot number of features VS. cross-validation scores\n",
    "plt.figure()\n",
    "plt.xlabel(\"Number of features selected\")\n",
    "plt.ylabel(\"Cross validation score (nb of correct classifications)\")\n",
    "plt.plot(range(1, len(rfecv.grid_scores_) + 1), rfecv.grid_scores_)\n",
    "plt.show()"
   ]
  },
  {
   "cell_type": "markdown",
   "metadata": {},
   "source": [
    "So the optimal number of features to proceed with is 6, will use the DecisionTree and with feature importance function, we can filter out the top 6 features"
   ]
  },
  {
   "cell_type": "code",
   "execution_count": 102,
   "metadata": {
    "collapsed": false
   },
   "outputs": [
    {
     "name": "stdout",
     "output_type": "stream",
     "text": [
      "[ 0.12961289  0.12347987  0.09669112  0.14292447  0.1353705   0.08053118\n",
      "  0.05133882  0.0054922   0.04456585  0.04227766  0.0454382   0.04804867\n",
      "  0.03747387  0.0167547 ]\n"
     ]
    }
   ],
   "source": [
    "from sklearn.ensemble import ExtraTreesClassifier\n",
    "model2 = ExtraTreesClassifier()\n",
    "model2.fit(X_all, y_all)\n",
    "print(model2.feature_importances_)"
   ]
  },
  {
   "cell_type": "code",
   "execution_count": 100,
   "metadata": {
    "collapsed": false
   },
   "outputs": [
    {
     "data": {
      "text/plain": [
       "['followers_count',\n",
       " 'friends_count',\n",
       " 'listedcount',\n",
       " 'favourites_count',\n",
       " 'verified',\n",
       " 'statuses_count',\n",
       " 'default_profile',\n",
       " 'default_profile_image',\n",
       " 'has_extended_profile',\n",
       " 'modified_hour',\n",
       " 'sn_length',\n",
       " 'desc_length',\n",
       " 'diversity',\n",
       " 'null_url']"
      ]
     },
     "execution_count": 100,
     "metadata": {},
     "output_type": "execute_result"
    }
   ],
   "source": [
    "list(X_all)"
   ]
  },
  {
   "cell_type": "markdown",
   "metadata": {},
   "source": [
    "So after the feature selection, we pick the top 6 features as,\n",
    "1. followers_count\n",
    "2. friends_count\n",
    "3. listedcount\n",
    "4. favourites_count\n",
    "5. verified\n",
    "6. statuses_count"
   ]
  },
  {
   "cell_type": "markdown",
   "metadata": {},
   "source": [
    "# Models"
   ]
  },
  {
   "cell_type": "markdown",
   "metadata": {},
   "source": [
    "### Baseline Model"
   ]
  },
  {
   "cell_type": "code",
   "execution_count": 108,
   "metadata": {
    "collapsed": false
   },
   "outputs": [
    {
     "data": {
      "text/plain": [
       "0.52470799640610966"
      ]
     },
     "execution_count": 108,
     "metadata": {},
     "output_type": "execute_result"
    }
   ],
   "source": [
    "#baseline model\n",
    "Mcc_pred = all_data\n",
    "Mcc_pred['pred'] = 0\n",
    "accuracy_score(Mcc_pred['pred'],Mcc_pred['bot'])"
   ]
  },
  {
   "cell_type": "code",
   "execution_count": 191,
   "metadata": {
    "collapsed": false
   },
   "outputs": [],
   "source": [
    "X_train = train.drop(['bot','modified_date','screen_name','description','url','name', 'default_profile',\\\n",
    "                    'default_profile_image','has_extended_profile','modified_hour','sn_length', \\\n",
    "                    'desc_length','diversity','null_url'], axis=1) \n",
    "y_train = train['bot']\n",
    "\n",
    "X_test = test.drop(['bot','modified_date','screen_name','description','url','name', 'default_profile',\\\n",
    "                    'default_profile_image','has_extended_profile','modified_hour','sn_length', \\\n",
    "                    'desc_length','diversity','null_url'], axis=1)\n",
    "y_test = test['bot']"
   ]
  },
  {
   "cell_type": "code",
   "execution_count": 192,
   "metadata": {
    "collapsed": false
   },
   "outputs": [
    {
     "data": {
      "text/plain": [
       "((1780, 6), (1780,))"
      ]
     },
     "execution_count": 192,
     "metadata": {},
     "output_type": "execute_result"
    }
   ],
   "source": [
    "X_train.shape,  y_train.shape"
   ]
  },
  {
   "cell_type": "code",
   "execution_count": 194,
   "metadata": {
    "collapsed": false
   },
   "outputs": [
    {
     "data": {
      "text/plain": [
       "((446, 6), (446,))"
      ]
     },
     "execution_count": 194,
     "metadata": {},
     "output_type": "execute_result"
    }
   ],
   "source": [
    "X_test.shape, y_test.shape"
   ]
  },
  {
   "cell_type": "markdown",
   "metadata": {},
   "source": [
    "### Decision Tree"
   ]
  },
  {
   "cell_type": "code",
   "execution_count": 203,
   "metadata": {
    "collapsed": false
   },
   "outputs": [
    {
     "data": {
      "text/plain": [
       "DecisionTreeClassifier(class_weight=None, criterion='gini', max_depth=6,\n",
       "            max_features=6, max_leaf_nodes=None, min_impurity_split=1e-08,\n",
       "            min_samples_leaf=8, min_samples_split=2,\n",
       "            min_weight_fraction_leaf=0.0, presort=False, random_state=None,\n",
       "            splitter='best')"
      ]
     },
     "execution_count": 203,
     "metadata": {},
     "output_type": "execute_result"
    }
   ],
   "source": [
    "# Decision Tree\n",
    "\n",
    "clf = DecisionTreeClassifier()\n",
    "\n",
    "parameters = {'max_features': [6], \n",
    "              'criterion': ['entropy', 'gini'],\n",
    "              'max_depth': [3, 5, 6], \n",
    "              'min_samples_split': [2, 3, 5],\n",
    "              'min_samples_leaf': [1,5,8],\n",
    "              'min_impurity_split': [0.00000001, 0.0000001]\n",
    "             }\n",
    "\n",
    "acc_scorer = make_scorer(accuracy_score)\n",
    "\n",
    "#grid search\n",
    "grid_obj = GridSearchCV(clf, parameters, scoring=acc_scorer)\n",
    "grid_obj = grid_obj.fit(X_train, y_train)\n",
    "\n",
    "# Set the clf to the best combination of parameters\n",
    "clf = grid_obj.best_estimator_\n",
    "\n",
    "clf.fit(X_train, y_train)"
   ]
  },
  {
   "cell_type": "code",
   "execution_count": 211,
   "metadata": {
    "collapsed": false
   },
   "outputs": [],
   "source": [
    "export_graphviz(clf,out_file='tree.dot') "
   ]
  },
  {
   "cell_type": "code",
   "execution_count": 204,
   "metadata": {
    "collapsed": false
   },
   "outputs": [
    {
     "name": "stdout",
     "output_type": "stream",
     "text": [
      "0.865470852018\n"
     ]
    }
   ],
   "source": [
    "predictions = clf.predict(X_test)\n",
    "print(accuracy_score(y_test, predictions))"
   ]
  },
  {
   "cell_type": "code",
   "execution_count": 205,
   "metadata": {
    "collapsed": false
   },
   "outputs": [
    {
     "name": "stdout",
     "output_type": "stream",
     "text": [
      "0.860594009406\n"
     ]
    }
   ],
   "source": [
    "print np.array(cross_val_score(clf, X_train, y_train, cv=10) ).mean()"
   ]
  },
  {
   "cell_type": "code",
   "execution_count": 201,
   "metadata": {
    "collapsed": false
   },
   "outputs": [
    {
     "name": "stdout",
     "output_type": "stream",
     "text": [
      "             precision    recall  f1-score   support\n",
      "\n",
      "          0       0.87      0.89      0.88       243\n",
      "          1       0.86      0.84      0.85       203\n",
      "\n",
      "avg / total       0.87      0.87      0.87       446\n",
      "\n"
     ]
    }
   ],
   "source": [
    "print classification_report(y_test,predictions)"
   ]
  },
  {
   "cell_type": "code",
   "execution_count": 207,
   "metadata": {
    "collapsed": false
   },
   "outputs": [
    {
     "data": {
      "image/png": "[encoded data removed]",
      "text/plain": [
       "<matplotlib.figure.Figure at 0x11f717610>"
      ]
     },
     "metadata": {},
     "output_type": "display_data"
    }
   ],
   "source": [
    "X = X_train.as_matrix()\n",
    "y = y_train.as_matrix()\n",
    "n_samples, n_features = X.shape\n",
    "\n",
    "cv = StratifiedKFold(n_splits=6)\n",
    "classifier = clf\n",
    "\n",
    "mean_tpr = 0.0\n",
    "mean_fpr = np.linspace(0, 1, 100)\n",
    "\n",
    "colors = cycle(['cyan', 'indigo', 'seagreen', 'yellow', 'blue', 'darkorange'])\n",
    "lw = 2\n",
    "\n",
    "i = 0\n",
    "for (train, test), color in zip(cv.split(X, y), colors):\n",
    "    probas_ = classifier.fit(X[train], y[train]).predict_proba(X[test])\n",
    "    # Compute ROC curve and area the curve\n",
    "    fpr, tpr, thresholds = roc_curve(y[test], probas_[:, 1])\n",
    "    mean_tpr += interp(mean_fpr, fpr, tpr)\n",
    "    mean_tpr[0] = 0.0\n",
    "    roc_auc = auc(fpr, tpr)\n",
    "    plt.plot(fpr, tpr, lw=lw, color=color,\n",
    "             label='ROC fold %d (area = %0.2f)' % (i, roc_auc))\n",
    "\n",
    "    i += 1\n",
    "plt.plot([0, 1], [0, 1], linestyle='--', lw=lw, color='k',\n",
    "         label='Luck')\n",
    "\n",
    "mean_tpr /= cv.get_n_splits(X, y)\n",
    "mean_tpr[-1] = 1.0\n",
    "mean_auc = auc(mean_fpr, mean_tpr)\n",
    "plt.plot(mean_fpr, mean_tpr, color='g', linestyle='--',\n",
    "         label='Mean ROC (area = %0.2f)' % mean_auc, lw=lw)\n",
    "\n",
    "plt.xlim([-0.05, 1.05])\n",
    "plt.ylim([-0.05, 1.05])\n",
    "plt.xlabel('False Positive Rate')\n",
    "plt.ylabel('True Positive Rate')\n",
    "plt.title('Receiver operating characteristic example')\n",
    "plt.legend(loc=\"lower right\")\n",
    "plt.show()"
   ]
  },
  {
   "cell_type": "code",
   "execution_count": 163,
   "metadata": {
    "collapsed": false
   },
   "outputs": [
    {
     "name": "stdout",
     "output_type": "stream",
     "text": [
      "638.240820734\n",
      "471.482758621\n"
     ]
    }
   ],
   "source": [
    "y_test = np.asarray(y_test)\n",
    "misclassified = np.where(y_test != clf.predict(X_test) & (y_test == 0))\n",
    "xx = train.ix[misclassified]\n",
    "test_mean_bot = train[train['bot'] == 0]\n",
    "print test_mean_bot.followers_count.mean()\n",
    "print xx.followers_count.mean()"
   ]
  },
  {
   "cell_type": "code",
   "execution_count": null,
   "metadata": {
    "collapsed": true
   },
   "outputs": [],
   "source": []
  }
 ],
 "metadata": {
  "kernelspec": {
   "display_name": "Python 2",
   "language": "python",
   "name": "python2"
  },
  "language_info": {
   "codemirror_mode": {
    "name": "ipython",
    "version": 2
   },
   "file_extension": ".py",
   "mimetype": "text/x-python",
   "name": "python",
   "nbconvert_exporter": "python",
   "pygments_lexer": "ipython2",
   "version": "2.7.13"
  }
 },
 "nbformat": 4,
 "nbformat_minor": 2
}
